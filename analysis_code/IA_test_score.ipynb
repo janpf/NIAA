{
 "cells": [
  {
   "cell_type": "code",
   "execution_count": 1,
   "metadata": {
    "tags": []
   },
   "outputs": [],
   "source": [
    "import sys\n",
    "sys.path.insert(0, \"..\")\n",
    "\n",
    "import pandas as pd\n",
    "import matplotlib.pyplot as plt\n",
    "import seaborn as sns\n",
    "from IA.utils import mapping, parameter_range\n",
    "from scipy import stats\n",
    "import math"
   ]
  },
  {
   "cell_type": "code",
   "execution_count": 2,
   "metadata": {
    "scrolled": true
   },
   "outputs": [
    {
     "output_type": "stream",
     "name": "stdout",
     "text": [
      "-rw-r--r-- 1 janpf janpf 902M Oct 27 01:04 .scratch.ckpts.IA.pexels.scores-None.change_regress.epoch-8.pth.txt\n-rw-r--r-- 1 janpf janpf 936M Oct 27 01:05 .scratch.ckpts.IA.pexels.scores-one.change_regress.epoch-5.pth.txt\n-rw-r--r-- 1 janpf janpf 935M Oct 27 01:05 .scratch.ckpts.IA.pexels.scores-one.change_regress.epoch-9.pth.txt\n"
     ]
    }
   ],
   "source": [
    "!ls -lah analysis/not_uploaded/IA/ | grep regress"
   ]
  },
  {
   "cell_type": "code",
   "execution_count": 5,
   "metadata": {
    "tags": []
   },
   "outputs": [
    {
     "output_type": "stream",
     "name": "stdout",
     "text": [
      "Index(['img', 'distortion', 'level', 'score', 'styles_contrast_strength',\n       'styles_brightness_strength', 'styles_saturation_strength',\n       'styles_shadows_strength', 'styles_highlights_strength',\n       'styles_exposure_strength', 'styles_vibrance_strength',\n       'styles_temperature_strength', 'styles_tint_strength',\n       'technical_jpeg_compression_strength',\n       'technical_defocus_blur_strength', 'technical_motion_blur_strength',\n       'technical_pixelate_strength', 'technical_gaussian_noise_strength',\n       'technical_impulse_noise_strength', 'composition_rotate_strength',\n       'composition_hcrop_strength', 'composition_vcrop_strength',\n       'composition_leftcornerscrop_strength',\n       'composition_rightcornerscrop_strength', 'composition_ratio_strength'],\n      dtype='object')\n"
     ]
    },
    {
     "output_type": "execute_result",
     "data": {
      "text/plain": [
       "                                                       img distortion  level  \\\n",
       "0        5/3/c/abbey-glass-religion-architecture-106158...   original    0.0   \n",
       "1        9/4/4/abraham-lincoln-lincoln-memorial-washing...   original    0.0   \n",
       "2        a/5/9/abstract-background-backgrounds-botany-8...   original    0.0   \n",
       "3          2/2/c/adler-bird-bird-of-prey-raptor-53587.jpeg   original    0.0   \n",
       "4                  a/0/7/adult-cute-face-female-41522.jpeg   original    0.0   \n",
       "...                                                    ...        ...    ...   \n",
       "2609995         0/d/b/wood-painting-window-cactus-6689.jpg      ratio    5.0   \n",
       "2609996                   0/1/0/wood-sky-forest-autumn.jpg      ratio    5.0   \n",
       "2609997                   0/d/2/wood-stool-wooden-wine.jpg      ratio    5.0   \n",
       "2609998                     b/5/e/wood-tree-brown-bark.jpg      ratio    5.0   \n",
       "2609999  f/3/2/yorkshire-terrier-terrier-dog-small-dog-...      ratio    5.0   \n",
       "\n",
       "            score  styles_contrast_strength  styles_brightness_strength  \\\n",
       "0        0.461914                  0.245361                   -0.075195   \n",
       "1        0.756348                  0.207764                   -0.211304   \n",
       "2        0.890137                  0.606934                   -0.140747   \n",
       "3        0.512207                  0.916992                   -0.916016   \n",
       "4        0.750977                  0.173828                    0.111206   \n",
       "...           ...                       ...                         ...   \n",
       "2609995  0.513672                  0.213379                   -0.258545   \n",
       "2609996  0.326904                  0.683105                   -0.647949   \n",
       "2609997  0.483154                  0.068420                   -0.022736   \n",
       "2609998  0.240967                  0.557129                   -0.431641   \n",
       "2609999  0.562500                  0.444580                   -0.348145   \n",
       "\n",
       "         styles_saturation_strength  styles_shadows_strength  \\\n",
       "0                         -0.041626                -0.066406   \n",
       "1                          0.346680                -0.062012   \n",
       "2                          0.610352                -0.027466   \n",
       "3                          0.281738                -0.796875   \n",
       "4                          0.050812                -0.588379   \n",
       "...                             ...                      ...   \n",
       "2609995                    0.170532                -0.634766   \n",
       "2609996                    0.239746                -0.371582   \n",
       "2609997                    0.551270                -0.170166   \n",
       "2609998                    0.061462                -0.634277   \n",
       "2609999                    0.193237                -0.331543   \n",
       "\n",
       "         styles_highlights_strength  styles_exposure_strength  ...  \\\n",
       "0                          0.291748                 -0.002167  ...   \n",
       "1                         -0.141113                 -0.161377  ...   \n",
       "2                          0.158447                  0.600098  ...   \n",
       "3                          0.280762                 -0.354980  ...   \n",
       "4                          1.097656                  0.172729  ...   \n",
       "...                             ...                       ...  ...   \n",
       "2609995                    0.247559                 -0.270508  ...   \n",
       "2609996                    0.209229                 -0.047180  ...   \n",
       "2609997                    0.175293                  0.088257  ...   \n",
       "2609998                    0.416016                  0.076660  ...   \n",
       "2609999                    0.135986                 -0.232910  ...   \n",
       "\n",
       "         technical_motion_blur_strength  technical_pixelate_strength  \\\n",
       "0                              0.298584                     0.582031   \n",
       "1                             -0.068359                     0.339844   \n",
       "2                             -0.284424                    -0.229004   \n",
       "3                             -0.104492                    -0.019531   \n",
       "4                             -0.112549                     0.289062   \n",
       "...                                 ...                          ...   \n",
       "2609995                        0.223633                     0.343262   \n",
       "2609996                        0.095947                     0.177246   \n",
       "2609997                        0.135010                     0.461182   \n",
       "2609998                        0.197021                     0.388672   \n",
       "2609999                        0.011719                     0.343018   \n",
       "\n",
       "         technical_gaussian_noise_strength  technical_impulse_noise_strength  \\\n",
       "0                                 0.311035                          0.277832   \n",
       "1                                 0.010010                          0.010254   \n",
       "2                                -0.626953                         -0.625000   \n",
       "3                                 0.066406                         -0.012695   \n",
       "4                                -0.173584                         -0.132324   \n",
       "...                                    ...                               ...   \n",
       "2609995                           0.041504                          0.030029   \n",
       "2609996                           0.201416                          0.142578   \n",
       "2609997                           0.099487                          0.082397   \n",
       "2609998                           0.205444                          0.132812   \n",
       "2609999                           0.106812                          0.069336   \n",
       "\n",
       "         composition_rotate_strength  composition_hcrop_strength  \\\n",
       "0                          -0.057190                   -0.269287   \n",
       "1                           0.219849                    0.003036   \n",
       "2                           0.163330                   -0.415283   \n",
       "3                          -0.031586                   -0.084473   \n",
       "4                           0.093811                   -0.058533   \n",
       "...                              ...                         ...   \n",
       "2609995                     0.329590                   -0.066895   \n",
       "2609996                    -0.059601                    0.329346   \n",
       "2609997                     0.053741                   -0.215576   \n",
       "2609998                    -0.008591                    0.314941   \n",
       "2609999                    -0.120728                   -0.088745   \n",
       "\n",
       "         composition_vcrop_strength  composition_leftcornerscrop_strength  \\\n",
       "0                          0.160889                              0.153809   \n",
       "1                         -0.238159                             -0.232910   \n",
       "2                          0.175049                              0.122131   \n",
       "3                         -0.413818                             -0.402344   \n",
       "4                          0.176270                              0.122375   \n",
       "...                             ...                                   ...   \n",
       "2609995                   -0.510254                             -0.518066   \n",
       "2609996                   -0.503906                             -0.480713   \n",
       "2609997                   -0.032806                             -0.012268   \n",
       "2609998                    0.023285                             -0.005432   \n",
       "2609999                    0.291260                              0.299805   \n",
       "\n",
       "         composition_rightcornerscrop_strength  composition_ratio_strength  \n",
       "0                                     0.167480                    0.028122  \n",
       "1                                    -0.227783                    0.070862  \n",
       "2                                     0.247559                    0.316406  \n",
       "3                                    -0.459961                    0.049896  \n",
       "4                                     0.218262                    0.088989  \n",
       "...                                        ...                         ...  \n",
       "2609995                              -0.507324                   -0.042450  \n",
       "2609996                              -0.495117                    0.131958  \n",
       "2609997                              -0.031128                    0.572266  \n",
       "2609998                               0.042664                   -0.265137  \n",
       "2609999                               0.259521                    0.725586  \n",
       "\n",
       "[2610000 rows x 25 columns]"
      ],
      "text/html": "<div>\n<style scoped>\n    .dataframe tbody tr th:only-of-type {\n        vertical-align: middle;\n    }\n\n    .dataframe tbody tr th {\n        vertical-align: top;\n    }\n\n    .dataframe thead th {\n        text-align: right;\n    }\n</style>\n<table border=\"1\" class=\"dataframe\">\n  <thead>\n    <tr style=\"text-align: right;\">\n      <th></th>\n      <th>img</th>\n      <th>distortion</th>\n      <th>level</th>\n      <th>score</th>\n      <th>styles_contrast_strength</th>\n      <th>styles_brightness_strength</th>\n      <th>styles_saturation_strength</th>\n      <th>styles_shadows_strength</th>\n      <th>styles_highlights_strength</th>\n      <th>styles_exposure_strength</th>\n      <th>...</th>\n      <th>technical_motion_blur_strength</th>\n      <th>technical_pixelate_strength</th>\n      <th>technical_gaussian_noise_strength</th>\n      <th>technical_impulse_noise_strength</th>\n      <th>composition_rotate_strength</th>\n      <th>composition_hcrop_strength</th>\n      <th>composition_vcrop_strength</th>\n      <th>composition_leftcornerscrop_strength</th>\n      <th>composition_rightcornerscrop_strength</th>\n      <th>composition_ratio_strength</th>\n    </tr>\n  </thead>\n  <tbody>\n    <tr>\n      <th>0</th>\n      <td>5/3/c/abbey-glass-religion-architecture-106158...</td>\n      <td>original</td>\n      <td>0.0</td>\n      <td>0.461914</td>\n      <td>0.245361</td>\n      <td>-0.075195</td>\n      <td>-0.041626</td>\n      <td>-0.066406</td>\n      <td>0.291748</td>\n      <td>-0.002167</td>\n      <td>...</td>\n      <td>0.298584</td>\n      <td>0.582031</td>\n      <td>0.311035</td>\n      <td>0.277832</td>\n      <td>-0.057190</td>\n      <td>-0.269287</td>\n      <td>0.160889</td>\n      <td>0.153809</td>\n      <td>0.167480</td>\n      <td>0.028122</td>\n    </tr>\n    <tr>\n      <th>1</th>\n      <td>9/4/4/abraham-lincoln-lincoln-memorial-washing...</td>\n      <td>original</td>\n      <td>0.0</td>\n      <td>0.756348</td>\n      <td>0.207764</td>\n      <td>-0.211304</td>\n      <td>0.346680</td>\n      <td>-0.062012</td>\n      <td>-0.141113</td>\n      <td>-0.161377</td>\n      <td>...</td>\n      <td>-0.068359</td>\n      <td>0.339844</td>\n      <td>0.010010</td>\n      <td>0.010254</td>\n      <td>0.219849</td>\n      <td>0.003036</td>\n      <td>-0.238159</td>\n      <td>-0.232910</td>\n      <td>-0.227783</td>\n      <td>0.070862</td>\n    </tr>\n    <tr>\n      <th>2</th>\n      <td>a/5/9/abstract-background-backgrounds-botany-8...</td>\n      <td>original</td>\n      <td>0.0</td>\n      <td>0.890137</td>\n      <td>0.606934</td>\n      <td>-0.140747</td>\n      <td>0.610352</td>\n      <td>-0.027466</td>\n      <td>0.158447</td>\n      <td>0.600098</td>\n      <td>...</td>\n      <td>-0.284424</td>\n      <td>-0.229004</td>\n      <td>-0.626953</td>\n      <td>-0.625000</td>\n      <td>0.163330</td>\n      <td>-0.415283</td>\n      <td>0.175049</td>\n      <td>0.122131</td>\n      <td>0.247559</td>\n      <td>0.316406</td>\n    </tr>\n    <tr>\n      <th>3</th>\n      <td>2/2/c/adler-bird-bird-of-prey-raptor-53587.jpeg</td>\n      <td>original</td>\n      <td>0.0</td>\n      <td>0.512207</td>\n      <td>0.916992</td>\n      <td>-0.916016</td>\n      <td>0.281738</td>\n      <td>-0.796875</td>\n      <td>0.280762</td>\n      <td>-0.354980</td>\n      <td>...</td>\n      <td>-0.104492</td>\n      <td>-0.019531</td>\n      <td>0.066406</td>\n      <td>-0.012695</td>\n      <td>-0.031586</td>\n      <td>-0.084473</td>\n      <td>-0.413818</td>\n      <td>-0.402344</td>\n      <td>-0.459961</td>\n      <td>0.049896</td>\n    </tr>\n    <tr>\n      <th>4</th>\n      <td>a/0/7/adult-cute-face-female-41522.jpeg</td>\n      <td>original</td>\n      <td>0.0</td>\n      <td>0.750977</td>\n      <td>0.173828</td>\n      <td>0.111206</td>\n      <td>0.050812</td>\n      <td>-0.588379</td>\n      <td>1.097656</td>\n      <td>0.172729</td>\n      <td>...</td>\n      <td>-0.112549</td>\n      <td>0.289062</td>\n      <td>-0.173584</td>\n      <td>-0.132324</td>\n      <td>0.093811</td>\n      <td>-0.058533</td>\n      <td>0.176270</td>\n      <td>0.122375</td>\n      <td>0.218262</td>\n      <td>0.088989</td>\n    </tr>\n    <tr>\n      <th>...</th>\n      <td>...</td>\n      <td>...</td>\n      <td>...</td>\n      <td>...</td>\n      <td>...</td>\n      <td>...</td>\n      <td>...</td>\n      <td>...</td>\n      <td>...</td>\n      <td>...</td>\n      <td>...</td>\n      <td>...</td>\n      <td>...</td>\n      <td>...</td>\n      <td>...</td>\n      <td>...</td>\n      <td>...</td>\n      <td>...</td>\n      <td>...</td>\n      <td>...</td>\n      <td>...</td>\n    </tr>\n    <tr>\n      <th>2609995</th>\n      <td>0/d/b/wood-painting-window-cactus-6689.jpg</td>\n      <td>ratio</td>\n      <td>5.0</td>\n      <td>0.513672</td>\n      <td>0.213379</td>\n      <td>-0.258545</td>\n      <td>0.170532</td>\n      <td>-0.634766</td>\n      <td>0.247559</td>\n      <td>-0.270508</td>\n      <td>...</td>\n      <td>0.223633</td>\n      <td>0.343262</td>\n      <td>0.041504</td>\n      <td>0.030029</td>\n      <td>0.329590</td>\n      <td>-0.066895</td>\n      <td>-0.510254</td>\n      <td>-0.518066</td>\n      <td>-0.507324</td>\n      <td>-0.042450</td>\n    </tr>\n    <tr>\n      <th>2609996</th>\n      <td>0/1/0/wood-sky-forest-autumn.jpg</td>\n      <td>ratio</td>\n      <td>5.0</td>\n      <td>0.326904</td>\n      <td>0.683105</td>\n      <td>-0.647949</td>\n      <td>0.239746</td>\n      <td>-0.371582</td>\n      <td>0.209229</td>\n      <td>-0.047180</td>\n      <td>...</td>\n      <td>0.095947</td>\n      <td>0.177246</td>\n      <td>0.201416</td>\n      <td>0.142578</td>\n      <td>-0.059601</td>\n      <td>0.329346</td>\n      <td>-0.503906</td>\n      <td>-0.480713</td>\n      <td>-0.495117</td>\n      <td>0.131958</td>\n    </tr>\n    <tr>\n      <th>2609997</th>\n      <td>0/d/2/wood-stool-wooden-wine.jpg</td>\n      <td>ratio</td>\n      <td>5.0</td>\n      <td>0.483154</td>\n      <td>0.068420</td>\n      <td>-0.022736</td>\n      <td>0.551270</td>\n      <td>-0.170166</td>\n      <td>0.175293</td>\n      <td>0.088257</td>\n      <td>...</td>\n      <td>0.135010</td>\n      <td>0.461182</td>\n      <td>0.099487</td>\n      <td>0.082397</td>\n      <td>0.053741</td>\n      <td>-0.215576</td>\n      <td>-0.032806</td>\n      <td>-0.012268</td>\n      <td>-0.031128</td>\n      <td>0.572266</td>\n    </tr>\n    <tr>\n      <th>2609998</th>\n      <td>b/5/e/wood-tree-brown-bark.jpg</td>\n      <td>ratio</td>\n      <td>5.0</td>\n      <td>0.240967</td>\n      <td>0.557129</td>\n      <td>-0.431641</td>\n      <td>0.061462</td>\n      <td>-0.634277</td>\n      <td>0.416016</td>\n      <td>0.076660</td>\n      <td>...</td>\n      <td>0.197021</td>\n      <td>0.388672</td>\n      <td>0.205444</td>\n      <td>0.132812</td>\n      <td>-0.008591</td>\n      <td>0.314941</td>\n      <td>0.023285</td>\n      <td>-0.005432</td>\n      <td>0.042664</td>\n      <td>-0.265137</td>\n    </tr>\n    <tr>\n      <th>2609999</th>\n      <td>f/3/2/yorkshire-terrier-terrier-dog-small-dog-...</td>\n      <td>ratio</td>\n      <td>5.0</td>\n      <td>0.562500</td>\n      <td>0.444580</td>\n      <td>-0.348145</td>\n      <td>0.193237</td>\n      <td>-0.331543</td>\n      <td>0.135986</td>\n      <td>-0.232910</td>\n      <td>...</td>\n      <td>0.011719</td>\n      <td>0.343018</td>\n      <td>0.106812</td>\n      <td>0.069336</td>\n      <td>-0.120728</td>\n      <td>-0.088745</td>\n      <td>0.291260</td>\n      <td>0.299805</td>\n      <td>0.259521</td>\n      <td>0.725586</td>\n    </tr>\n  </tbody>\n</table>\n<p>2610000 rows × 25 columns</p>\n</div>"
     },
     "metadata": {},
     "execution_count": 5
    }
   ],
   "source": [
    "df = pd.read_csv(\"analysis/not_uploaded/IA/.scratch.ckpts.IA.pexels.scores-one.change_regress.epoch-9.pth.txt\")\n",
    "\n",
    "for col in df.columns:\n",
    "    if not \"score\" in col:\n",
    "        continue\n",
    "\n",
    "    df[col] = df[col].apply(lambda row: eval(row)[0])\n",
    "\n",
    "print(df.columns)\n",
    "df"
   ]
  },
  {
   "cell_type": "code",
   "execution_count": 26,
   "metadata": {},
   "outputs": [
    {
     "output_type": "execute_result",
     "data": {
      "text/plain": [
       "(6802, 14999)"
      ]
     },
     "metadata": {},
     "execution_count": 26
    }
   ],
   "source": [
    "distortion = \"brightness\"\n",
    "polarity = \"pos\"\n",
    "\n",
    "orig_best = 0\n",
    "overall = 0\n",
    "\n",
    "\n",
    "original_df = df[df[\"distortion\"] == \"original\"]\n",
    "if distortion in parameter_range:\n",
    "    original_df[\"level\"] = parameter_range[distortion][\"default\"]\n",
    "\n",
    "parameter_df = df[df[\"distortion\"] == distortion]\n",
    "corr_df = pd.concat([parameter_df, original_df])[[\"img\", \"distortion\", \"level\", \"score\"]]\n",
    "\n",
    "if distortion in parameter_range:\n",
    "    default = parameter_range[distortion][\"default\"]\n",
    "else:\n",
    "    default = 0\n",
    "\n",
    "if polarity == \"pos\":\n",
    "    corr_df = corr_df[corr_df[\"level\"] >= default]\n",
    "else:\n",
    "    corr_df = corr_df[corr_df[\"level\"] <= default]\n",
    "\n",
    "corr_df[\"level\"] = corr_df[\"level\"].apply(lambda x: abs((x) - (default)))\n",
    "\n",
    "for i, f in enumerate(df[\"img\"].unique()):\n",
    "    corr_df_img = corr_df[corr_df[\"img\"] == f]\n",
    "    \n",
    "    max_val = float(max(corr_df_img[\"score\"]))\n",
    "    ori_val = float(corr_df_img[corr_df_img[\"distortion\"] == \"original\"].iloc[0][\"score\"])\n",
    "    \n",
    "    overall +=1\n",
    "    if math.isclose(max_val,ori_val):\n",
    "        orig_best +=1\n",
    "\n",
    "orig_best, overall"
   ]
  },
  {
   "cell_type": "code",
   "execution_count": 27,
   "metadata": {},
   "outputs": [
    {
     "output_type": "execute_result",
     "data": {
      "text/plain": [
       "0.45349689979331953"
      ]
     },
     "metadata": {},
     "execution_count": 27
    }
   ],
   "source": [
    "orig_best / overall"
   ]
  },
  {
   "cell_type": "code",
   "execution_count": 28,
   "metadata": {},
   "outputs": [
    {
     "output_type": "execute_result",
     "data": {
      "text/plain": [
       "2499.8333333333335"
      ]
     },
     "metadata": {},
     "execution_count": 28
    }
   ],
   "source": [
    "overall/6"
   ]
  },
  {
   "cell_type": "code",
   "execution_count": 29,
   "metadata": {},
   "outputs": [
    {
     "output_type": "execute_result",
     "data": {
      "text/plain": [
       "0.16666666666666666"
      ]
     },
     "metadata": {},
     "execution_count": 29
    }
   ],
   "source": [
    "1/6"
   ]
  },
  {
   "cell_type": "code",
   "execution_count": null,
   "metadata": {},
   "outputs": [],
   "source": []
  }
 ],
 "metadata": {
  "kernelspec": {
   "display_name": "NIAA",
   "language": "python",
   "name": "niaa"
  },
  "language_info": {
   "codemirror_mode": {
    "name": "ipython",
    "version": 3
   },
   "file_extension": ".py",
   "mimetype": "text/x-python",
   "name": "python",
   "nbconvert_exporter": "python",
   "pygments_lexer": "ipython3",
   "version": "3.8.5-final"
  }
 },
 "nbformat": 4,
 "nbformat_minor": 2
}