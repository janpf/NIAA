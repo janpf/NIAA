{
 "cells": [
  {
   "cell_type": "code",
   "execution_count": 2,
   "metadata": {
    "tags": []
   },
   "outputs": [],
   "source": [
    "import sys\n",
    "sys.path.insert(0, \"..\")\n",
    "\n",
    "import pandas as pd\n",
    "import matplotlib.pyplot as plt\n",
    "import seaborn as sns\n",
    "from IA.utils import mapping, parameter_range\n",
    "from scipy import stats\n",
    "import math"
   ]
  },
  {
   "cell_type": "code",
   "execution_count": 3,
   "metadata": {
    "scrolled": true
   },
   "outputs": [
    {
     "output_type": "stream",
     "name": "stdout",
     "text": [
      "-rw-r--r-- 1 janpf janpf 902M Nov  6 21:07 .scratch.ckpts.IA.pexels.scores-None.change_regress.epoch-8.pth.txt\n-rw-r--r-- 1 janpf janpf 952M Nov  6 21:07 .scratch.ckpts.IA.pexels.scores-one.change_regress.epoch-17.pth.txt\n-rw-r--r-- 1 janpf janpf 936M Nov  6 21:07 .scratch.ckpts.IA.pexels.scores-one.change_regress.epoch-5.pth.txt\n-rw-r--r-- 1 janpf janpf 935M Nov  6 21:07 .scratch.ckpts.IA.pexels.scores-one.change_regress.epoch-9.pth.txt\n"
     ]
    }
   ],
   "source": [
    "!ls -lah analysis/not_uploaded/IA/ | grep regress"
   ]
  },
  {
   "cell_type": "code",
   "execution_count": 4,
   "metadata": {
    "tags": []
   },
   "outputs": [],
   "source": [
    "df = pd.read_csv(\"analysis/not_uploaded/IA/.scratch.ckpts.IA.pexels.scores-one.epoch-13.pth.txt\")\n",
    "\n",
    "for col in df.columns:\n",
    "    if not \"score\" in col:\n",
    "        continue\n",
    "\n",
    "    df[col] = df[col].apply(lambda row: eval(row)[0])\n",
    "\n",
    "\n",
    "df[\"intensity\"] = [float(\"nan\")]*len(df)\n",
    "df.loc[df[\"level\"] == 0, \"intensity\"] = 0\n",
    "for t in [\"styles\", \"technical\", \"composition\"]:\n",
    "    for dist in mapping[t].keys():\n",
    "        for pol in mapping[t][dist].keys():\n",
    "            if pol == \"neg\":\n",
    "                for lvl, change in enumerate(reversed(mapping[t][dist][pol])):\n",
    "                    df.loc[(df[\"distortion\"] == change.split(\";\")[0])&(df[\"level\"] == float(change.split(\";\")[1])), \"intensity\"] = -(lvl+1)\n",
    "            if pol == \"pos\":\n",
    "                for lvl, change in enumerate(mapping[t][dist][pol]):\n",
    "                    df.loc[(df[\"distortion\"] == change.split(\";\")[0])&(df[\"level\"] == float(change.split(\";\")[1])), \"intensity\"] = lvl+1\n",
    "df[\"intensity\"] = df[\"intensity\"].astype(int)\n",
    "\n",
    "df"
   ]
  },
  {
   "cell_type": "code",
   "execution_count": 26,
   "metadata": {},
   "outputs": [
    {
     "output_type": "execute_result",
     "data": {
      "text/plain": [
       "(6802, 14999)"
      ]
     },
     "metadata": {},
     "execution_count": 26
    }
   ],
   "source": [
    "orig_best = 0\n",
    "overall = 0\n",
    "\n",
    "\n",
    "original_df = df[df[\"distortion\"] == \"original\"]\n",
    "if distortion in parameter_range:\n",
    "    original_df[\"level\"] = parameter_range[distortion][\"default\"]\n",
    "\n",
    "parameter_df = df[df[\"distortion\"] == distortion]\n",
    "corr_df = pd.concat([parameter_df, original_df])[[\"img\", \"distortion\", \"level\", \"score\"]]\n",
    "\n",
    "if distortion in parameter_range:\n",
    "    default = parameter_range[distortion][\"default\"]\n",
    "else:\n",
    "    default = 0\n",
    "\n",
    "if polarity == \"pos\":\n",
    "    corr_df = corr_df[corr_df[\"level\"] >= default]\n",
    "else:\n",
    "    corr_df = corr_df[corr_df[\"level\"] <= default]\n",
    "\n",
    "corr_df[\"level\"] = corr_df[\"level\"].apply(lambda x: abs((x) - (default)))\n",
    "\n",
    "for i, f in enumerate(df[\"img\"].unique()):\n",
    "    corr_df_img = corr_df[corr_df[\"img\"] == f]\n",
    "    \n",
    "    max_val = float(max(corr_df_img[\"score\"]))\n",
    "    ori_val = float(corr_df_img[corr_df_img[\"distortion\"] == \"original\"].iloc[0][\"score\"])\n",
    "    \n",
    "    overall +=1\n",
    "    if math.isclose(max_val,ori_val):\n",
    "        orig_best +=1\n",
    "\n",
    "orig_best, overall"
   ]
  },
  {
   "cell_type": "code",
   "execution_count": 27,
   "metadata": {},
   "outputs": [
    {
     "output_type": "execute_result",
     "data": {
      "text/plain": [
       "0.45349689979331953"
      ]
     },
     "metadata": {},
     "execution_count": 27
    }
   ],
   "source": [
    "orig_best / overall"
   ]
  },
  {
   "cell_type": "code",
   "execution_count": 28,
   "metadata": {},
   "outputs": [
    {
     "output_type": "execute_result",
     "data": {
      "text/plain": [
       "2499.8333333333335"
      ]
     },
     "metadata": {},
     "execution_count": 28
    }
   ],
   "source": [
    "overall/6"
   ]
  },
  {
   "cell_type": "code",
   "execution_count": 29,
   "metadata": {},
   "outputs": [
    {
     "output_type": "execute_result",
     "data": {
      "text/plain": [
       "0.16666666666666666"
      ]
     },
     "metadata": {},
     "execution_count": 29
    }
   ],
   "source": [
    "1/6"
   ]
  },
  {
   "cell_type": "code",
   "execution_count": null,
   "metadata": {},
   "outputs": [],
   "source": []
  }
 ],
 "metadata": {
  "kernelspec": {
   "display_name": "NIAA",
   "language": "python",
   "name": "niaa"
  },
  "language_info": {
   "codemirror_mode": {
    "name": "ipython",
    "version": 3
   },
   "file_extension": ".py",
   "mimetype": "text/x-python",
   "name": "python",
   "nbconvert_exporter": "python",
   "pygments_lexer": "ipython3",
   "version": "3.8.5-final"
  }
 },
 "nbformat": 4,
 "nbformat_minor": 2
}