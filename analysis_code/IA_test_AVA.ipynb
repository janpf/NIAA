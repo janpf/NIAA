{
 "cells": [
  {
   "cell_type": "code",
   "execution_count": null,
   "metadata": {
    "tags": []
   },
   "outputs": [],
   "source": [
    "import pandas as pd\n",
    "import matplotlib.pyplot as plt\n",
    "import seaborn as sns\n",
    "from IA.utils import mapping, parameter_range\n",
    "from scipy import stats\n",
    "import math\n",
    "from pathlib import Path\n",
    "\n",
    "import sklearn\n",
    "from sklearn.linear_model import LinearRegression\n",
    "from sklearn import svm\n",
    "\n",
    "from collections import defaultdict"
   ]
  },
  {
   "cell_type": "code",
   "execution_count": null,
   "metadata": {
    "tags": []
   },
   "outputs": [],
   "source": [
    "test_files = list(pd.read_csv(\"analysis/not_uploaded/AVA_test.csv\")[\"file\"])\n",
    "gt = pd.read_csv(\"analysis/not_uploaded/AVA_gt.txt\", sep=\" \").drop(columns=[\"Unnamed: 0\", \"semanticTagID1\", \"semanticTagID2\", \"challengeID\"])\n",
    "df = pd.read_csv(\"analysis/not_uploaded/IA/AVA/.scratch.ckpts.IA.pexels.scores-one.change_class.epoch-5.pth.txt\")\n",
    "#df = pd.read_csv(\"analysis/not_uploaded/IA/AVA/.scratch.ckpts.IA.pexels.scores-one.change_regress.epoch-9.pth.txt\")\n",
    "#df = pd.read_csv(\"analysis/not_uploaded/IA/AVA/.scratch.ckpts.IA.pexels.scores-one.epoch-13.pth.txt\")\n",
    "\n",
    "\n",
    "df[\"img\"] = df[\"img\"].apply(lambda row: Path(row).stem)\n",
    "df[\"score\"] = df[\"score\"].apply(lambda row: eval(row)[0])\n",
    "\n",
    "gt[\"votes\"] = gt.apply(lambda row: sum(list(row)[1:]), axis=1)\n",
    "gt[\"gt_score\"] = gt.apply(lambda row: sum([val * (i + 1) for i, val in enumerate(list(row)[1:-1])]), axis=1)\n",
    "gt[\"gt_score\"] = gt.apply(lambda row: row.gt_score / row.votes, axis=1)\n",
    "gt[\"gt_quality\"] = gt[\"gt_score\"].apply(lambda row: 1 if row > 5 else 0)\n",
    "gt = gt.drop(columns=[str(i) for i in range(1,11)] + [\"votes\"])\n",
    "\n",
    "df[\"img\"] = df[\"img\"].astype(int)\n",
    "gt[\"img\"] = gt[\"img\"].astype(int)\n",
    "\n",
    "df = df.set_index(\"img\")\n",
    "gt = gt.set_index(\"img\")\n",
    "\n",
    "df = gt.join(df).dropna().drop_duplicates()\n",
    "df[\"mode\"] = df.index.isin(test_files)\n",
    "df[\"mode\"] = df[\"mode\"].apply(lambda row: \"test\" if row else \"train\")\n",
    "\n",
    "train_df = df[df[\"mode\"] == \"train\"]\n",
    "test_df = df[df[\"mode\"] == \"test\"]\n",
    "\n",
    "df"
   ]
  },
  {
   "cell_type": "code",
   "execution_count": null,
   "metadata": {},
   "outputs": [],
   "source": [
    "stats.pearsonr(test_df[\"gt_score\"], test_df[\"score\"])"
   ]
  },
  {
   "cell_type": "code",
   "execution_count": null,
   "metadata": {},
   "outputs": [],
   "source": [
    "stats.spearmanr(test_df[\"gt_score\"], test_df[\"score\"])"
   ]
  },
  {
   "cell_type": "code",
   "execution_count": null,
   "metadata": {},
   "outputs": [],
   "source": [
    "sns.kdeplot(data=test_df, x=\"gt_score\", y=\"score\")"
   ]
  },
  {
   "cell_type": "code",
   "execution_count": null,
   "metadata": {},
   "outputs": [],
   "source": [
    "test_df.columns"
   ]
  },
  {
   "cell_type": "code",
   "execution_count": null,
   "metadata": {},
   "outputs": [],
   "source": [
    "features = [c for c in df.columns if c not in [\"gt_score\", \"gt_quality\", \"mode\"]]"
   ]
  },
  {
   "cell_type": "code",
   "execution_count": null,
   "metadata": {},
   "outputs": [],
   "source": [
    "reg = svm.SVR()\n",
    "reg.fit(train_df[features], train_df[\"gt_score\"])\n",
    "reg.score(test[features], test[\"gt_score\"])"
   ]
  },
  {
   "cell_type": "code",
   "execution_count": null,
   "metadata": {},
   "outputs": [],
   "source": [
    "reg.predict(test[features])"
   ]
  },
  {
   "cell_type": "code",
   "execution_count": null,
   "metadata": {},
   "outputs": [],
   "source": [
    "sns.kdeplot(x=test_df[\"gt_score\"], y=reg.predict(test[features]))"
   ]
  }
 ],
 "metadata": {
  "kernelspec": {
   "display_name": "Python 3",
   "name": "python3"
  },
  "language_info": {
   "codemirror_mode": {
    "name": "ipython",
    "version": 3
   },
   "file_extension": ".py",
   "mimetype": "text/x-python",
   "name": "python",
   "nbconvert_exporter": "python",
   "pygments_lexer": "ipython3",
   "version": "3.8.6-final"
  }
 },
 "nbformat": 4,
 "nbformat_minor": 2
}
