{
 "metadata": {
  "language_info": {
   "codemirror_mode": {
    "name": "ipython",
    "version": 3
   },
   "file_extension": ".py",
   "mimetype": "text/x-python",
   "name": "python",
   "nbconvert_exporter": "python",
   "pygments_lexer": "ipython3",
   "version": "3.8.5-final"
  },
  "orig_nbformat": 2,
  "kernelspec": {
   "name": "Python 3.8.5 64-bit ('venv': venv)",
   "display_name": "Python 3.8.5 64-bit ('venv': venv)",
   "metadata": {
    "interpreter": {
     "hash": "73342ffb4f39afd09b383dcd177331173d9f4e4f229d5295da570a820709ffee"
    }
   }
  }
 },
 "nbformat": 4,
 "nbformat_minor": 2,
 "cells": [
  {
   "cell_type": "code",
   "execution_count": null,
   "metadata": {
    "tags": []
   },
   "outputs": [],
   "source": [
    "import pandas as pd\n",
    "import matplotlib.pyplot as plt\n",
    "import seaborn as sns\n",
    "from IA.utils import mapping, parameter_range\n",
    "from scipy import stats\n",
    "import math"
   ]
  },
  {
   "cell_type": "code",
   "execution_count": null,
   "metadata": {
    "tags": []
   },
   "outputs": [],
   "source": [
    "df = pd.read_csv(\"analysis/not_uploaded/IA/.scratch.ckpts.IA.pexels.scores-None.change_regress.epoch-8.pth.txt\")\n",
    "\n",
    "df"
   ]
  },
  {
   "cell_type": "code",
   "execution_count": null,
   "metadata": {},
   "outputs": [],
   "source": [
    "pd.DataFrame(df[df[\"parameter\"] != \"original\"][[\"img\", \"styles_score\", \"technical_score\", \"composition_score\", \"score\"]].groupby(\"img\").max().to_records()).sort_values(\"img\")"
   ]
  },
  {
   "cell_type": "code",
   "execution_count": null,
   "metadata": {},
   "outputs": [],
   "source": [
    "df[df[\"parameter\"] == \"original\"][[\"img\", \"styles_score\", \"technical_score\", \"composition_score\", \"score\"]].sort_values(\"img\").reset_index()"
   ]
  },
  {
   "cell_type": "code",
   "execution_count": null,
   "metadata": {},
   "outputs": [],
   "source": [
    "# & (df[\"parameter\"] != \"pixelate\") & (df[\"parameter\"] != \"impulse_noise\")\n",
    "scores = pd.DataFrame(df[(df[\"parameter\"] != \"original\")][[\"img\", \"styles_score\", \"technical_score\", \"composition_score\"]].groupby(\"img\").max().to_records()).sort_values(\"img\").rename(columns={\"styles_score\":\"best_score_styles\", \"technical_score\":\"best_score_technical\", \"composition_score\":\"best_score_composition\"})\n",
    "scores[\"orig_score_styles\"] = df[df[\"parameter\"] == \"original\"][[\"img\", \"styles_score\"]].sort_values(\"img\").reset_index()[\"styles_score\"]\n",
    "scores[\"orig_score_technical\"] = df[df[\"parameter\"] == \"original\"][[\"img\", \"technical_score\"]].sort_values(\"img\").reset_index()[\"technical_score\"]\n",
    "scores[\"orig_score_composition\"] = df[df[\"parameter\"] == \"original\"][[\"img\", \"composition_score\"]].sort_values(\"img\").reset_index()[\"composition_score\"]\n",
    "scores[\"diff_styles\"] = scores[\"orig_score_styles\"] - scores[\"best_score_styles\"]\n",
    "scores[\"diff_technical\"] = scores[\"orig_score_technical\"] - scores[\"best_score_technical\"]\n",
    "scores[\"diff_composition\"] = scores[\"orig_score_composition\"] - scores[\"best_score_composition\"]\n",
    "scores"
   ]
  },
  {
   "cell_type": "code",
   "execution_count": null,
   "metadata": {},
   "outputs": [],
   "source": [
    "scores.nlargest(10, \"diff_styles\")"
   ]
  },
  {
   "cell_type": "code",
   "execution_count": null,
   "metadata": {},
   "outputs": [],
   "source": [
    "scores.nlargest(10, \"diff_technical\")"
   ]
  },
  {
   "cell_type": "code",
   "execution_count": null,
   "metadata": {},
   "outputs": [],
   "source": [
    "scores.nlargest(10, \"diff_composition\")"
   ]
  },
  {
   "cell_type": "code",
   "execution_count": null,
   "metadata": {},
   "outputs": [],
   "source": [
    "scores.nsmallest(10, \"diff_styles\")"
   ]
  },
  {
   "cell_type": "code",
   "execution_count": null,
   "metadata": {},
   "outputs": [],
   "source": [
    "scores.nsmallest(10, \"diff_technical\")"
   ]
  },
  {
   "cell_type": "code",
   "execution_count": null,
   "metadata": {},
   "outputs": [],
   "source": [
    "scores.nsmallest(10, \"diff_composition\")"
   ]
  },
  {
   "cell_type": "code",
   "execution_count": null,
   "metadata": {},
   "outputs": [],
   "source": [
    "nsmall = []\n",
    "for i, row in scores.nsmallest(10, \"diff_styles\").iterrows():\n",
    "    nsmall.append(df[(df[\"img\"] == row.img) & (df[\"styles_score\"] == row.best_score_styles)])\n",
    "pd.concat(nsmall)"
   ]
  },
  {
   "cell_type": "code",
   "execution_count": null,
   "metadata": {},
   "outputs": [],
   "source": [
    "nsmall = []\n",
    "for i, row in scores.nsmallest(10, \"diff_technical\").iterrows():\n",
    "    nsmall.append(df[(df[\"img\"] == row.img) & (df[\"technical_score\"] == row.best_score_technical)])\n",
    "pd.concat(nsmall)"
   ]
  },
  {
   "cell_type": "code",
   "execution_count": null,
   "metadata": {},
   "outputs": [],
   "source": [
    "nsmall = []\n",
    "for i, row in scores.nsmallest(10, \"diff_composition\").iterrows():\n",
    "    nsmall.append(df[(df[\"img\"] == row.img) & (df[\"composition_score\"] == row.best_score_composition)])\n",
    "pd.concat(nsmall)"
   ]
  },
  {
   "cell_type": "code",
   "execution_count": null,
   "metadata": {},
   "outputs": [],
   "source": [
    "sns.distplot(df[df[\"parameter\"] == \"original\"][\"score\"], label=\"original\")\n",
    "sns.distplot(df[df[\"parameter\"] != \"original\"][\"score\"], label=\"rest\")\n",
    "plt.legend()"
   ]
  },
  {
   "cell_type": "code",
   "execution_count": null,
   "metadata": {
    "tags": []
   },
   "outputs": [],
   "source": [
    "sns.distplot(df[df[\"parameter\"] == \"original\"][\"styles_score\"], label=\"original\")\n",
    "sns.distplot(df[df[\"parameter\"] != \"original\"][\"styles_score\"], label=\"rest\")\n",
    "plt.legend()"
   ]
  },
  {
   "cell_type": "code",
   "execution_count": null,
   "metadata": {},
   "outputs": [],
   "source": [
    "sns.distplot(df[df[\"parameter\"] == \"original\"][\"technical_score\"], label=\"original\")\n",
    "sns.distplot(df[df[\"parameter\"] != \"original\"][\"technical_score\"], label=\"rest\")\n",
    "plt.legend()"
   ]
  },
  {
   "cell_type": "code",
   "execution_count": null,
   "metadata": {},
   "outputs": [],
   "source": [
    "sns.distplot(df[df[\"parameter\"] == \"original\"][\"composition_score\"], label=\"original\")\n",
    "sns.distplot(df[df[\"parameter\"] != \"original\"][\"composition_score\"], label=\"rest\")\n",
    "plt.legend()"
   ]
  },
  {
   "cell_type": "code",
   "execution_count": null,
   "metadata": {},
   "outputs": [],
   "source": [
    "def histogram_distortion(distortion:str, score:str):\n",
    "    sns.distplot(df[df[\"parameter\"] == \"original\"][score], label=\"original\")\n",
    "    for change in (val for val in mapping[\"all_changes\"] if distortion in val):\n",
    "        parameter, change = change.split(\";\")\n",
    "        sns.distplot(df[(df[\"parameter\"] == parameter) & (df[\"change\"] == float(change))][score], label=f\"{parameter}: {change}\")\n",
    "    plt.legend()"
   ]
  },
  {
   "cell_type": "code",
   "execution_count": null,
   "metadata": {},
   "outputs": [],
   "source": [
    "def violin_distortion(distortion:str, score:str):\n",
    "    plot_frame = df[(df[\"parameter\"] == distortion) | (df[\"parameter\"] == \"original\")]\n",
    "    if distortion in parameter_range:\n",
    "        plot_frame.loc[plot_frame[\"parameter\"] == \"original\", \"change\"] = parameter_range[distortion][\"default\"]\n",
    "    sns.violinplot(data=plot_frame, x=\"change\", y=score, color=\"steelblue\")"
   ]
  },
  {
   "cell_type": "code",
   "execution_count": null,
   "metadata": {
    "tags": []
   },
   "outputs": [],
   "source": [
    "histogram_distortion(\"brightness\", \"styles_score\")"
   ]
  },
  {
   "cell_type": "code",
   "execution_count": null,
   "metadata": {},
   "outputs": [],
   "source": [
    "histogram_distortion(\"jpeg_compression\", \"technical_score\")"
   ]
  },
  {
   "cell_type": "code",
   "execution_count": null,
   "metadata": {},
   "outputs": [],
   "source": [
    "histogram_distortion(\"vcrop\", \"composition_score\")"
   ]
  },
  {
   "cell_type": "code",
   "execution_count": null,
   "metadata": {},
   "outputs": [],
   "source": [
    "violin_distortion(\"contrast\", \"styles_score\")"
   ]
  },
  {
   "cell_type": "code",
   "execution_count": null,
   "metadata": {},
   "outputs": [],
   "source": [
    "violin_distortion(\"jpeg_compression\", \"technical_score\")"
   ]
  },
  {
   "cell_type": "code",
   "execution_count": null,
   "metadata": {},
   "outputs": [],
   "source": [
    "violin_distortion(\"hcrop\", \"composition_score\")"
   ]
  },
  {
   "cell_type": "code",
   "execution_count": null,
   "metadata": {
    "tags": []
   },
   "outputs": [],
   "source": [
    "avg_scores = df[[\"parameter\",\"change\", \"score\", \"styles_score\", \"technical_score\", \"composition_score\"]].groupby([\"parameter\", \"change\"]).mean().reset_index()\n",
    "avg_scores.to_csv(\"analysis/SSMTIA/avg_scores.csv\", index=False)\n",
    "avg_scores"
   ]
  },
  {
   "cell_type": "code",
   "execution_count": null,
   "metadata": {},
   "outputs": [],
   "source": [
    "parameter = \"saturation\"\n",
    "sns.lineplot(data=avg_scores[avg_scores.parameter == parameter], x=\"change\", y=\"score\", label=\"score\")\n",
    "sns.lineplot(data=avg_scores[avg_scores.parameter == parameter], x=\"change\", y=\"styles_score\", label=\"style\")\n",
    "sns.lineplot(data=avg_scores[avg_scores.parameter == parameter], x=\"change\", y=\"technical_score\", label=\"technical\")\n",
    "sns.lineplot(data=avg_scores[avg_scores.parameter == parameter], x=\"change\", y=\"composition_score\", label=\"composition\")"
   ]
  },
  {
   "cell_type": "code",
   "execution_count": null,
   "metadata": {},
   "outputs": [],
   "source": [
    "def label(x, color, label):\n",
    "    ax = plt.gca()\n",
    "    ax.text(0, .2, label, fontweight=\"bold\", color=color,\n",
    "            ha=\"left\", va=\"center\", transform=ax.transAxes)\n",
    "\n",
    "fg = sns.FacetGrid(df[(df[\"parameter\"] == \"saturation\") & (df[\"change\"] == 1.0)], row=\"pred_change\", aspect=15, height=.5)\n",
    "fg.map(sns.kdeplot, \"pred_change_degree\")\n",
    "\n",
    "#fg.map(label, \"pred_change\")\n",
    "\n",
    "#fg.set_titles(\"\")\n",
    "#fg.set(yticks=[])\n",
    "#fg.despine(bottom=True, left=True)"
   ]
  },
  {
   "cell_type": "code",
   "execution_count": null,
   "metadata": {},
   "outputs": [],
   "source": [
    "def calculate_spearman(distortion: str, polarity: str, img_names=df[\"img\"].unique()):\n",
    "    corr_l = []\n",
    "    p_l = []\n",
    "    original_df = df[df[\"parameter\"] == \"original\"]\n",
    "    if distortion in parameter_range:\n",
    "        original_df[\"change\"] = parameter_range[distortion][\"default\"]\n",
    "\n",
    "    parameter_df = df[df[\"parameter\"] == distortion]\n",
    "    corr_df = pd.concat([parameter_df, original_df])[[\"img\", \"parameter\", \"change\", \"score\"]]\n",
    "\n",
    "    for i, f in enumerate(img_names):\n",
    "        if i % 1000 == 0:\n",
    "            print(i)\n",
    "        corr_df_img = corr_df[corr_df[\"img\"] == f]\n",
    "\n",
    "        if distortion in parameter_range:\n",
    "            default = parameter_range[distortion][\"default\"]\n",
    "        else:\n",
    "            default = 0\n",
    "\n",
    "        if polarity == \"pos\":\n",
    "            corr_df_img = corr_df_img[corr_df_img[\"change\"] >= default]\n",
    "        else:\n",
    "            corr_df_img = corr_df_img[corr_df_img[\"change\"] <= default]\n",
    "\n",
    "        corr_df_img[\"change\"] = corr_df_img[\"change\"].apply(lambda x: abs((x) - (default)))\n",
    "\n",
    "        c, p = stats.spearmanr(corr_df_img[\"score\"], corr_df_img[\"change\"])\n",
    "        if math.isnan(c) or math.isnan(p):\n",
    "            continue\n",
    "        corr_l.append(c)\n",
    "        p_l.append(p)\n",
    "    return sum(corr_l) / len(corr_l), sum(p_l) / len(p_l)"
   ]
  },
  {
   "cell_type": "code",
   "execution_count": null,
   "metadata": {
    "tags": []
   },
   "outputs": [],
   "source": [
    "calculate_spearman(distortion=\"brightness\", polarity=\"neg\")"
   ]
  },
  {
   "cell_type": "code",
   "execution_count": null,
   "metadata": {},
   "outputs": [],
   "source": []
  }
 ]
}