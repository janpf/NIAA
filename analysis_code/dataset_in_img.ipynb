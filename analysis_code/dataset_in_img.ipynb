{
 "metadata": {
  "language_info": {
   "codemirror_mode": {
    "name": "ipython",
    "version": 3
   },
   "file_extension": ".py",
   "mimetype": "text/x-python",
   "name": "python",
   "nbconvert_exporter": "python",
   "pygments_lexer": "ipython3",
   "version": "3.8.5-final"
  },
  "orig_nbformat": 2,
  "kernelspec": {
   "name": "Python 3.8.5 64-bit ('venv': venv)",
   "display_name": "Python 3.8.5 64-bit ('venv': venv)",
   "metadata": {
    "interpreter": {
     "hash": "73342ffb4f39afd09b383dcd177331173d9f4e4f229d5295da570a820709ffee"
    }
   }
  }
 },
 "nbformat": 4,
 "nbformat_minor": 2,
 "cells": [
  {
   "cell_type": "code",
   "execution_count": 8,
   "metadata": {
    "tags": []
   },
   "outputs": [],
   "source": [
    "import pandas as pd\n",
    "import matplotlib.pyplot as plt\n",
    "import seaborn as sns\n",
    "from IA.utils import mapping, parameter_range\n",
    "from scipy import stats\n",
    "import math\n",
    "from pathlib import Path\n",
    "\n",
    "import sklearn\n",
    "from sklearn.linear_model import LinearRegression\n",
    "from sklearn import svm\n",
    "from sklearn.multiclass import OneVsRestClassifier\n",
    "\n",
    "from collections import defaultdict"
   ]
  },
  {
   "cell_type": "code",
   "execution_count": 9,
   "metadata": {
    "tags": []
   },
   "outputs": [
    {
     "output_type": "execute_result",
     "data": {
      "text/plain": [
       "           img     score  styles_contrast_strength  \\\n",
       "13      483560  0.750488                  0.933105   \n",
       "23      423049  0.797363                  0.363770   \n",
       "37      952321  0.142822                 -0.037628   \n",
       "92      385949  0.846680                 -0.004475   \n",
       "106      58524  0.655762                 -0.074524   \n",
       "...        ...       ...                       ...   \n",
       "255362  177394  0.032043                 -0.034271   \n",
       "255402  924187  0.281738                  0.132080   \n",
       "255454  924217  0.427490                 -0.777832   \n",
       "255456  458455  0.935547                  0.487061   \n",
       "255502  431374  0.481934                  0.135986   \n",
       "\n",
       "        styles_brightness_strength  styles_saturation_strength  \\\n",
       "13                       -0.280273                    0.634766   \n",
       "23                       -0.072754                    0.207764   \n",
       "37                        0.352783                   -0.291504   \n",
       "92                       -0.263916                    0.129883   \n",
       "106                       0.283203                    0.021744   \n",
       "...                            ...                         ...   \n",
       "255362                   -0.023834                    0.016556   \n",
       "255402                   -0.282227                    0.540039   \n",
       "255454                    0.190308                    0.673828   \n",
       "255456                   -0.323975                    0.080139   \n",
       "255502                    0.040924                   -0.448242   \n",
       "\n",
       "        styles_shadows_strength  styles_highlights_strength  \\\n",
       "13                     0.163818                   -0.031433   \n",
       "23                     0.060028                    0.218628   \n",
       "37                    -0.133179                    0.366699   \n",
       "92                    -0.334229                   -0.134644   \n",
       "106                   -0.108276                    0.452148   \n",
       "...                         ...                         ...   \n",
       "255362                -0.616211                    0.640625   \n",
       "255402                -0.294922                    0.197754   \n",
       "255454                -0.483154                    0.187988   \n",
       "255456                 0.029434                    0.366455   \n",
       "255502                 0.144165                    0.115479   \n",
       "\n",
       "        styles_exposure_strength  styles_vibrance_strength  \\\n",
       "13                      0.588379                  0.148560   \n",
       "23                     -0.020828                  0.101746   \n",
       "37                      0.163696                  0.081299   \n",
       "92                     -0.057343                  0.106140   \n",
       "106                     0.138794                  0.100037   \n",
       "...                          ...                       ...   \n",
       "255362                  0.052795                  0.132080   \n",
       "255402                 -0.185059                  0.214355   \n",
       "255454                 -0.424316                  0.273682   \n",
       "255456                 -0.194336                  0.068787   \n",
       "255502                 -0.022095                 -0.021255   \n",
       "\n",
       "        styles_temperature_strength  ...  technical_impulse_noise_strength  \\\n",
       "13                         0.008797  ...                         -0.476562   \n",
       "23                        -0.206055  ...                         -0.008965   \n",
       "37                         0.009987  ...                          0.241821   \n",
       "92                         0.201294  ...                         -0.268799   \n",
       "106                        0.376221  ...                          0.029556   \n",
       "...                             ...  ...                               ...   \n",
       "255362                    -0.113037  ...                          0.396240   \n",
       "255402                     0.593262  ...                          0.131592   \n",
       "255454                    -0.306152  ...                          0.062805   \n",
       "255456                    -0.368896  ...                         -0.235840   \n",
       "255502                    -0.307617  ...                          0.141357   \n",
       "\n",
       "        composition_rotate_strength  composition_hcrop_strength  \\\n",
       "13                         0.314941                    0.131592   \n",
       "23                         0.140747                    0.035858   \n",
       "37                        -0.046051                   -0.082642   \n",
       "92                        -0.030014                   -0.016388   \n",
       "106                       -0.010918                   -0.092041   \n",
       "...                             ...                         ...   \n",
       "255362                     0.047424                   -0.073547   \n",
       "255402                    -0.108521                    0.081055   \n",
       "255454                    -0.164062                    0.178711   \n",
       "255456                    -0.182983                    0.391113   \n",
       "255502                     0.004105                    0.093811   \n",
       "\n",
       "        composition_vcrop_strength  composition_leftcornerscrop_strength  \\\n",
       "13                       -0.487305                             -0.405518   \n",
       "23                        0.154053                              0.151855   \n",
       "37                        0.098938                              0.081299   \n",
       "92                        0.352295                              0.393066   \n",
       "106                       0.133911                              0.097229   \n",
       "...                            ...                                   ...   \n",
       "255362                   -0.528320                             -0.555664   \n",
       "255402                   -0.335938                             -0.354980   \n",
       "255454                    0.125488                              0.119019   \n",
       "255456                   -0.291260                             -0.242188   \n",
       "255502                    0.029739                              0.044800   \n",
       "\n",
       "        composition_rightcornerscrop_strength  composition_ratio_strength  \\\n",
       "13                                  -0.453857                    0.551758   \n",
       "23                                   0.185669                    0.343018   \n",
       "37                                   0.118469                   -0.101624   \n",
       "92                                   0.367676                    0.243408   \n",
       "106                                  0.137085                    0.512207   \n",
       "...                                       ...                         ...   \n",
       "255362                              -0.510742                    0.162842   \n",
       "255402                              -0.340332                    0.713867   \n",
       "255454                               0.079956                    1.268555   \n",
       "255456                              -0.285156                    0.054230   \n",
       "255502                               0.025452                    0.508789   \n",
       "\n",
       "         mode  train_label                                  test_label  \n",
       "13      train            4                                          []  \n",
       "23       test           -1  [0, 0, 0, 0, 0, 1, 0, 0, 0, 0, 0, 0, 0, 0]  \n",
       "37       test           -1  [0, 1, 0, 0, 0, 0, 0, 0, 0, 0, 0, 0, 0, 0]  \n",
       "92       test           -1  [0, 0, 0, 0, 0, 0, 0, 0, 0, 0, 0, 1, 0, 0]  \n",
       "106     train           11                                          []  \n",
       "...       ...          ...                                         ...  \n",
       "255362  train           12                                          []  \n",
       "255402  train            8                                          []  \n",
       "255454  train            8                                          []  \n",
       "255456   test           -1  [0, 1, 0, 0, 0, 0, 0, 0, 0, 1, 1, 0, 0, 0]  \n",
       "255502  train            5                                          []  \n",
       "\n",
       "[14079 rows x 26 columns]"
      ],
      "text/html": "<div>\n<style scoped>\n    .dataframe tbody tr th:only-of-type {\n        vertical-align: middle;\n    }\n\n    .dataframe tbody tr th {\n        vertical-align: top;\n    }\n\n    .dataframe thead th {\n        text-align: right;\n    }\n</style>\n<table border=\"1\" class=\"dataframe\">\n  <thead>\n    <tr style=\"text-align: right;\">\n      <th></th>\n      <th>img</th>\n      <th>score</th>\n      <th>styles_contrast_strength</th>\n      <th>styles_brightness_strength</th>\n      <th>styles_saturation_strength</th>\n      <th>styles_shadows_strength</th>\n      <th>styles_highlights_strength</th>\n      <th>styles_exposure_strength</th>\n      <th>styles_vibrance_strength</th>\n      <th>styles_temperature_strength</th>\n      <th>...</th>\n      <th>technical_impulse_noise_strength</th>\n      <th>composition_rotate_strength</th>\n      <th>composition_hcrop_strength</th>\n      <th>composition_vcrop_strength</th>\n      <th>composition_leftcornerscrop_strength</th>\n      <th>composition_rightcornerscrop_strength</th>\n      <th>composition_ratio_strength</th>\n      <th>mode</th>\n      <th>train_label</th>\n      <th>test_label</th>\n    </tr>\n  </thead>\n  <tbody>\n    <tr>\n      <th>13</th>\n      <td>483560</td>\n      <td>0.750488</td>\n      <td>0.933105</td>\n      <td>-0.280273</td>\n      <td>0.634766</td>\n      <td>0.163818</td>\n      <td>-0.031433</td>\n      <td>0.588379</td>\n      <td>0.148560</td>\n      <td>0.008797</td>\n      <td>...</td>\n      <td>-0.476562</td>\n      <td>0.314941</td>\n      <td>0.131592</td>\n      <td>-0.487305</td>\n      <td>-0.405518</td>\n      <td>-0.453857</td>\n      <td>0.551758</td>\n      <td>train</td>\n      <td>4</td>\n      <td>[]</td>\n    </tr>\n    <tr>\n      <th>23</th>\n      <td>423049</td>\n      <td>0.797363</td>\n      <td>0.363770</td>\n      <td>-0.072754</td>\n      <td>0.207764</td>\n      <td>0.060028</td>\n      <td>0.218628</td>\n      <td>-0.020828</td>\n      <td>0.101746</td>\n      <td>-0.206055</td>\n      <td>...</td>\n      <td>-0.008965</td>\n      <td>0.140747</td>\n      <td>0.035858</td>\n      <td>0.154053</td>\n      <td>0.151855</td>\n      <td>0.185669</td>\n      <td>0.343018</td>\n      <td>test</td>\n      <td>-1</td>\n      <td>[0, 0, 0, 0, 0, 1, 0, 0, 0, 0, 0, 0, 0, 0]</td>\n    </tr>\n    <tr>\n      <th>37</th>\n      <td>952321</td>\n      <td>0.142822</td>\n      <td>-0.037628</td>\n      <td>0.352783</td>\n      <td>-0.291504</td>\n      <td>-0.133179</td>\n      <td>0.366699</td>\n      <td>0.163696</td>\n      <td>0.081299</td>\n      <td>0.009987</td>\n      <td>...</td>\n      <td>0.241821</td>\n      <td>-0.046051</td>\n      <td>-0.082642</td>\n      <td>0.098938</td>\n      <td>0.081299</td>\n      <td>0.118469</td>\n      <td>-0.101624</td>\n      <td>test</td>\n      <td>-1</td>\n      <td>[0, 1, 0, 0, 0, 0, 0, 0, 0, 0, 0, 0, 0, 0]</td>\n    </tr>\n    <tr>\n      <th>92</th>\n      <td>385949</td>\n      <td>0.846680</td>\n      <td>-0.004475</td>\n      <td>-0.263916</td>\n      <td>0.129883</td>\n      <td>-0.334229</td>\n      <td>-0.134644</td>\n      <td>-0.057343</td>\n      <td>0.106140</td>\n      <td>0.201294</td>\n      <td>...</td>\n      <td>-0.268799</td>\n      <td>-0.030014</td>\n      <td>-0.016388</td>\n      <td>0.352295</td>\n      <td>0.393066</td>\n      <td>0.367676</td>\n      <td>0.243408</td>\n      <td>test</td>\n      <td>-1</td>\n      <td>[0, 0, 0, 0, 0, 0, 0, 0, 0, 0, 0, 1, 0, 0]</td>\n    </tr>\n    <tr>\n      <th>106</th>\n      <td>58524</td>\n      <td>0.655762</td>\n      <td>-0.074524</td>\n      <td>0.283203</td>\n      <td>0.021744</td>\n      <td>-0.108276</td>\n      <td>0.452148</td>\n      <td>0.138794</td>\n      <td>0.100037</td>\n      <td>0.376221</td>\n      <td>...</td>\n      <td>0.029556</td>\n      <td>-0.010918</td>\n      <td>-0.092041</td>\n      <td>0.133911</td>\n      <td>0.097229</td>\n      <td>0.137085</td>\n      <td>0.512207</td>\n      <td>train</td>\n      <td>11</td>\n      <td>[]</td>\n    </tr>\n    <tr>\n      <th>...</th>\n      <td>...</td>\n      <td>...</td>\n      <td>...</td>\n      <td>...</td>\n      <td>...</td>\n      <td>...</td>\n      <td>...</td>\n      <td>...</td>\n      <td>...</td>\n      <td>...</td>\n      <td>...</td>\n      <td>...</td>\n      <td>...</td>\n      <td>...</td>\n      <td>...</td>\n      <td>...</td>\n      <td>...</td>\n      <td>...</td>\n      <td>...</td>\n      <td>...</td>\n      <td>...</td>\n    </tr>\n    <tr>\n      <th>255362</th>\n      <td>177394</td>\n      <td>0.032043</td>\n      <td>-0.034271</td>\n      <td>-0.023834</td>\n      <td>0.016556</td>\n      <td>-0.616211</td>\n      <td>0.640625</td>\n      <td>0.052795</td>\n      <td>0.132080</td>\n      <td>-0.113037</td>\n      <td>...</td>\n      <td>0.396240</td>\n      <td>0.047424</td>\n      <td>-0.073547</td>\n      <td>-0.528320</td>\n      <td>-0.555664</td>\n      <td>-0.510742</td>\n      <td>0.162842</td>\n      <td>train</td>\n      <td>12</td>\n      <td>[]</td>\n    </tr>\n    <tr>\n      <th>255402</th>\n      <td>924187</td>\n      <td>0.281738</td>\n      <td>0.132080</td>\n      <td>-0.282227</td>\n      <td>0.540039</td>\n      <td>-0.294922</td>\n      <td>0.197754</td>\n      <td>-0.185059</td>\n      <td>0.214355</td>\n      <td>0.593262</td>\n      <td>...</td>\n      <td>0.131592</td>\n      <td>-0.108521</td>\n      <td>0.081055</td>\n      <td>-0.335938</td>\n      <td>-0.354980</td>\n      <td>-0.340332</td>\n      <td>0.713867</td>\n      <td>train</td>\n      <td>8</td>\n      <td>[]</td>\n    </tr>\n    <tr>\n      <th>255454</th>\n      <td>924217</td>\n      <td>0.427490</td>\n      <td>-0.777832</td>\n      <td>0.190308</td>\n      <td>0.673828</td>\n      <td>-0.483154</td>\n      <td>0.187988</td>\n      <td>-0.424316</td>\n      <td>0.273682</td>\n      <td>-0.306152</td>\n      <td>...</td>\n      <td>0.062805</td>\n      <td>-0.164062</td>\n      <td>0.178711</td>\n      <td>0.125488</td>\n      <td>0.119019</td>\n      <td>0.079956</td>\n      <td>1.268555</td>\n      <td>train</td>\n      <td>8</td>\n      <td>[]</td>\n    </tr>\n    <tr>\n      <th>255456</th>\n      <td>458455</td>\n      <td>0.935547</td>\n      <td>0.487061</td>\n      <td>-0.323975</td>\n      <td>0.080139</td>\n      <td>0.029434</td>\n      <td>0.366455</td>\n      <td>-0.194336</td>\n      <td>0.068787</td>\n      <td>-0.368896</td>\n      <td>...</td>\n      <td>-0.235840</td>\n      <td>-0.182983</td>\n      <td>0.391113</td>\n      <td>-0.291260</td>\n      <td>-0.242188</td>\n      <td>-0.285156</td>\n      <td>0.054230</td>\n      <td>test</td>\n      <td>-1</td>\n      <td>[0, 1, 0, 0, 0, 0, 0, 0, 0, 1, 1, 0, 0, 0]</td>\n    </tr>\n    <tr>\n      <th>255502</th>\n      <td>431374</td>\n      <td>0.481934</td>\n      <td>0.135986</td>\n      <td>0.040924</td>\n      <td>-0.448242</td>\n      <td>0.144165</td>\n      <td>0.115479</td>\n      <td>-0.022095</td>\n      <td>-0.021255</td>\n      <td>-0.307617</td>\n      <td>...</td>\n      <td>0.141357</td>\n      <td>0.004105</td>\n      <td>0.093811</td>\n      <td>0.029739</td>\n      <td>0.044800</td>\n      <td>0.025452</td>\n      <td>0.508789</td>\n      <td>train</td>\n      <td>5</td>\n      <td>[]</td>\n    </tr>\n  </tbody>\n</table>\n<p>14079 rows × 26 columns</p>\n</div>"
     },
     "metadata": {},
     "execution_count": 9
    }
   ],
   "source": [
    "df = pd.read_csv(\"analysis/not_uploaded/IA/AVA/.scratch.ckpts.IA.pexels.scores-one.change_regress.epoch-9.pth.txt\")\n",
    "df[\"img\"] = df[\"img\"].apply(lambda row: int(Path(row).stem))\n",
    "df[\"score\"] = df[\"score\"].apply(lambda row: eval(row)[0])\n",
    "\n",
    "with open(\"analysis/not_uploaded/IA/AVA/style_image_lists/styles.txt\") as f:\n",
    "    styles_dict = [(int(line.split(\" \")[0]), line.split(\" \")[1].strip()) for line in f.readlines()]\n",
    "    styles_dict = dict(styles_dict)\n",
    "\n",
    "with open(\"analysis/not_uploaded/IA/AVA/style_image_lists/train.jpgl\") as f:\n",
    "    train_files = [int(line) for line in f.readlines()]\n",
    "\n",
    "with open(\"analysis/not_uploaded/IA/AVA/style_image_lists/train.lab\") as f:\n",
    "    train_label = [int(line) for line in f.readlines()]\n",
    "\n",
    "train_files = defaultdict(lambda: -1, zip(train_files, train_label))\n",
    "\n",
    "with open(\"analysis/not_uploaded/IA/AVA/style_image_lists/test.jpgl\") as f:\n",
    "    test_files = [int(line) for line in f.readlines()]\n",
    "\n",
    "with open(\"analysis/not_uploaded/IA/AVA/style_image_lists/test.multilab\") as f:\n",
    "    test_label = [line.strip().split(\" \") for line in f.readlines()]\n",
    "    test_label = [[int(lab) for lab in line] for line in test_label]\n",
    "\n",
    "test_files = defaultdict(lambda: [], zip(test_files, test_label))\n",
    "\n",
    "df = df[df[\"img\"].isin(train_files) | df[\"img\"].isin(test_files)]\n",
    "df[\"mode\"] = df[\"img\"].apply(lambda row: \"train\" if row in train_files else \"test\")\n",
    "\n",
    "df[\"train_label\"] = df[\"img\"].apply(lambda row: train_files[row])\n",
    "df[\"test_label\"] = df[\"img\"].apply(lambda row: test_files[row])\n",
    "\n",
    "df"
   ]
  },
  {
   "cell_type": "code",
   "execution_count": 10,
   "metadata": {},
   "outputs": [
    {
     "output_type": "execute_result",
     "data": {
      "text/plain": [
       "['score',\n",
       " 'styles_contrast_strength',\n",
       " 'styles_brightness_strength',\n",
       " 'styles_saturation_strength',\n",
       " 'styles_shadows_strength',\n",
       " 'styles_highlights_strength',\n",
       " 'styles_exposure_strength',\n",
       " 'styles_vibrance_strength',\n",
       " 'styles_temperature_strength',\n",
       " 'styles_tint_strength',\n",
       " 'technical_jpeg_compression_strength',\n",
       " 'technical_defocus_blur_strength',\n",
       " 'technical_motion_blur_strength',\n",
       " 'technical_pixelate_strength',\n",
       " 'technical_gaussian_noise_strength',\n",
       " 'technical_impulse_noise_strength',\n",
       " 'composition_rotate_strength',\n",
       " 'composition_hcrop_strength',\n",
       " 'composition_vcrop_strength',\n",
       " 'composition_leftcornerscrop_strength',\n",
       " 'composition_rightcornerscrop_strength',\n",
       " 'composition_ratio_strength',\n",
       " 'mode',\n",
       " 'train_label',\n",
       " 'test_label']"
      ]
     },
     "metadata": {},
     "execution_count": 10
    }
   ],
   "source": [
    "features = [c for c in df.columns if c not in [\"index\", \"img\"]]\n",
    "reg_df = df.dropna()\n",
    "train = reg_df[reg_df[\"mode\"]==\"train\"].reset_index()[features]\n",
    "test = reg_df[reg_df[\"mode\"]==\"test\"].reset_index()[features]\n",
    "features"
   ]
  },
  {
   "cell_type": "code",
   "execution_count": 46,
   "metadata": {},
   "outputs": [
    {
     "output_type": "execute_result",
     "data": {
      "text/plain": [
       "0.20275066548358472"
      ]
     },
     "metadata": {},
     "execution_count": 46
    }
   ],
   "source": [
    "reg = OneVsRestClassifier(svm.LinearSVC(class_weight='balanced'), n_jobs=-1).fit(train.drop(columns=[\"mode\", \"train_label\", \"test_label\"]), train[\"train_label\"])\n",
    "reg.score(train.drop(columns=[\"mode\", \"train_label\", \"test_label\"]), train[\"train_label\"])"
   ]
  },
  {
   "cell_type": "code",
   "execution_count": 51,
   "metadata": {},
   "outputs": [],
   "source": [
    "preds = []\n",
    "for est in reg.estimators_:\n",
    "    preds.append(est.predict(test.drop(columns=[\"mode\", \"train_label\", \"test_label\", \"pred\", \"y_pred\"])))"
   ]
  },
  {
   "cell_type": "code",
   "execution_count": 52,
   "metadata": {},
   "outputs": [],
   "source": [
    "y_pred = [[] for _ in range(len(preds[0]))]\n",
    "for est in preds:\n",
    "    for i, row in enumerate(est):\n",
    "        y_pred[i].append(row)\n",
    "test[\"y_pred\"] = y_pred"
   ]
  },
  {
   "cell_type": "code",
   "execution_count": 12,
   "metadata": {},
   "outputs": [],
   "source": [
    "test[\"pred\"] = reg.predict(test.drop(columns=[\"mode\", \"train_label\", \"test_label\"]))"
   ]
  },
  {
   "cell_type": "code",
   "execution_count": 53,
   "metadata": {},
   "outputs": [
    {
     "output_type": "execute_result",
     "data": {
      "text/plain": [
       "                                      test_label  \\\n",
       "0     [0, 0, 0, 0, 0, 1, 0, 0, 0, 0, 0, 0, 0, 0]   \n",
       "1     [0, 1, 0, 0, 0, 0, 0, 0, 0, 0, 0, 0, 0, 0]   \n",
       "2     [0, 0, 0, 0, 0, 0, 0, 0, 0, 0, 0, 1, 0, 0]   \n",
       "3     [0, 1, 0, 1, 0, 0, 0, 0, 0, 0, 0, 0, 0, 0]   \n",
       "4     [0, 1, 0, 0, 0, 0, 0, 1, 0, 0, 0, 0, 0, 0]   \n",
       "...                                          ...   \n",
       "2804  [0, 0, 0, 0, 0, 0, 0, 0, 1, 0, 0, 0, 0, 0]   \n",
       "2805  [0, 1, 0, 0, 0, 0, 0, 0, 0, 0, 0, 0, 0, 0]   \n",
       "2806  [0, 1, 0, 0, 0, 0, 0, 0, 0, 0, 0, 0, 1, 0]   \n",
       "2807  [1, 0, 0, 0, 0, 0, 0, 0, 0, 0, 0, 0, 0, 0]   \n",
       "2808  [0, 1, 0, 0, 0, 0, 0, 0, 0, 1, 1, 0, 0, 0]   \n",
       "\n",
       "                                          y_pred  \n",
       "0     [1, 0, 0, 0, 0, 1, 1, 1, 0, 0, 0, 1, 1, 0]  \n",
       "1     [0, 1, 0, 0, 0, 0, 0, 0, 1, 1, 0, 0, 1, 0]  \n",
       "2     [0, 0, 0, 0, 0, 1, 0, 0, 0, 1, 1, 1, 1, 0]  \n",
       "3     [0, 1, 1, 1, 0, 0, 0, 0, 1, 1, 0, 0, 0, 1]  \n",
       "4     [0, 0, 0, 1, 0, 0, 0, 0, 1, 1, 0, 0, 1, 1]  \n",
       "...                                          ...  \n",
       "2804  [0, 1, 1, 1, 0, 1, 0, 0, 0, 1, 0, 1, 1, 0]  \n",
       "2805  [1, 0, 0, 0, 0, 1, 1, 1, 0, 0, 0, 0, 1, 0]  \n",
       "2806  [0, 1, 0, 1, 0, 0, 0, 0, 1, 1, 0, 1, 0, 0]  \n",
       "2807  [0, 0, 1, 0, 0, 1, 0, 1, 0, 1, 1, 0, 0, 1]  \n",
       "2808  [1, 0, 0, 0, 0, 0, 0, 0, 0, 0, 0, 1, 0, 1]  \n",
       "\n",
       "[2809 rows x 2 columns]"
      ],
      "text/html": "<div>\n<style scoped>\n    .dataframe tbody tr th:only-of-type {\n        vertical-align: middle;\n    }\n\n    .dataframe tbody tr th {\n        vertical-align: top;\n    }\n\n    .dataframe thead th {\n        text-align: right;\n    }\n</style>\n<table border=\"1\" class=\"dataframe\">\n  <thead>\n    <tr style=\"text-align: right;\">\n      <th></th>\n      <th>test_label</th>\n      <th>y_pred</th>\n    </tr>\n  </thead>\n  <tbody>\n    <tr>\n      <th>0</th>\n      <td>[0, 0, 0, 0, 0, 1, 0, 0, 0, 0, 0, 0, 0, 0]</td>\n      <td>[1, 0, 0, 0, 0, 1, 1, 1, 0, 0, 0, 1, 1, 0]</td>\n    </tr>\n    <tr>\n      <th>1</th>\n      <td>[0, 1, 0, 0, 0, 0, 0, 0, 0, 0, 0, 0, 0, 0]</td>\n      <td>[0, 1, 0, 0, 0, 0, 0, 0, 1, 1, 0, 0, 1, 0]</td>\n    </tr>\n    <tr>\n      <th>2</th>\n      <td>[0, 0, 0, 0, 0, 0, 0, 0, 0, 0, 0, 1, 0, 0]</td>\n      <td>[0, 0, 0, 0, 0, 1, 0, 0, 0, 1, 1, 1, 1, 0]</td>\n    </tr>\n    <tr>\n      <th>3</th>\n      <td>[0, 1, 0, 1, 0, 0, 0, 0, 0, 0, 0, 0, 0, 0]</td>\n      <td>[0, 1, 1, 1, 0, 0, 0, 0, 1, 1, 0, 0, 0, 1]</td>\n    </tr>\n    <tr>\n      <th>4</th>\n      <td>[0, 1, 0, 0, 0, 0, 0, 1, 0, 0, 0, 0, 0, 0]</td>\n      <td>[0, 0, 0, 1, 0, 0, 0, 0, 1, 1, 0, 0, 1, 1]</td>\n    </tr>\n    <tr>\n      <th>...</th>\n      <td>...</td>\n      <td>...</td>\n    </tr>\n    <tr>\n      <th>2804</th>\n      <td>[0, 0, 0, 0, 0, 0, 0, 0, 1, 0, 0, 0, 0, 0]</td>\n      <td>[0, 1, 1, 1, 0, 1, 0, 0, 0, 1, 0, 1, 1, 0]</td>\n    </tr>\n    <tr>\n      <th>2805</th>\n      <td>[0, 1, 0, 0, 0, 0, 0, 0, 0, 0, 0, 0, 0, 0]</td>\n      <td>[1, 0, 0, 0, 0, 1, 1, 1, 0, 0, 0, 0, 1, 0]</td>\n    </tr>\n    <tr>\n      <th>2806</th>\n      <td>[0, 1, 0, 0, 0, 0, 0, 0, 0, 0, 0, 0, 1, 0]</td>\n      <td>[0, 1, 0, 1, 0, 0, 0, 0, 1, 1, 0, 1, 0, 0]</td>\n    </tr>\n    <tr>\n      <th>2807</th>\n      <td>[1, 0, 0, 0, 0, 0, 0, 0, 0, 0, 0, 0, 0, 0]</td>\n      <td>[0, 0, 1, 0, 0, 1, 0, 1, 0, 1, 1, 0, 0, 1]</td>\n    </tr>\n    <tr>\n      <th>2808</th>\n      <td>[0, 1, 0, 0, 0, 0, 0, 0, 0, 1, 1, 0, 0, 0]</td>\n      <td>[1, 0, 0, 0, 0, 0, 0, 0, 0, 0, 0, 1, 0, 1]</td>\n    </tr>\n  </tbody>\n</table>\n<p>2809 rows × 2 columns</p>\n</div>"
     },
     "metadata": {},
     "execution_count": 53
    }
   ],
   "source": [
    "test[[\"test_label\", \"y_pred\"]]"
   ]
  },
  {
   "cell_type": "code",
   "execution_count": 7,
   "metadata": {},
   "outputs": [],
   "source": [
    "test[\"found\"] = test.apply(lambda row: row.test_label[row.pred-1], axis=1)"
   ]
  },
  {
   "cell_type": "code",
   "execution_count": 8,
   "metadata": {},
   "outputs": [
    {
     "output_type": "execute_result",
     "data": {
      "text/plain": [
       "0.25311498754004985"
      ]
     },
     "metadata": {},
     "execution_count": 8
    }
   ],
   "source": [
    "sum(list(test[\"found\"]))/len(list(test[\"found\"]))"
   ]
  },
  {
   "cell_type": "code",
   "execution_count": 83,
   "metadata": {},
   "outputs": [],
   "source": [
    "test[\"pred\"] = clf.predict(test.drop(columns=[\"mode\", \"train_label\", \"test_label\", \"pred\", \"found\"]))"
   ]
  },
  {
   "cell_type": "code",
   "execution_count": 88,
   "metadata": {},
   "outputs": [],
   "source": [
    "probs = clf.predict_proba(test.drop(columns=[\"mode\", \"train_label\", \"test_label\", \"pred\", \"found\"]))"
   ]
  },
  {
   "cell_type": "code",
   "execution_count": 90,
   "metadata": {},
   "outputs": [],
   "source": [
    "probs2 = [[1 if score > 1/14 else 0 for score in i] for i in probs]"
   ]
  },
  {
   "cell_type": "code",
   "execution_count": 85,
   "metadata": {},
   "outputs": [
    {
     "output_type": "execute_result",
     "data": {
      "text/plain": [
       "                                      test_label  pred\n",
       "0     [0, 0, 0, 0, 0, 1, 0, 0, 0, 0, 0, 0, 0, 0]     8\n",
       "1     [0, 1, 0, 0, 0, 0, 0, 0, 0, 0, 0, 0, 0, 0]     1\n",
       "2     [0, 0, 0, 0, 0, 0, 0, 0, 0, 0, 0, 1, 0, 0]     1\n",
       "3     [0, 1, 0, 1, 0, 0, 0, 0, 0, 0, 0, 0, 0, 0]     2\n",
       "4     [0, 1, 0, 0, 0, 0, 0, 1, 0, 0, 0, 0, 0, 0]    11\n",
       "...                                          ...   ...\n",
       "2804  [0, 0, 0, 0, 0, 0, 0, 0, 1, 0, 0, 0, 0, 0]     9\n",
       "2805  [0, 1, 0, 0, 0, 0, 0, 0, 0, 0, 0, 0, 0, 0]    14\n",
       "2806  [0, 1, 0, 0, 0, 0, 0, 0, 0, 0, 0, 0, 1, 0]    12\n",
       "2807  [1, 0, 0, 0, 0, 0, 0, 0, 0, 0, 0, 0, 0, 0]    10\n",
       "2808  [0, 1, 0, 0, 0, 0, 0, 0, 0, 1, 1, 0, 0, 0]     5\n",
       "\n",
       "[2809 rows x 2 columns]"
      ],
      "text/html": "<div>\n<style scoped>\n    .dataframe tbody tr th:only-of-type {\n        vertical-align: middle;\n    }\n\n    .dataframe tbody tr th {\n        vertical-align: top;\n    }\n\n    .dataframe thead th {\n        text-align: right;\n    }\n</style>\n<table border=\"1\" class=\"dataframe\">\n  <thead>\n    <tr style=\"text-align: right;\">\n      <th></th>\n      <th>test_label</th>\n      <th>pred</th>\n    </tr>\n  </thead>\n  <tbody>\n    <tr>\n      <th>0</th>\n      <td>[0, 0, 0, 0, 0, 1, 0, 0, 0, 0, 0, 0, 0, 0]</td>\n      <td>8</td>\n    </tr>\n    <tr>\n      <th>1</th>\n      <td>[0, 1, 0, 0, 0, 0, 0, 0, 0, 0, 0, 0, 0, 0]</td>\n      <td>1</td>\n    </tr>\n    <tr>\n      <th>2</th>\n      <td>[0, 0, 0, 0, 0, 0, 0, 0, 0, 0, 0, 1, 0, 0]</td>\n      <td>1</td>\n    </tr>\n    <tr>\n      <th>3</th>\n      <td>[0, 1, 0, 1, 0, 0, 0, 0, 0, 0, 0, 0, 0, 0]</td>\n      <td>2</td>\n    </tr>\n    <tr>\n      <th>4</th>\n      <td>[0, 1, 0, 0, 0, 0, 0, 1, 0, 0, 0, 0, 0, 0]</td>\n      <td>11</td>\n    </tr>\n    <tr>\n      <th>...</th>\n      <td>...</td>\n      <td>...</td>\n    </tr>\n    <tr>\n      <th>2804</th>\n      <td>[0, 0, 0, 0, 0, 0, 0, 0, 1, 0, 0, 0, 0, 0]</td>\n      <td>9</td>\n    </tr>\n    <tr>\n      <th>2805</th>\n      <td>[0, 1, 0, 0, 0, 0, 0, 0, 0, 0, 0, 0, 0, 0]</td>\n      <td>14</td>\n    </tr>\n    <tr>\n      <th>2806</th>\n      <td>[0, 1, 0, 0, 0, 0, 0, 0, 0, 0, 0, 0, 1, 0]</td>\n      <td>12</td>\n    </tr>\n    <tr>\n      <th>2807</th>\n      <td>[1, 0, 0, 0, 0, 0, 0, 0, 0, 0, 0, 0, 0, 0]</td>\n      <td>10</td>\n    </tr>\n    <tr>\n      <th>2808</th>\n      <td>[0, 1, 0, 0, 0, 0, 0, 0, 0, 1, 1, 0, 0, 0]</td>\n      <td>5</td>\n    </tr>\n  </tbody>\n</table>\n<p>2809 rows × 2 columns</p>\n</div>"
     },
     "metadata": {},
     "execution_count": 85
    }
   ],
   "source": [
    "test[[\"test_label\", \"pred\"]]"
   ]
  },
  {
   "cell_type": "code",
   "execution_count": 60,
   "metadata": {},
   "outputs": [
    {
     "output_type": "stream",
     "name": "stdout",
     "text": [
      "0.14149139579349904\n0.2775476387738194\n0.06673960612691467\n0.0988909426987061\n0.22759856630824374\n0.11160318866253321\n0.2491258741258741\n0.07245155855096883\n0.09014869888475836\n0.13958810068649885\n0.28940568475452194\n0.15857605177993528\n0.08297320656871218\n0.07001044932079414\navg 0.14829649735969855\n"
     ]
    }
   ],
   "source": [
    "precs = []\n",
    "for i in range(14):\n",
    "    precs.append(sklearn.metrics.precision_score(test[\"test_label\"].apply(lambda row: row[i]), test[\"y_pred\"].apply(lambda row: row[i])))\n",
    "    print(precs[-1])\n",
    "print(\"avg\",sum(precs) / len(precs))"
   ]
  },
  {
   "cell_type": "code",
   "execution_count": 86,
   "metadata": {},
   "outputs": [],
   "source": [
    "test[\"found\"] = test.apply(lambda row: row.test_label[row.pred-1], axis=1)"
   ]
  },
  {
   "cell_type": "code",
   "execution_count": 87,
   "metadata": {},
   "outputs": [
    {
     "output_type": "execute_result",
     "data": {
      "text/plain": [
       "0.2121751512993948"
      ]
     },
     "metadata": {},
     "execution_count": 87
    }
   ],
   "source": [
    "sum(list(test[\"found\"]))/len(list(test[\"found\"]))"
   ]
  }
 ]
}