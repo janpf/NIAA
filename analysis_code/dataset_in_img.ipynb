{
 "metadata": {
  "language_info": {
   "codemirror_mode": {
    "name": "ipython",
    "version": 3
   },
   "file_extension": ".py",
   "mimetype": "text/x-python",
   "name": "python",
   "nbconvert_exporter": "python",
   "pygments_lexer": "ipython3",
   "version": "3.8.6-final"
  },
  "orig_nbformat": 2,
  "kernelspec": {
   "name": "niaa",
   "display_name": "NIAA"
  }
 },
 "nbformat": 4,
 "nbformat_minor": 2,
 "cells": [
  {
   "cell_type": "code",
   "execution_count": 17,
   "metadata": {},
   "outputs": [],
   "source": [
    "from collections import Counter"
   ]
  },
  {
   "cell_type": "code",
   "execution_count": 24,
   "metadata": {},
   "outputs": [],
   "source": [
    "with open(\"analysis/not_uploaded/detected_in_images.csv\") as f:\n",
    "    content = f.readlines()"
   ]
  },
  {
   "cell_type": "code",
   "execution_count": 25,
   "metadata": {},
   "outputs": [],
   "source": [
    "content = (line.strip() for line in content)\n",
    "content = (line.split(\";\")[1] for line in content if len(line.split()) > 1)\n",
    "content = (line.split(\":\") for line in content)\n",
    "content = [(line[0], eval(line[1])) for line in content]"
   ]
  },
  {
   "cell_type": "code",
   "execution_count": 27,
   "metadata": {},
   "outputs": [
    {
     "output_type": "execute_result",
     "data": {
      "text/plain": [
       "[('person', 44301),\n",
       " ('car', 3186),\n",
       " ('cup', 2880),\n",
       " ('bird', 2788),\n",
       " ('cell phone', 1749)]"
      ]
     },
     "metadata": {},
     "execution_count": 27
    }
   ],
   "source": [
    "objects = [line[0] for line in content]\n",
    "objects = Counter(objects)\n",
    "objects.most_common(5)"
   ]
  },
  {
   "cell_type": "code",
   "execution_count": 29,
   "metadata": {},
   "outputs": [],
   "source": [
    "with open(\"analysis/most_common_dataset_objects.tsv\", \"w\") as out:\n",
    "    out.writelines([f\"{obj[1]}\\t{obj[0]}\\n\" for obj in objects.most_common()])"
   ]
  },
  {
   "cell_type": "code",
   "execution_count": null,
   "metadata": {},
   "outputs": [],
   "source": []
  }
 ]
}