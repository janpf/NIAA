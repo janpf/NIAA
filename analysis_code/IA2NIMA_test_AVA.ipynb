{
 "metadata": {
  "language_info": {
   "codemirror_mode": {
    "name": "ipython",
    "version": 3
   },
   "file_extension": ".py",
   "mimetype": "text/x-python",
   "name": "python",
   "nbconvert_exporter": "python",
   "pygments_lexer": "ipython3",
   "version": "3.8.6-final"
  },
  "orig_nbformat": 2,
  "kernelspec": {
   "name": "python3",
   "display_name": "Python 3"
  }
 },
 "nbformat": 4,
 "nbformat_minor": 2,
 "cells": [
  {
   "cell_type": "code",
   "execution_count": 1,
   "metadata": {
    "tags": []
   },
   "outputs": [],
   "source": [
    "import pandas as pd\n",
    "import matplotlib.pyplot as plt\n",
    "import seaborn as sns\n",
    "from IA.utils import mapping, parameter_range\n",
    "from scipy import stats\n",
    "from pathlib import Path\n",
    "import math\n",
    "import swifter\n",
    "from sklearn import metrics\n",
    "from statsmodels.sandbox.stats.runs import mcnemar\n",
    "plt.style.reload_library()\n",
    "plt.style.use(['science'])"
   ]
  },
  {
   "cell_type": "code",
   "execution_count": 2,
   "metadata": {},
   "outputs": [
    {
     "output_type": "stream",
     "name": "stdout",
     "text": [
      "total 92M\ndrwxr-xr-x 2 janpf janpf 4.0K Nov 17 23:12 .\ndrwxr-xr-x 5 janpf janpf 4.0K Nov 18 00:24 ..\n-rw-r--r-- 1 janpf janpf 2.8M Nov 12 16:04 .scratch.ckpts.IA2NIMA.AVA.None.change_regress.epoch-0.pth.txt\n-rw-r--r-- 1 janpf janpf 2.8M Nov 12 16:04 .scratch.ckpts.IA2NIMA.AVA.None.change_regress.epoch-126.pth.txt\n-rw-r--r-- 1 janpf janpf 2.8M Nov 12 16:04 .scratch.ckpts.IA2NIMA.AVA.None.change_regress.epoch-149.pth.txt\n-rw-r--r-- 1 janpf janpf 2.8M Nov 12 16:04 .scratch.ckpts.IA2NIMA.AVA.None.change_regress.epoch-21.pth.txt\n-rw-r--r-- 1 janpf janpf 2.8M Nov 12 16:04 .scratch.ckpts.IA2NIMA.AVA.None.change_regress.epoch-22.pth.txt\n-rw-r--r-- 1 janpf janpf 2.8M Nov 12 16:04 .scratch.ckpts.IA2NIMA.AVA.imagenet.epoch-0.pth.txt\n-rw-r--r-- 1 janpf janpf 2.8M Nov 12 16:04 .scratch.ckpts.IA2NIMA.AVA.imagenet.epoch-14.pth.txt\n-rw-r--r-- 1 janpf janpf 2.8M Nov 12 16:04 .scratch.ckpts.IA2NIMA.AVA.imagenet.epoch-149.pth.txt\n-rw-r--r-- 1 janpf janpf 2.8M Nov 12 16:04 .scratch.ckpts.IA2NIMA.AVA.imagenet.epoch-15.pth.txt\n-rw-r--r-- 1 janpf janpf 2.8M Nov 12 16:04 .scratch.ckpts.IA2NIMA.AVA.one.change_class.epoch-0.pth.txt\n-rw-r--r-- 1 janpf janpf 2.8M Nov 12 16:04 .scratch.ckpts.IA2NIMA.AVA.one.change_class.epoch-149.pth.txt\n-rw-r--r-- 1 janpf janpf 2.8M Nov 12 16:04 .scratch.ckpts.IA2NIMA.AVA.one.change_class.epoch-19.pth.txt\n-rw-r--r-- 1 janpf janpf 2.8M Nov 12 16:04 .scratch.ckpts.IA2NIMA.AVA.one.change_class.epoch-20.pth.txt\n-rw-r--r-- 1 janpf janpf 2.8M Nov 12 16:04 .scratch.ckpts.IA2NIMA.AVA.one.change_class.epoch-89.pth.txt\n-rw-r--r-- 1 janpf janpf 2.8M Nov 12 16:04 .scratch.ckpts.IA2NIMA.AVA.one.change_regress.epoch-0.pth.txt\n-rw-r--r-- 1 janpf janpf 2.8M Nov 12 16:04 .scratch.ckpts.IA2NIMA.AVA.one.change_regress.epoch-149.pth.txt\n-rw-r--r-- 1 janpf janpf 2.8M Nov 12 16:04 .scratch.ckpts.IA2NIMA.AVA.one.change_regress.epoch-18.pth.txt\n-rw-r--r-- 1 janpf janpf 2.8M Nov 12 16:04 .scratch.ckpts.IA2NIMA.AVA.one.change_regress.epoch-19.pth.txt\n-rw-r--r-- 1 janpf janpf 2.8M Nov 12 16:03 .scratch.ckpts.IA2NIMA.AVA.one.change_regress.epoch-77.pth.txt\n-rw-r--r-- 1 janpf janpf 2.8M Nov 12 16:04 .scratch.ckpts.IA2NIMA.AVA.one.epoch-0.pth.txt\n-rw-r--r-- 1 janpf janpf 2.8M Nov 12 16:04 .scratch.ckpts.IA2NIMA.AVA.one.epoch-12.pth.txt\n-rw-r--r-- 1 janpf janpf 2.8M Nov 12 16:04 .scratch.ckpts.IA2NIMA.AVA.one.epoch-13.pth.txt\n-rw-r--r-- 1 janpf janpf 2.8M Nov 12 16:04 .scratch.ckpts.IA2NIMA.AVA.one.epoch-149.pth.txt\n-rw-r--r-- 1 janpf janpf 2.8M Nov 12 16:04 .scratch.ckpts.IA2NIMA.AVA.one.epoch-96.pth.txt\n-rw-r--r-- 1 janpf janpf 2.8M Nov 12 16:04 .scratch.ckpts.IA2NIMA.AVA.three.change_class.epoch-0.pth.txt\n-rw-r--r-- 1 janpf janpf 2.8M Nov 12 16:04 .scratch.ckpts.IA2NIMA.AVA.three.change_class.epoch-12.pth.txt\n-rw-r--r-- 1 janpf janpf 2.8M Nov 12 16:04 .scratch.ckpts.IA2NIMA.AVA.three.change_class.epoch-13.pth.txt\n-rw-r--r-- 1 janpf janpf 2.8M Nov 12 16:04 .scratch.ckpts.IA2NIMA.AVA.three.change_class.epoch-149.pth.txt\n-rw-r--r-- 1 janpf janpf 2.8M Nov 12 16:04 .scratch.ckpts.IA2NIMA.AVA.three.epoch-0.pth.txt\n-rw-r--r-- 1 janpf janpf 2.8M Nov 12 16:04 .scratch.ckpts.IA2NIMA.AVA.three.epoch-14.pth.txt\n-rw-r--r-- 1 janpf janpf 2.8M Nov 12 16:04 .scratch.ckpts.IA2NIMA.AVA.three.epoch-149.pth.txt\n-rw-r--r-- 1 janpf janpf 2.8M Nov 12 16:04 .scratch.ckpts.IA2NIMA.AVA.three.epoch-15.pth.txt\n-rw-r--r-- 1 janpf janpf 2.8M Nov 12 16:04 .scratch.ckpts.IA2NIMA.AVA.three.epoch-97.pth.txt\n"
     ]
    }
   ],
   "source": [
    "!ls -lah analysis/not_uploaded/IA2NIMA/AVA/"
   ]
  },
  {
   "cell_type": "code",
   "execution_count": 3,
   "metadata": {},
   "outputs": [
    {
     "output_type": "stream",
     "name": "stderr",
     "text": [
      "Pandas Apply: 100%|██████████| 12818/12818 [00:01<00:00, 9759.61it/s]\n",
      "Pandas Apply: 100%|██████████| 12818/12818 [00:00<00:00, 110397.27it/s]\n",
      "Pandas Apply: 100%|██████████| 12818/12818 [00:00<00:00, 166223.78it/s]\n",
      "Pandas Apply: 100%|██████████| 12818/12818 [00:01<00:00, 8713.51it/s]\n",
      "Pandas Apply: 100%|██████████| 12818/12818 [00:00<00:00, 50959.17it/s]\n",
      "Pandas Apply: 100%|██████████| 12818/12818 [00:00<00:00, 173471.91it/s]\n",
      "Pandas Apply: 100%|██████████| 12818/12818 [00:01<00:00, 7709.38it/s]\n",
      "Pandas Apply: 100%|██████████| 12818/12818 [00:00<00:00, 51301.55it/s]\n",
      "Pandas Apply: 100%|██████████| 12818/12818 [00:00<00:00, 155109.74it/s]\n",
      "Pandas Apply: 100%|██████████| 12818/12818 [00:01<00:00, 6762.24it/s]\n",
      "Pandas Apply: 100%|██████████| 12818/12818 [00:00<00:00, 81507.25it/s]\n",
      "Pandas Apply: 100%|██████████| 12818/12818 [00:00<00:00, 171975.90it/s]\n",
      "Pandas Apply: 100%|██████████| 12818/12818 [00:01<00:00, 7740.76it/s]\n",
      "Pandas Apply: 100%|██████████| 12818/12818 [00:00<00:00, 64781.77it/s]\n",
      "Pandas Apply: 100%|██████████| 12818/12818 [00:00<00:00, 186443.89it/s]\n",
      "Pandas Apply: 100%|██████████| 12818/12818 [00:01<00:00, 8264.71it/s] \n",
      "Pandas Apply: 100%|██████████| 12818/12818 [00:00<00:00, 44889.73it/s]\n",
      "Pandas Apply: 100%|██████████| 12818/12818 [00:00<00:00, 100209.30it/s]\n",
      "Pandas Apply: 100%|██████████| 12818/12818 [00:01<00:00, 8235.79it/s]\n",
      "Pandas Apply: 100%|██████████| 12818/12818 [00:00<00:00, 121772.84it/s]\n",
      "Pandas Apply: 100%|██████████| 12818/12818 [00:00<00:00, 200623.14it/s]\n",
      "Pandas Apply: 100%|██████████| 12818/12818 [00:01<00:00, 11914.80it/s]\n",
      "Pandas Apply: 100%|██████████| 12818/12818 [00:00<00:00, 111942.43it/s]\n",
      "Pandas Apply: 100%|██████████| 12818/12818 [00:00<00:00, 174788.80it/s]\n",
      "Pandas Apply: 100%|██████████| 12818/12818 [00:01<00:00, 11956.03it/s]\n",
      "Pandas Apply: 100%|██████████| 12818/12818 [00:00<00:00, 111587.64it/s]\n",
      "Pandas Apply: 100%|██████████| 12818/12818 [00:00<00:00, 294167.22it/s]\n",
      "Pandas Apply: 100%|██████████| 12818/12818 [00:01<00:00, 9885.45it/s] \n",
      "Pandas Apply: 100%|██████████| 12818/12818 [00:00<00:00, 75334.67it/s]\n",
      "Pandas Apply: 100%|██████████| 12818/12818 [00:00<00:00, 168214.15it/s]\n",
      "Pandas Apply: 100%|██████████| 12818/12818 [00:01<00:00, 11608.23it/s]\n",
      "Pandas Apply: 100%|██████████| 12818/12818 [00:00<00:00, 119955.98it/s]\n",
      "Pandas Apply: 100%|██████████| 12818/12818 [00:00<00:00, 240835.13it/s]\n",
      "Pandas Apply: 100%|██████████| 12818/12818 [00:01<00:00, 12125.49it/s]\n",
      "Pandas Apply: 100%|██████████| 12818/12818 [00:00<00:00, 92146.01it/s] \n",
      "Pandas Apply: 100%|██████████| 12818/12818 [00:00<00:00, 161974.54it/s]\n",
      "Pandas Apply: 100%|██████████| 12818/12818 [00:01<00:00, 12451.60it/s]\n",
      "Pandas Apply: 100%|██████████| 12818/12818 [00:00<00:00, 71676.48it/s]\n",
      "Pandas Apply: 100%|██████████| 12818/12818 [00:00<00:00, 174780.28it/s]\n",
      "Pandas Apply: 100%|██████████| 12818/12818 [00:01<00:00, 12150.31it/s]\n",
      "Pandas Apply: 100%|██████████| 12818/12818 [00:00<00:00, 71383.74it/s]\n",
      "Pandas Apply: 100%|██████████| 12818/12818 [00:00<00:00, 173734.26it/s]\n",
      "Pandas Apply: 100%|██████████| 12818/12818 [00:01<00:00, 8098.96it/s]\n",
      "Pandas Apply: 100%|██████████| 12818/12818 [00:00<00:00, 63951.69it/s]\n",
      "Pandas Apply: 100%|██████████| 12818/12818 [00:00<00:00, 138634.83it/s]\n",
      "Pandas Apply: 100%|██████████| 12818/12818 [00:01<00:00, 8290.49it/s]\n",
      "Pandas Apply: 100%|██████████| 12818/12818 [00:00<00:00, 54453.00it/s]\n",
      "Pandas Apply: 100%|██████████| 12818/12818 [00:00<00:00, 124855.64it/s]\n",
      "Pandas Apply: 100%|██████████| 12818/12818 [00:02<00:00, 6226.35it/s]\n",
      "Pandas Apply: 100%|██████████| 12818/12818 [00:00<00:00, 84913.01it/s]\n",
      "Pandas Apply: 100%|██████████| 12818/12818 [00:00<00:00, 115948.86it/s]\n",
      "Pandas Apply: 100%|██████████| 12818/12818 [00:01<00:00, 8071.32it/s]\n",
      "Pandas Apply: 100%|██████████| 12818/12818 [00:00<00:00, 77272.85it/s]\n",
      "Pandas Apply: 100%|██████████| 12818/12818 [00:00<00:00, 167817.72it/s]\n",
      "Pandas Apply: 100%|██████████| 12818/12818 [00:01<00:00, 9913.23it/s]\n",
      "Pandas Apply: 100%|██████████| 12818/12818 [00:00<00:00, 42248.75it/s]\n",
      "Pandas Apply: 100%|██████████| 12818/12818 [00:00<00:00, 106776.46it/s]\n",
      "Pandas Apply: 100%|██████████| 12818/12818 [00:01<00:00, 9553.93it/s] \n",
      "Pandas Apply: 100%|██████████| 12818/12818 [00:00<00:00, 84981.46it/s]\n",
      "Pandas Apply: 100%|██████████| 12818/12818 [00:00<00:00, 234777.28it/s]\n",
      "Pandas Apply: 100%|██████████| 12818/12818 [00:01<00:00, 9315.81it/s] \n",
      "Pandas Apply: 100%|██████████| 12818/12818 [00:00<00:00, 74637.50it/s]\n",
      "Pandas Apply: 100%|██████████| 12818/12818 [00:00<00:00, 269939.94it/s]\n",
      "Pandas Apply: 100%|██████████| 12818/12818 [00:01<00:00, 11176.10it/s]\n",
      "Pandas Apply: 100%|██████████| 12818/12818 [00:00<00:00, 77582.63it/s]\n",
      "Pandas Apply: 100%|██████████| 12818/12818 [00:00<00:00, 223248.02it/s]\n",
      "Pandas Apply: 100%|██████████| 12818/12818 [00:01<00:00, 9093.13it/s]\n",
      "Pandas Apply: 100%|██████████| 12818/12818 [00:00<00:00, 90607.49it/s]\n",
      "Pandas Apply: 100%|██████████| 12818/12818 [00:00<00:00, 215594.52it/s]\n",
      "Pandas Apply: 100%|██████████| 12818/12818 [00:01<00:00, 8949.78it/s]\n",
      "Pandas Apply: 100%|██████████| 12818/12818 [00:00<00:00, 82494.27it/s]\n",
      "Pandas Apply: 100%|██████████| 12818/12818 [00:00<00:00, 153498.63it/s]\n",
      "Pandas Apply: 100%|██████████| 12818/12818 [00:01<00:00, 7137.80it/s]\n",
      "Pandas Apply: 100%|██████████| 12818/12818 [00:00<00:00, 94393.20it/s]\n",
      "Pandas Apply: 100%|██████████| 12818/12818 [00:00<00:00, 227601.19it/s]\n",
      "Pandas Apply: 100%|██████████| 12818/12818 [00:01<00:00, 11350.54it/s]\n",
      "Pandas Apply: 100%|██████████| 12818/12818 [00:00<00:00, 80844.66it/s]\n",
      "Pandas Apply: 100%|██████████| 12818/12818 [00:00<00:00, 140271.21it/s]\n",
      "Pandas Apply: 100%|██████████| 12818/12818 [00:01<00:00, 10439.67it/s]\n",
      "Pandas Apply: 100%|██████████| 12818/12818 [00:00<00:00, 97675.57it/s] \n",
      "Pandas Apply: 100%|██████████| 12818/12818 [00:00<00:00, 242004.86it/s]\n",
      "Pandas Apply: 100%|██████████| 12818/12818 [00:01<00:00, 10879.71it/s]\n",
      "Pandas Apply: 100%|██████████| 12818/12818 [00:00<00:00, 94113.12it/s] \n",
      "Pandas Apply: 100%|██████████| 12818/12818 [00:00<00:00, 219767.44it/s]\n",
      "Pandas Apply: 100%|██████████| 12818/12818 [00:01<00:00, 11530.64it/s]\n",
      "Pandas Apply: 100%|██████████| 12818/12818 [00:00<00:00, 111800.43it/s]\n",
      "Pandas Apply: 100%|██████████| 12818/12818 [00:00<00:00, 247201.36it/s]\n",
      "Pandas Apply: 100%|██████████| 12818/12818 [00:01<00:00, 11445.64it/s]\n",
      "Pandas Apply: 100%|██████████| 12818/12818 [00:00<00:00, 84077.74it/s]\n",
      "Pandas Apply: 100%|██████████| 12818/12818 [00:00<00:00, 230383.78it/s]\n",
      "Pandas Apply: 100%|██████████| 12818/12818 [00:01<00:00, 12407.31it/s]\n",
      "Pandas Apply: 100%|██████████| 12818/12818 [00:00<00:00, 108232.59it/s]\n",
      "Pandas Apply: 100%|██████████| 12818/12818 [00:00<00:00, 249396.20it/s]\n",
      "Pandas Apply: 100%|██████████| 12818/12818 [00:01<00:00, 9225.86it/s]\n",
      "Pandas Apply: 100%|██████████| 12818/12818 [00:00<00:00, 84310.46it/s]\n",
      "Pandas Apply: 100%|██████████| 12818/12818 [00:00<00:00, 236076.25it/s]\n",
      "Pandas Apply: 100%|██████████| 12818/12818 [00:01<00:00, 10757.10it/s]\n",
      "Pandas Apply: 100%|██████████| 12818/12818 [00:00<00:00, 79298.43it/s]\n",
      "Pandas Apply: 100%|██████████| 12818/12818 [00:00<00:00, 159195.62it/s]\n"
     ]
    }
   ],
   "source": [
    "df_l = []\n",
    "for p in Path(\"analysis/not_uploaded/IA2NIMA/AVA/\").iterdir():\n",
    "    tmp = pd.read_csv(p)\n",
    "    tmp[\"scores\"] = tmp[\"scores\"].swifter.apply(eval)\n",
    "    tmp[\"score\"] = tmp[\"scores\"].swifter.apply(lambda row: sum([row[i] * (i+1) for i in range(len(row))]))\n",
    "    tmp[\"img\"] = tmp[\"img\"].swifter.apply(lambda row: row.split(\".\")[0])\n",
    "    tmp[\"quality\"] = tmp[\"score\"].apply(lambda row: 1 if row > 5 else 0)\n",
    "    tmp[\"quality\"] = tmp[\"quality\"].astype(int)\n",
    "    tmp[\"img\"] = tmp[\"img\"].astype(int)\n",
    "\n",
    "    tmp.drop(columns=[\"scores\"], inplace=True)\n",
    "    tmp = tmp.rename(columns={\"score\":\"score_\" + p.stem.split(\"AVA.\")[1], \"quality\": \"quality_\" + p.stem.split(\"AVA.\")[1]})\n",
    "\n",
    "    tmp = tmp.set_index(\"img\")\n",
    "    df_l.append(tmp)\n",
    "\n",
    "df = df_l[0].join(df_l[1:])"
   ]
  },
  {
   "cell_type": "code",
   "execution_count": 4,
   "metadata": {},
   "outputs": [],
   "source": [
    "gt = pd.read_csv(\"analysis/not_uploaded/AVA_gt.txt\", sep=\" \").drop(columns=[\"Unnamed: 0\", \"semanticTagID1\", \"semanticTagID2\", \"challengeID\"])"
   ]
  },
  {
   "cell_type": "code",
   "execution_count": 5,
   "metadata": {},
   "outputs": [],
   "source": [
    "gt[\"votes\"] = gt.apply(lambda row: sum(list(row)[1:]), axis=1)\n",
    "gt[\"gt_score\"] = gt.apply(lambda row: sum([val * (i + 1) for i, val in enumerate(list(row)[1:-1])]), axis=1)\n",
    "gt[\"gt_score\"] = gt.apply(lambda row: row.gt_score / row.votes, axis=1)\n",
    "gt[\"gt_quality\"] = gt[\"gt_score\"].apply(lambda row: 1 if row > 5 else 0)\n",
    "gt[\"img\"] = gt[\"img\"].astype(int)\n",
    "\n",
    "gt = gt[[\"img\",\"gt_score\", \"gt_quality\"]]\n",
    "gt = gt.set_index(\"img\")"
   ]
  },
  {
   "cell_type": "code",
   "execution_count": 6,
   "metadata": {},
   "outputs": [
    {
     "output_type": "execute_result",
     "data": {
      "text/plain": [
       "        gt_score  gt_quality  score_one.change_class.epoch-0.pth  \\\n",
       "img                                                                \n",
       "953844  5.914062           1                            5.435197   \n",
       "953283  6.755556           1                            5.493105   \n",
       "954116  5.541985           1                            4.604829   \n",
       "953780  5.041667           1                            5.636556   \n",
       "953582  5.943548           1                            5.491844   \n",
       "...          ...         ...                                 ...   \n",
       "870778  5.722467           1                            5.435381   \n",
       "869976  5.199115           1                            5.291705   \n",
       "57275   6.492248           1                            5.299766   \n",
       "56554   4.439024           0                            5.067765   \n",
       "57242   4.353175           0                            5.338198   \n",
       "\n",
       "        quality_one.change_class.epoch-0.pth  \\\n",
       "img                                            \n",
       "953844                                   1.0   \n",
       "953283                                   1.0   \n",
       "954116                                   0.0   \n",
       "953780                                   1.0   \n",
       "953582                                   1.0   \n",
       "...                                      ...   \n",
       "870778                                   1.0   \n",
       "869976                                   1.0   \n",
       "57275                                    1.0   \n",
       "56554                                    1.0   \n",
       "57242                                    1.0   \n",
       "\n",
       "        score_one.change_class.epoch-149.pth  \\\n",
       "img                                            \n",
       "953844                              5.457176   \n",
       "953283                              5.857566   \n",
       "954116                              4.431028   \n",
       "953780                              5.670701   \n",
       "953582                              5.841414   \n",
       "...                                      ...   \n",
       "870778                              5.764147   \n",
       "869976                              5.458912   \n",
       "57275                               5.581259   \n",
       "56554                               4.850917   \n",
       "57242                               4.864181   \n",
       "\n",
       "        quality_one.change_class.epoch-149.pth  \\\n",
       "img                                              \n",
       "953844                                     1.0   \n",
       "953283                                     1.0   \n",
       "954116                                     0.0   \n",
       "953780                                     1.0   \n",
       "953582                                     1.0   \n",
       "...                                        ...   \n",
       "870778                                     1.0   \n",
       "869976                                     1.0   \n",
       "57275                                      1.0   \n",
       "56554                                      0.0   \n",
       "57242                                      0.0   \n",
       "\n",
       "        score_one.change_regress.epoch-77.pth  \\\n",
       "img                                             \n",
       "953844                               5.482815   \n",
       "953283                               5.857421   \n",
       "954116                               4.396991   \n",
       "953780                               5.681622   \n",
       "953582                               5.847270   \n",
       "...                                       ...   \n",
       "870778                               5.755226   \n",
       "869976                               5.437215   \n",
       "57275                                5.489268   \n",
       "56554                                4.862504   \n",
       "57242                                4.887533   \n",
       "\n",
       "        quality_one.change_regress.epoch-77.pth  \\\n",
       "img                                               \n",
       "953844                                      1.0   \n",
       "953283                                      1.0   \n",
       "954116                                      0.0   \n",
       "953780                                      1.0   \n",
       "953582                                      1.0   \n",
       "...                                         ...   \n",
       "870778                                      1.0   \n",
       "869976                                      1.0   \n",
       "57275                                       1.0   \n",
       "56554                                       0.0   \n",
       "57242                                       0.0   \n",
       "\n",
       "        score_None.change_regress.epoch-21.pth  \\\n",
       "img                                              \n",
       "953844                                5.498982   \n",
       "953283                                5.449551   \n",
       "954116                                4.542896   \n",
       "953780                                5.556524   \n",
       "953582                                5.420136   \n",
       "...                                        ...   \n",
       "870778                                5.348412   \n",
       "869976                                5.303173   \n",
       "57275                                 5.400688   \n",
       "56554                                 5.042230   \n",
       "57242                                 5.284901   \n",
       "\n",
       "        quality_None.change_regress.epoch-21.pth  ...  score_one.epoch-96.pth  \\\n",
       "img                                               ...                           \n",
       "953844                                       1.0  ...                5.531028   \n",
       "953283                                       1.0  ...                5.906423   \n",
       "954116                                       0.0  ...                4.437678   \n",
       "953780                                       1.0  ...                5.689779   \n",
       "953582                                       1.0  ...                5.855429   \n",
       "...                                          ...  ...                     ...   \n",
       "870778                                       1.0  ...                5.734670   \n",
       "869976                                       1.0  ...                5.422185   \n",
       "57275                                        1.0  ...                5.528252   \n",
       "56554                                        1.0  ...                4.832439   \n",
       "57242                                        1.0  ...                4.825893   \n",
       "\n",
       "        quality_one.epoch-96.pth  score_one.change_class.epoch-19.pth  \\\n",
       "img                                                                     \n",
       "953844                       1.0                             5.420652   \n",
       "953283                       1.0                             5.479660   \n",
       "954116                       0.0                             4.473223   \n",
       "953780                       1.0                             5.699583   \n",
       "953582                       1.0                             5.481449   \n",
       "...                          ...                                  ...   \n",
       "870778                       1.0                             5.466403   \n",
       "869976                       1.0                             5.301169   \n",
       "57275                        1.0                             5.275638   \n",
       "56554                        0.0                             5.035164   \n",
       "57242                        0.0                             5.325237   \n",
       "\n",
       "        quality_one.change_class.epoch-19.pth  score_imagenet.epoch-14.pth  \\\n",
       "img                                                                          \n",
       "953844                                    1.0                     5.318886   \n",
       "953283                                    1.0                     5.650019   \n",
       "954116                                    0.0                     4.955961   \n",
       "953780                                    1.0                     5.578553   \n",
       "953582                                    1.0                     5.501658   \n",
       "...                                       ...                          ...   \n",
       "870778                                    1.0                     5.449655   \n",
       "869976                                    1.0                     5.287876   \n",
       "57275                                     1.0                     5.504054   \n",
       "56554                                     1.0                     5.051060   \n",
       "57242                                     1.0                     5.141833   \n",
       "\n",
       "        quality_imagenet.epoch-14.pth  score_three.epoch-14.pth  \\\n",
       "img                                                               \n",
       "953844                            1.0                  5.521613   \n",
       "953283                            1.0                  5.477555   \n",
       "954116                            0.0                  4.839361   \n",
       "953780                            1.0                  5.528334   \n",
       "953582                            1.0                  5.451525   \n",
       "...                               ...                       ...   \n",
       "870778                            1.0                  5.432651   \n",
       "869976                            1.0                  5.289424   \n",
       "57275                             1.0                  5.297915   \n",
       "56554                             1.0                  5.232561   \n",
       "57242                             1.0                  5.366256   \n",
       "\n",
       "        quality_three.epoch-14.pth  score_one.epoch-0.pth  \\\n",
       "img                                                         \n",
       "953844                         1.0               5.396214   \n",
       "953283                         1.0               5.381501   \n",
       "954116                         0.0               4.614480   \n",
       "953780                         1.0               5.553999   \n",
       "953582                         1.0               5.452984   \n",
       "...                            ...                    ...   \n",
       "870778                         1.0               5.376922   \n",
       "869976                         1.0               5.417442   \n",
       "57275                          1.0               5.332044   \n",
       "56554                          1.0               5.005947   \n",
       "57242                          1.0               5.339817   \n",
       "\n",
       "        quality_one.epoch-0.pth  \n",
       "img                              \n",
       "953844                      1.0  \n",
       "953283                      1.0  \n",
       "954116                      0.0  \n",
       "953780                      1.0  \n",
       "953582                      1.0  \n",
       "...                         ...  \n",
       "870778                      1.0  \n",
       "869976                      1.0  \n",
       "57275                       1.0  \n",
       "56554                       1.0  \n",
       "57242                       1.0  \n",
       "\n",
       "[12818 rows x 68 columns]"
      ],
      "text/html": "<div>\n<style scoped>\n    .dataframe tbody tr th:only-of-type {\n        vertical-align: middle;\n    }\n\n    .dataframe tbody tr th {\n        vertical-align: top;\n    }\n\n    .dataframe thead th {\n        text-align: right;\n    }\n</style>\n<table border=\"1\" class=\"dataframe\">\n  <thead>\n    <tr style=\"text-align: right;\">\n      <th></th>\n      <th>gt_score</th>\n      <th>gt_quality</th>\n      <th>score_one.change_class.epoch-0.pth</th>\n      <th>quality_one.change_class.epoch-0.pth</th>\n      <th>score_one.change_class.epoch-149.pth</th>\n      <th>quality_one.change_class.epoch-149.pth</th>\n      <th>score_one.change_regress.epoch-77.pth</th>\n      <th>quality_one.change_regress.epoch-77.pth</th>\n      <th>score_None.change_regress.epoch-21.pth</th>\n      <th>quality_None.change_regress.epoch-21.pth</th>\n      <th>...</th>\n      <th>score_one.epoch-96.pth</th>\n      <th>quality_one.epoch-96.pth</th>\n      <th>score_one.change_class.epoch-19.pth</th>\n      <th>quality_one.change_class.epoch-19.pth</th>\n      <th>score_imagenet.epoch-14.pth</th>\n      <th>quality_imagenet.epoch-14.pth</th>\n      <th>score_three.epoch-14.pth</th>\n      <th>quality_three.epoch-14.pth</th>\n      <th>score_one.epoch-0.pth</th>\n      <th>quality_one.epoch-0.pth</th>\n    </tr>\n    <tr>\n      <th>img</th>\n      <th></th>\n      <th></th>\n      <th></th>\n      <th></th>\n      <th></th>\n      <th></th>\n      <th></th>\n      <th></th>\n      <th></th>\n      <th></th>\n      <th></th>\n      <th></th>\n      <th></th>\n      <th></th>\n      <th></th>\n      <th></th>\n      <th></th>\n      <th></th>\n      <th></th>\n      <th></th>\n      <th></th>\n    </tr>\n  </thead>\n  <tbody>\n    <tr>\n      <th>953844</th>\n      <td>5.914062</td>\n      <td>1</td>\n      <td>5.435197</td>\n      <td>1.0</td>\n      <td>5.457176</td>\n      <td>1.0</td>\n      <td>5.482815</td>\n      <td>1.0</td>\n      <td>5.498982</td>\n      <td>1.0</td>\n      <td>...</td>\n      <td>5.531028</td>\n      <td>1.0</td>\n      <td>5.420652</td>\n      <td>1.0</td>\n      <td>5.318886</td>\n      <td>1.0</td>\n      <td>5.521613</td>\n      <td>1.0</td>\n      <td>5.396214</td>\n      <td>1.0</td>\n    </tr>\n    <tr>\n      <th>953283</th>\n      <td>6.755556</td>\n      <td>1</td>\n      <td>5.493105</td>\n      <td>1.0</td>\n      <td>5.857566</td>\n      <td>1.0</td>\n      <td>5.857421</td>\n      <td>1.0</td>\n      <td>5.449551</td>\n      <td>1.0</td>\n      <td>...</td>\n      <td>5.906423</td>\n      <td>1.0</td>\n      <td>5.479660</td>\n      <td>1.0</td>\n      <td>5.650019</td>\n      <td>1.0</td>\n      <td>5.477555</td>\n      <td>1.0</td>\n      <td>5.381501</td>\n      <td>1.0</td>\n    </tr>\n    <tr>\n      <th>954116</th>\n      <td>5.541985</td>\n      <td>1</td>\n      <td>4.604829</td>\n      <td>0.0</td>\n      <td>4.431028</td>\n      <td>0.0</td>\n      <td>4.396991</td>\n      <td>0.0</td>\n      <td>4.542896</td>\n      <td>0.0</td>\n      <td>...</td>\n      <td>4.437678</td>\n      <td>0.0</td>\n      <td>4.473223</td>\n      <td>0.0</td>\n      <td>4.955961</td>\n      <td>0.0</td>\n      <td>4.839361</td>\n      <td>0.0</td>\n      <td>4.614480</td>\n      <td>0.0</td>\n    </tr>\n    <tr>\n      <th>953780</th>\n      <td>5.041667</td>\n      <td>1</td>\n      <td>5.636556</td>\n      <td>1.0</td>\n      <td>5.670701</td>\n      <td>1.0</td>\n      <td>5.681622</td>\n      <td>1.0</td>\n      <td>5.556524</td>\n      <td>1.0</td>\n      <td>...</td>\n      <td>5.689779</td>\n      <td>1.0</td>\n      <td>5.699583</td>\n      <td>1.0</td>\n      <td>5.578553</td>\n      <td>1.0</td>\n      <td>5.528334</td>\n      <td>1.0</td>\n      <td>5.553999</td>\n      <td>1.0</td>\n    </tr>\n    <tr>\n      <th>953582</th>\n      <td>5.943548</td>\n      <td>1</td>\n      <td>5.491844</td>\n      <td>1.0</td>\n      <td>5.841414</td>\n      <td>1.0</td>\n      <td>5.847270</td>\n      <td>1.0</td>\n      <td>5.420136</td>\n      <td>1.0</td>\n      <td>...</td>\n      <td>5.855429</td>\n      <td>1.0</td>\n      <td>5.481449</td>\n      <td>1.0</td>\n      <td>5.501658</td>\n      <td>1.0</td>\n      <td>5.451525</td>\n      <td>1.0</td>\n      <td>5.452984</td>\n      <td>1.0</td>\n    </tr>\n    <tr>\n      <th>...</th>\n      <td>...</td>\n      <td>...</td>\n      <td>...</td>\n      <td>...</td>\n      <td>...</td>\n      <td>...</td>\n      <td>...</td>\n      <td>...</td>\n      <td>...</td>\n      <td>...</td>\n      <td>...</td>\n      <td>...</td>\n      <td>...</td>\n      <td>...</td>\n      <td>...</td>\n      <td>...</td>\n      <td>...</td>\n      <td>...</td>\n      <td>...</td>\n      <td>...</td>\n      <td>...</td>\n    </tr>\n    <tr>\n      <th>870778</th>\n      <td>5.722467</td>\n      <td>1</td>\n      <td>5.435381</td>\n      <td>1.0</td>\n      <td>5.764147</td>\n      <td>1.0</td>\n      <td>5.755226</td>\n      <td>1.0</td>\n      <td>5.348412</td>\n      <td>1.0</td>\n      <td>...</td>\n      <td>5.734670</td>\n      <td>1.0</td>\n      <td>5.466403</td>\n      <td>1.0</td>\n      <td>5.449655</td>\n      <td>1.0</td>\n      <td>5.432651</td>\n      <td>1.0</td>\n      <td>5.376922</td>\n      <td>1.0</td>\n    </tr>\n    <tr>\n      <th>869976</th>\n      <td>5.199115</td>\n      <td>1</td>\n      <td>5.291705</td>\n      <td>1.0</td>\n      <td>5.458912</td>\n      <td>1.0</td>\n      <td>5.437215</td>\n      <td>1.0</td>\n      <td>5.303173</td>\n      <td>1.0</td>\n      <td>...</td>\n      <td>5.422185</td>\n      <td>1.0</td>\n      <td>5.301169</td>\n      <td>1.0</td>\n      <td>5.287876</td>\n      <td>1.0</td>\n      <td>5.289424</td>\n      <td>1.0</td>\n      <td>5.417442</td>\n      <td>1.0</td>\n    </tr>\n    <tr>\n      <th>57275</th>\n      <td>6.492248</td>\n      <td>1</td>\n      <td>5.299766</td>\n      <td>1.0</td>\n      <td>5.581259</td>\n      <td>1.0</td>\n      <td>5.489268</td>\n      <td>1.0</td>\n      <td>5.400688</td>\n      <td>1.0</td>\n      <td>...</td>\n      <td>5.528252</td>\n      <td>1.0</td>\n      <td>5.275638</td>\n      <td>1.0</td>\n      <td>5.504054</td>\n      <td>1.0</td>\n      <td>5.297915</td>\n      <td>1.0</td>\n      <td>5.332044</td>\n      <td>1.0</td>\n    </tr>\n    <tr>\n      <th>56554</th>\n      <td>4.439024</td>\n      <td>0</td>\n      <td>5.067765</td>\n      <td>1.0</td>\n      <td>4.850917</td>\n      <td>0.0</td>\n      <td>4.862504</td>\n      <td>0.0</td>\n      <td>5.042230</td>\n      <td>1.0</td>\n      <td>...</td>\n      <td>4.832439</td>\n      <td>0.0</td>\n      <td>5.035164</td>\n      <td>1.0</td>\n      <td>5.051060</td>\n      <td>1.0</td>\n      <td>5.232561</td>\n      <td>1.0</td>\n      <td>5.005947</td>\n      <td>1.0</td>\n    </tr>\n    <tr>\n      <th>57242</th>\n      <td>4.353175</td>\n      <td>0</td>\n      <td>5.338198</td>\n      <td>1.0</td>\n      <td>4.864181</td>\n      <td>0.0</td>\n      <td>4.887533</td>\n      <td>0.0</td>\n      <td>5.284901</td>\n      <td>1.0</td>\n      <td>...</td>\n      <td>4.825893</td>\n      <td>0.0</td>\n      <td>5.325237</td>\n      <td>1.0</td>\n      <td>5.141833</td>\n      <td>1.0</td>\n      <td>5.366256</td>\n      <td>1.0</td>\n      <td>5.339817</td>\n      <td>1.0</td>\n    </tr>\n  </tbody>\n</table>\n<p>12818 rows × 68 columns</p>\n</div>"
     },
     "metadata": {},
     "execution_count": 6
    }
   ],
   "source": [
    "df = gt.join(df).dropna().drop_duplicates()\n",
    "df"
   ]
  },
  {
   "cell_type": "code",
   "execution_count": 7,
   "metadata": {},
   "outputs": [
    {
     "output_type": "execute_result",
     "data": {
      "text/plain": [
       "<matplotlib.axes._subplots.AxesSubplot at 0x7f7971acde80>"
      ]
     },
     "metadata": {},
     "execution_count": 7
    },
    {
     "output_type": "error",
     "ename": "RuntimeError",
     "evalue": "latex was not able to process the following string:\nb'gt_score'\n\nHere is the full report generated by latex:\nThis is pdfTeX, Version 3.14159265-2.6-1.40.21 (TeX Live 2020/Arch Linux) (preloaded format=latex)\n restricted \\write18 enabled.\nentering extended mode\n(/home/janpf/.cache/matplotlib/tex.cache/e7c896c0f67f80576a03fdb1219d153b.tex\nLaTeX2e <2020-02-02> patch level 5\nL3 programming layer <2020-06-03>\n(/usr/share/texmf-dist/tex/latex/base/article.cls\nDocument Class: article 2019/12/20 v1.4l Standard LaTeX document class\n(/usr/share/texmf-dist/tex/latex/base/size10.clo))\n(/usr/share/texmf-dist/tex/latex/type1cm/type1cm.sty)\n(/usr/share/texmf-dist/tex/latex/cm-super/type1ec.sty\n(/usr/share/texmf-dist/tex/latex/base/t1cmr.fd))\n(/usr/share/texmf-dist/tex/latex/base/textcomp.sty)\n(/usr/share/texmf-dist/tex/latex/base/inputenc.sty)\n(/usr/share/texmf-dist/tex/latex/geometry/geometry.sty\n(/usr/share/texmf-dist/tex/latex/graphics/keyval.sty)\n(/usr/share/texmf-dist/tex/generic/iftex/ifvtex.sty\n(/usr/share/texmf-dist/tex/generic/iftex/iftex.sty))\n\nPackage geometry Warning: Over-specification in `h'-direction.\n    `width' (5058.9pt) is ignored.\n\n\nPackage geometry Warning: Over-specification in `v'-direction.\n    `height' (5058.9pt) is ignored.\n\n) (/usr/share/texmf-dist/tex/latex/amsmath/amsmath.sty\nFor additional information on amsmath, use the `?' option.\n(/usr/share/texmf-dist/tex/latex/amsmath/amstext.sty\n(/usr/share/texmf-dist/tex/latex/amsmath/amsgen.sty))\n(/usr/share/texmf-dist/tex/latex/amsmath/amsbsy.sty)\n(/usr/share/texmf-dist/tex/latex/amsmath/amsopn.sty))\n(/usr/share/texmf-dist/tex/latex/l3backend/l3backend-dvips.def)\n(./e7c896c0f67f80576a03fdb1219d153b.aux)\n*geometry* driver: auto-detecting\n*geometry* detected driver: dvips\n! Missing $ inserted.\n<inserted text> \n                $\nl.19 {\\rmfamily gt_\n                   score}\nNo pages of output.\nTranscript written on e7c896c0f67f80576a03fdb1219d153b.log.\n\n\n",
     "traceback": [
      "\u001b[0;31m---------------------------------------------------------------------------\u001b[0m",
      "\u001b[0;31mCalledProcessError\u001b[0m                        Traceback (most recent call last)",
      "\u001b[0;32m~/projects/NIAA/venv/lib/python3.8/site-packages/matplotlib/texmanager.py\u001b[0m in \u001b[0;36m_run_checked_subprocess\u001b[0;34m(self, command, tex)\u001b[0m\n\u001b[1;32m    303\u001b[0m         \u001b[0;32mtry\u001b[0m\u001b[0;34m:\u001b[0m\u001b[0;34m\u001b[0m\u001b[0;34m\u001b[0m\u001b[0m\n\u001b[0;32m--> 304\u001b[0;31m             report = subprocess.check_output(command,\n\u001b[0m\u001b[1;32m    305\u001b[0m                                              \u001b[0mcwd\u001b[0m\u001b[0;34m=\u001b[0m\u001b[0mself\u001b[0m\u001b[0;34m.\u001b[0m\u001b[0mtexcache\u001b[0m\u001b[0;34m,\u001b[0m\u001b[0;34m\u001b[0m\u001b[0;34m\u001b[0m\u001b[0m\n",
      "\u001b[0;32m/usr/lib/python3.8/subprocess.py\u001b[0m in \u001b[0;36mcheck_output\u001b[0;34m(timeout, *popenargs, **kwargs)\u001b[0m\n\u001b[1;32m    410\u001b[0m \u001b[0;34m\u001b[0m\u001b[0m\n\u001b[0;32m--> 411\u001b[0;31m     return run(*popenargs, stdout=PIPE, timeout=timeout, check=True,\n\u001b[0m\u001b[1;32m    412\u001b[0m                **kwargs).stdout\n",
      "\u001b[0;32m/usr/lib/python3.8/subprocess.py\u001b[0m in \u001b[0;36mrun\u001b[0;34m(input, capture_output, timeout, check, *popenargs, **kwargs)\u001b[0m\n\u001b[1;32m    511\u001b[0m         \u001b[0;32mif\u001b[0m \u001b[0mcheck\u001b[0m \u001b[0;32mand\u001b[0m \u001b[0mretcode\u001b[0m\u001b[0;34m:\u001b[0m\u001b[0;34m\u001b[0m\u001b[0;34m\u001b[0m\u001b[0m\n\u001b[0;32m--> 512\u001b[0;31m             raise CalledProcessError(retcode, process.args,\n\u001b[0m\u001b[1;32m    513\u001b[0m                                      output=stdout, stderr=stderr)\n",
      "\u001b[0;31mCalledProcessError\u001b[0m: Command '['latex', '-interaction=nonstopmode', '--halt-on-error', '/home/janpf/.cache/matplotlib/tex.cache/e7c896c0f67f80576a03fdb1219d153b.tex']' returned non-zero exit status 1.",
      "\nThe above exception was the direct cause of the following exception:\n",
      "\u001b[0;31mRuntimeError\u001b[0m                              Traceback (most recent call last)",
      "\u001b[0;32m~/projects/NIAA/venv/lib/python3.8/site-packages/IPython/core/formatters.py\u001b[0m in \u001b[0;36m__call__\u001b[0;34m(self, obj)\u001b[0m\n\u001b[1;32m    339\u001b[0m                 \u001b[0;32mpass\u001b[0m\u001b[0;34m\u001b[0m\u001b[0;34m\u001b[0m\u001b[0m\n\u001b[1;32m    340\u001b[0m             \u001b[0;32melse\u001b[0m\u001b[0;34m:\u001b[0m\u001b[0;34m\u001b[0m\u001b[0;34m\u001b[0m\u001b[0m\n\u001b[0;32m--> 341\u001b[0;31m                 \u001b[0;32mreturn\u001b[0m \u001b[0mprinter\u001b[0m\u001b[0;34m(\u001b[0m\u001b[0mobj\u001b[0m\u001b[0;34m)\u001b[0m\u001b[0;34m\u001b[0m\u001b[0;34m\u001b[0m\u001b[0m\n\u001b[0m\u001b[1;32m    342\u001b[0m             \u001b[0;31m# Finally look for special method names\u001b[0m\u001b[0;34m\u001b[0m\u001b[0;34m\u001b[0m\u001b[0;34m\u001b[0m\u001b[0m\n\u001b[1;32m    343\u001b[0m             \u001b[0mmethod\u001b[0m \u001b[0;34m=\u001b[0m \u001b[0mget_real_method\u001b[0m\u001b[0;34m(\u001b[0m\u001b[0mobj\u001b[0m\u001b[0;34m,\u001b[0m \u001b[0mself\u001b[0m\u001b[0;34m.\u001b[0m\u001b[0mprint_method\u001b[0m\u001b[0;34m)\u001b[0m\u001b[0;34m\u001b[0m\u001b[0;34m\u001b[0m\u001b[0m\n",
      "\u001b[0;32m~/projects/NIAA/venv/lib/python3.8/site-packages/IPython/core/pylabtools.py\u001b[0m in \u001b[0;36m<lambda>\u001b[0;34m(fig)\u001b[0m\n\u001b[1;32m    252\u001b[0m         \u001b[0mjpg_formatter\u001b[0m\u001b[0;34m.\u001b[0m\u001b[0mfor_type\u001b[0m\u001b[0;34m(\u001b[0m\u001b[0mFigure\u001b[0m\u001b[0;34m,\u001b[0m \u001b[0;32mlambda\u001b[0m \u001b[0mfig\u001b[0m\u001b[0;34m:\u001b[0m \u001b[0mprint_figure\u001b[0m\u001b[0;34m(\u001b[0m\u001b[0mfig\u001b[0m\u001b[0;34m,\u001b[0m \u001b[0;34m'jpg'\u001b[0m\u001b[0;34m,\u001b[0m \u001b[0;34m**\u001b[0m\u001b[0mkwargs\u001b[0m\u001b[0;34m)\u001b[0m\u001b[0;34m)\u001b[0m\u001b[0;34m\u001b[0m\u001b[0;34m\u001b[0m\u001b[0m\n\u001b[1;32m    253\u001b[0m     \u001b[0;32mif\u001b[0m \u001b[0;34m'svg'\u001b[0m \u001b[0;32min\u001b[0m \u001b[0mformats\u001b[0m\u001b[0;34m:\u001b[0m\u001b[0;34m\u001b[0m\u001b[0;34m\u001b[0m\u001b[0m\n\u001b[0;32m--> 254\u001b[0;31m         \u001b[0msvg_formatter\u001b[0m\u001b[0;34m.\u001b[0m\u001b[0mfor_type\u001b[0m\u001b[0;34m(\u001b[0m\u001b[0mFigure\u001b[0m\u001b[0;34m,\u001b[0m \u001b[0;32mlambda\u001b[0m \u001b[0mfig\u001b[0m\u001b[0;34m:\u001b[0m \u001b[0mprint_figure\u001b[0m\u001b[0;34m(\u001b[0m\u001b[0mfig\u001b[0m\u001b[0;34m,\u001b[0m \u001b[0;34m'svg'\u001b[0m\u001b[0;34m,\u001b[0m \u001b[0;34m**\u001b[0m\u001b[0mkwargs\u001b[0m\u001b[0;34m)\u001b[0m\u001b[0;34m)\u001b[0m\u001b[0;34m\u001b[0m\u001b[0;34m\u001b[0m\u001b[0m\n\u001b[0m\u001b[1;32m    255\u001b[0m     \u001b[0;32mif\u001b[0m \u001b[0;34m'pdf'\u001b[0m \u001b[0;32min\u001b[0m \u001b[0mformats\u001b[0m\u001b[0;34m:\u001b[0m\u001b[0;34m\u001b[0m\u001b[0;34m\u001b[0m\u001b[0m\n\u001b[1;32m    256\u001b[0m         \u001b[0mpdf_formatter\u001b[0m\u001b[0;34m.\u001b[0m\u001b[0mfor_type\u001b[0m\u001b[0;34m(\u001b[0m\u001b[0mFigure\u001b[0m\u001b[0;34m,\u001b[0m \u001b[0;32mlambda\u001b[0m \u001b[0mfig\u001b[0m\u001b[0;34m:\u001b[0m \u001b[0mprint_figure\u001b[0m\u001b[0;34m(\u001b[0m\u001b[0mfig\u001b[0m\u001b[0;34m,\u001b[0m \u001b[0;34m'pdf'\u001b[0m\u001b[0;34m,\u001b[0m \u001b[0;34m**\u001b[0m\u001b[0mkwargs\u001b[0m\u001b[0;34m)\u001b[0m\u001b[0;34m)\u001b[0m\u001b[0;34m\u001b[0m\u001b[0;34m\u001b[0m\u001b[0m\n",
      "\u001b[0;32m~/projects/NIAA/venv/lib/python3.8/site-packages/IPython/core/pylabtools.py\u001b[0m in \u001b[0;36mprint_figure\u001b[0;34m(fig, fmt, bbox_inches, **kwargs)\u001b[0m\n\u001b[1;32m    130\u001b[0m         \u001b[0mFigureCanvasBase\u001b[0m\u001b[0;34m(\u001b[0m\u001b[0mfig\u001b[0m\u001b[0;34m)\u001b[0m\u001b[0;34m\u001b[0m\u001b[0;34m\u001b[0m\u001b[0m\n\u001b[1;32m    131\u001b[0m \u001b[0;34m\u001b[0m\u001b[0m\n\u001b[0;32m--> 132\u001b[0;31m     \u001b[0mfig\u001b[0m\u001b[0;34m.\u001b[0m\u001b[0mcanvas\u001b[0m\u001b[0;34m.\u001b[0m\u001b[0mprint_figure\u001b[0m\u001b[0;34m(\u001b[0m\u001b[0mbytes_io\u001b[0m\u001b[0;34m,\u001b[0m \u001b[0;34m**\u001b[0m\u001b[0mkw\u001b[0m\u001b[0;34m)\u001b[0m\u001b[0;34m\u001b[0m\u001b[0;34m\u001b[0m\u001b[0m\n\u001b[0m\u001b[1;32m    133\u001b[0m     \u001b[0mdata\u001b[0m \u001b[0;34m=\u001b[0m \u001b[0mbytes_io\u001b[0m\u001b[0;34m.\u001b[0m\u001b[0mgetvalue\u001b[0m\u001b[0;34m(\u001b[0m\u001b[0;34m)\u001b[0m\u001b[0;34m\u001b[0m\u001b[0;34m\u001b[0m\u001b[0m\n\u001b[1;32m    134\u001b[0m     \u001b[0;32mif\u001b[0m \u001b[0mfmt\u001b[0m \u001b[0;34m==\u001b[0m \u001b[0;34m'svg'\u001b[0m\u001b[0;34m:\u001b[0m\u001b[0;34m\u001b[0m\u001b[0;34m\u001b[0m\u001b[0m\n",
      "\u001b[0;32m~/projects/NIAA/venv/lib/python3.8/site-packages/matplotlib/backend_bases.py\u001b[0m in \u001b[0;36mprint_figure\u001b[0;34m(self, filename, dpi, facecolor, edgecolor, orientation, format, bbox_inches, **kwargs)\u001b[0m\n\u001b[1;32m   2098\u001b[0m                            else suppress())\n\u001b[1;32m   2099\u001b[0m                     \u001b[0;32mwith\u001b[0m \u001b[0mctx\u001b[0m\u001b[0;34m:\u001b[0m\u001b[0;34m\u001b[0m\u001b[0;34m\u001b[0m\u001b[0m\n\u001b[0;32m-> 2100\u001b[0;31m                         \u001b[0mself\u001b[0m\u001b[0;34m.\u001b[0m\u001b[0mfigure\u001b[0m\u001b[0;34m.\u001b[0m\u001b[0mdraw\u001b[0m\u001b[0;34m(\u001b[0m\u001b[0mrenderer\u001b[0m\u001b[0;34m)\u001b[0m\u001b[0;34m\u001b[0m\u001b[0;34m\u001b[0m\u001b[0m\n\u001b[0m\u001b[1;32m   2101\u001b[0m                     \u001b[0mbbox_artists\u001b[0m \u001b[0;34m=\u001b[0m \u001b[0mkwargs\u001b[0m\u001b[0;34m.\u001b[0m\u001b[0mpop\u001b[0m\u001b[0;34m(\u001b[0m\u001b[0;34m\"bbox_extra_artists\"\u001b[0m\u001b[0;34m,\u001b[0m \u001b[0;32mNone\u001b[0m\u001b[0;34m)\u001b[0m\u001b[0;34m\u001b[0m\u001b[0;34m\u001b[0m\u001b[0m\n\u001b[1;32m   2102\u001b[0m                     bbox_inches = self.figure.get_tightbbox(renderer,\n",
      "\u001b[0;32m~/projects/NIAA/venv/lib/python3.8/site-packages/matplotlib/artist.py\u001b[0m in \u001b[0;36mdraw_wrapper\u001b[0;34m(artist, renderer, *args, **kwargs)\u001b[0m\n\u001b[1;32m     36\u001b[0m                 \u001b[0mrenderer\u001b[0m\u001b[0;34m.\u001b[0m\u001b[0mstart_filter\u001b[0m\u001b[0;34m(\u001b[0m\u001b[0;34m)\u001b[0m\u001b[0;34m\u001b[0m\u001b[0;34m\u001b[0m\u001b[0m\n\u001b[1;32m     37\u001b[0m \u001b[0;34m\u001b[0m\u001b[0m\n\u001b[0;32m---> 38\u001b[0;31m             \u001b[0;32mreturn\u001b[0m \u001b[0mdraw\u001b[0m\u001b[0;34m(\u001b[0m\u001b[0martist\u001b[0m\u001b[0;34m,\u001b[0m \u001b[0mrenderer\u001b[0m\u001b[0;34m,\u001b[0m \u001b[0;34m*\u001b[0m\u001b[0margs\u001b[0m\u001b[0;34m,\u001b[0m \u001b[0;34m**\u001b[0m\u001b[0mkwargs\u001b[0m\u001b[0;34m)\u001b[0m\u001b[0;34m\u001b[0m\u001b[0;34m\u001b[0m\u001b[0m\n\u001b[0m\u001b[1;32m     39\u001b[0m         \u001b[0;32mfinally\u001b[0m\u001b[0;34m:\u001b[0m\u001b[0;34m\u001b[0m\u001b[0;34m\u001b[0m\u001b[0m\n\u001b[1;32m     40\u001b[0m             \u001b[0;32mif\u001b[0m \u001b[0martist\u001b[0m\u001b[0;34m.\u001b[0m\u001b[0mget_agg_filter\u001b[0m\u001b[0;34m(\u001b[0m\u001b[0;34m)\u001b[0m \u001b[0;32mis\u001b[0m \u001b[0;32mnot\u001b[0m \u001b[0;32mNone\u001b[0m\u001b[0;34m:\u001b[0m\u001b[0;34m\u001b[0m\u001b[0;34m\u001b[0m\u001b[0m\n",
      "\u001b[0;32m~/projects/NIAA/venv/lib/python3.8/site-packages/matplotlib/figure.py\u001b[0m in \u001b[0;36mdraw\u001b[0;34m(self, renderer)\u001b[0m\n\u001b[1;32m   1733\u001b[0m \u001b[0;34m\u001b[0m\u001b[0m\n\u001b[1;32m   1734\u001b[0m             \u001b[0mself\u001b[0m\u001b[0;34m.\u001b[0m\u001b[0mpatch\u001b[0m\u001b[0;34m.\u001b[0m\u001b[0mdraw\u001b[0m\u001b[0;34m(\u001b[0m\u001b[0mrenderer\u001b[0m\u001b[0;34m)\u001b[0m\u001b[0;34m\u001b[0m\u001b[0;34m\u001b[0m\u001b[0m\n\u001b[0;32m-> 1735\u001b[0;31m             mimage._draw_list_compositing_images(\n\u001b[0m\u001b[1;32m   1736\u001b[0m                 renderer, self, artists, self.suppressComposite)\n\u001b[1;32m   1737\u001b[0m \u001b[0;34m\u001b[0m\u001b[0m\n",
      "\u001b[0;32m~/projects/NIAA/venv/lib/python3.8/site-packages/matplotlib/image.py\u001b[0m in \u001b[0;36m_draw_list_compositing_images\u001b[0;34m(renderer, parent, artists, suppress_composite)\u001b[0m\n\u001b[1;32m    135\u001b[0m     \u001b[0;32mif\u001b[0m \u001b[0mnot_composite\u001b[0m \u001b[0;32mor\u001b[0m \u001b[0;32mnot\u001b[0m \u001b[0mhas_images\u001b[0m\u001b[0;34m:\u001b[0m\u001b[0;34m\u001b[0m\u001b[0;34m\u001b[0m\u001b[0m\n\u001b[1;32m    136\u001b[0m         \u001b[0;32mfor\u001b[0m \u001b[0ma\u001b[0m \u001b[0;32min\u001b[0m \u001b[0martists\u001b[0m\u001b[0;34m:\u001b[0m\u001b[0;34m\u001b[0m\u001b[0;34m\u001b[0m\u001b[0m\n\u001b[0;32m--> 137\u001b[0;31m             \u001b[0ma\u001b[0m\u001b[0;34m.\u001b[0m\u001b[0mdraw\u001b[0m\u001b[0;34m(\u001b[0m\u001b[0mrenderer\u001b[0m\u001b[0;34m)\u001b[0m\u001b[0;34m\u001b[0m\u001b[0;34m\u001b[0m\u001b[0m\n\u001b[0m\u001b[1;32m    138\u001b[0m     \u001b[0;32melse\u001b[0m\u001b[0;34m:\u001b[0m\u001b[0;34m\u001b[0m\u001b[0;34m\u001b[0m\u001b[0m\n\u001b[1;32m    139\u001b[0m         \u001b[0;31m# Composite any adjacent images together\u001b[0m\u001b[0;34m\u001b[0m\u001b[0;34m\u001b[0m\u001b[0;34m\u001b[0m\u001b[0m\n",
      "\u001b[0;32m~/projects/NIAA/venv/lib/python3.8/site-packages/matplotlib/artist.py\u001b[0m in \u001b[0;36mdraw_wrapper\u001b[0;34m(artist, renderer, *args, **kwargs)\u001b[0m\n\u001b[1;32m     36\u001b[0m                 \u001b[0mrenderer\u001b[0m\u001b[0;34m.\u001b[0m\u001b[0mstart_filter\u001b[0m\u001b[0;34m(\u001b[0m\u001b[0;34m)\u001b[0m\u001b[0;34m\u001b[0m\u001b[0;34m\u001b[0m\u001b[0m\n\u001b[1;32m     37\u001b[0m \u001b[0;34m\u001b[0m\u001b[0m\n\u001b[0;32m---> 38\u001b[0;31m             \u001b[0;32mreturn\u001b[0m \u001b[0mdraw\u001b[0m\u001b[0;34m(\u001b[0m\u001b[0martist\u001b[0m\u001b[0;34m,\u001b[0m \u001b[0mrenderer\u001b[0m\u001b[0;34m,\u001b[0m \u001b[0;34m*\u001b[0m\u001b[0margs\u001b[0m\u001b[0;34m,\u001b[0m \u001b[0;34m**\u001b[0m\u001b[0mkwargs\u001b[0m\u001b[0;34m)\u001b[0m\u001b[0;34m\u001b[0m\u001b[0;34m\u001b[0m\u001b[0m\n\u001b[0m\u001b[1;32m     39\u001b[0m         \u001b[0;32mfinally\u001b[0m\u001b[0;34m:\u001b[0m\u001b[0;34m\u001b[0m\u001b[0;34m\u001b[0m\u001b[0m\n\u001b[1;32m     40\u001b[0m             \u001b[0;32mif\u001b[0m \u001b[0martist\u001b[0m\u001b[0;34m.\u001b[0m\u001b[0mget_agg_filter\u001b[0m\u001b[0;34m(\u001b[0m\u001b[0;34m)\u001b[0m \u001b[0;32mis\u001b[0m \u001b[0;32mnot\u001b[0m \u001b[0;32mNone\u001b[0m\u001b[0;34m:\u001b[0m\u001b[0;34m\u001b[0m\u001b[0;34m\u001b[0m\u001b[0m\n",
      "\u001b[0;32m~/projects/NIAA/venv/lib/python3.8/site-packages/matplotlib/axes/_base.py\u001b[0m in \u001b[0;36mdraw\u001b[0;34m(self, renderer, inframe)\u001b[0m\n\u001b[1;32m   2628\u001b[0m             \u001b[0mrenderer\u001b[0m\u001b[0;34m.\u001b[0m\u001b[0mstop_rasterizing\u001b[0m\u001b[0;34m(\u001b[0m\u001b[0;34m)\u001b[0m\u001b[0;34m\u001b[0m\u001b[0;34m\u001b[0m\u001b[0m\n\u001b[1;32m   2629\u001b[0m \u001b[0;34m\u001b[0m\u001b[0m\n\u001b[0;32m-> 2630\u001b[0;31m         \u001b[0mmimage\u001b[0m\u001b[0;34m.\u001b[0m\u001b[0m_draw_list_compositing_images\u001b[0m\u001b[0;34m(\u001b[0m\u001b[0mrenderer\u001b[0m\u001b[0;34m,\u001b[0m \u001b[0mself\u001b[0m\u001b[0;34m,\u001b[0m \u001b[0martists\u001b[0m\u001b[0;34m)\u001b[0m\u001b[0;34m\u001b[0m\u001b[0;34m\u001b[0m\u001b[0m\n\u001b[0m\u001b[1;32m   2631\u001b[0m \u001b[0;34m\u001b[0m\u001b[0m\n\u001b[1;32m   2632\u001b[0m         \u001b[0mrenderer\u001b[0m\u001b[0;34m.\u001b[0m\u001b[0mclose_group\u001b[0m\u001b[0;34m(\u001b[0m\u001b[0;34m'axes'\u001b[0m\u001b[0;34m)\u001b[0m\u001b[0;34m\u001b[0m\u001b[0;34m\u001b[0m\u001b[0m\n",
      "\u001b[0;32m~/projects/NIAA/venv/lib/python3.8/site-packages/matplotlib/image.py\u001b[0m in \u001b[0;36m_draw_list_compositing_images\u001b[0;34m(renderer, parent, artists, suppress_composite)\u001b[0m\n\u001b[1;32m    135\u001b[0m     \u001b[0;32mif\u001b[0m \u001b[0mnot_composite\u001b[0m \u001b[0;32mor\u001b[0m \u001b[0;32mnot\u001b[0m \u001b[0mhas_images\u001b[0m\u001b[0;34m:\u001b[0m\u001b[0;34m\u001b[0m\u001b[0;34m\u001b[0m\u001b[0m\n\u001b[1;32m    136\u001b[0m         \u001b[0;32mfor\u001b[0m \u001b[0ma\u001b[0m \u001b[0;32min\u001b[0m \u001b[0martists\u001b[0m\u001b[0;34m:\u001b[0m\u001b[0;34m\u001b[0m\u001b[0;34m\u001b[0m\u001b[0m\n\u001b[0;32m--> 137\u001b[0;31m             \u001b[0ma\u001b[0m\u001b[0;34m.\u001b[0m\u001b[0mdraw\u001b[0m\u001b[0;34m(\u001b[0m\u001b[0mrenderer\u001b[0m\u001b[0;34m)\u001b[0m\u001b[0;34m\u001b[0m\u001b[0;34m\u001b[0m\u001b[0m\n\u001b[0m\u001b[1;32m    138\u001b[0m     \u001b[0;32melse\u001b[0m\u001b[0;34m:\u001b[0m\u001b[0;34m\u001b[0m\u001b[0;34m\u001b[0m\u001b[0m\n\u001b[1;32m    139\u001b[0m         \u001b[0;31m# Composite any adjacent images together\u001b[0m\u001b[0;34m\u001b[0m\u001b[0;34m\u001b[0m\u001b[0;34m\u001b[0m\u001b[0m\n",
      "\u001b[0;32m~/projects/NIAA/venv/lib/python3.8/site-packages/matplotlib/artist.py\u001b[0m in \u001b[0;36mdraw_wrapper\u001b[0;34m(artist, renderer, *args, **kwargs)\u001b[0m\n\u001b[1;32m     36\u001b[0m                 \u001b[0mrenderer\u001b[0m\u001b[0;34m.\u001b[0m\u001b[0mstart_filter\u001b[0m\u001b[0;34m(\u001b[0m\u001b[0;34m)\u001b[0m\u001b[0;34m\u001b[0m\u001b[0;34m\u001b[0m\u001b[0m\n\u001b[1;32m     37\u001b[0m \u001b[0;34m\u001b[0m\u001b[0m\n\u001b[0;32m---> 38\u001b[0;31m             \u001b[0;32mreturn\u001b[0m \u001b[0mdraw\u001b[0m\u001b[0;34m(\u001b[0m\u001b[0martist\u001b[0m\u001b[0;34m,\u001b[0m \u001b[0mrenderer\u001b[0m\u001b[0;34m,\u001b[0m \u001b[0;34m*\u001b[0m\u001b[0margs\u001b[0m\u001b[0;34m,\u001b[0m \u001b[0;34m**\u001b[0m\u001b[0mkwargs\u001b[0m\u001b[0;34m)\u001b[0m\u001b[0;34m\u001b[0m\u001b[0;34m\u001b[0m\u001b[0m\n\u001b[0m\u001b[1;32m     39\u001b[0m         \u001b[0;32mfinally\u001b[0m\u001b[0;34m:\u001b[0m\u001b[0;34m\u001b[0m\u001b[0;34m\u001b[0m\u001b[0m\n\u001b[1;32m     40\u001b[0m             \u001b[0;32mif\u001b[0m \u001b[0martist\u001b[0m\u001b[0;34m.\u001b[0m\u001b[0mget_agg_filter\u001b[0m\u001b[0;34m(\u001b[0m\u001b[0;34m)\u001b[0m \u001b[0;32mis\u001b[0m \u001b[0;32mnot\u001b[0m \u001b[0;32mNone\u001b[0m\u001b[0;34m:\u001b[0m\u001b[0;34m\u001b[0m\u001b[0;34m\u001b[0m\u001b[0m\n",
      "\u001b[0;32m~/projects/NIAA/venv/lib/python3.8/site-packages/matplotlib/axis.py\u001b[0m in \u001b[0;36mdraw\u001b[0;34m(self, renderer, *args, **kwargs)\u001b[0m\n\u001b[1;32m   1239\u001b[0m         \u001b[0mself\u001b[0m\u001b[0;34m.\u001b[0m\u001b[0m_update_label_position\u001b[0m\u001b[0;34m(\u001b[0m\u001b[0mrenderer\u001b[0m\u001b[0;34m)\u001b[0m\u001b[0;34m\u001b[0m\u001b[0;34m\u001b[0m\u001b[0m\n\u001b[1;32m   1240\u001b[0m \u001b[0;34m\u001b[0m\u001b[0m\n\u001b[0;32m-> 1241\u001b[0;31m         \u001b[0mself\u001b[0m\u001b[0;34m.\u001b[0m\u001b[0mlabel\u001b[0m\u001b[0;34m.\u001b[0m\u001b[0mdraw\u001b[0m\u001b[0;34m(\u001b[0m\u001b[0mrenderer\u001b[0m\u001b[0;34m)\u001b[0m\u001b[0;34m\u001b[0m\u001b[0;34m\u001b[0m\u001b[0m\n\u001b[0m\u001b[1;32m   1242\u001b[0m \u001b[0;34m\u001b[0m\u001b[0m\n\u001b[1;32m   1243\u001b[0m         \u001b[0mself\u001b[0m\u001b[0;34m.\u001b[0m\u001b[0m_update_offset_text_position\u001b[0m\u001b[0;34m(\u001b[0m\u001b[0mticklabelBoxes\u001b[0m\u001b[0;34m,\u001b[0m \u001b[0mticklabelBoxes2\u001b[0m\u001b[0;34m)\u001b[0m\u001b[0;34m\u001b[0m\u001b[0;34m\u001b[0m\u001b[0m\n",
      "\u001b[0;32m~/projects/NIAA/venv/lib/python3.8/site-packages/matplotlib/artist.py\u001b[0m in \u001b[0;36mdraw_wrapper\u001b[0;34m(artist, renderer, *args, **kwargs)\u001b[0m\n\u001b[1;32m     36\u001b[0m                 \u001b[0mrenderer\u001b[0m\u001b[0;34m.\u001b[0m\u001b[0mstart_filter\u001b[0m\u001b[0;34m(\u001b[0m\u001b[0;34m)\u001b[0m\u001b[0;34m\u001b[0m\u001b[0;34m\u001b[0m\u001b[0m\n\u001b[1;32m     37\u001b[0m \u001b[0;34m\u001b[0m\u001b[0m\n\u001b[0;32m---> 38\u001b[0;31m             \u001b[0;32mreturn\u001b[0m \u001b[0mdraw\u001b[0m\u001b[0;34m(\u001b[0m\u001b[0martist\u001b[0m\u001b[0;34m,\u001b[0m \u001b[0mrenderer\u001b[0m\u001b[0;34m,\u001b[0m \u001b[0;34m*\u001b[0m\u001b[0margs\u001b[0m\u001b[0;34m,\u001b[0m \u001b[0;34m**\u001b[0m\u001b[0mkwargs\u001b[0m\u001b[0;34m)\u001b[0m\u001b[0;34m\u001b[0m\u001b[0;34m\u001b[0m\u001b[0m\n\u001b[0m\u001b[1;32m     39\u001b[0m         \u001b[0;32mfinally\u001b[0m\u001b[0;34m:\u001b[0m\u001b[0;34m\u001b[0m\u001b[0;34m\u001b[0m\u001b[0m\n\u001b[1;32m     40\u001b[0m             \u001b[0;32mif\u001b[0m \u001b[0martist\u001b[0m\u001b[0;34m.\u001b[0m\u001b[0mget_agg_filter\u001b[0m\u001b[0;34m(\u001b[0m\u001b[0;34m)\u001b[0m \u001b[0;32mis\u001b[0m \u001b[0;32mnot\u001b[0m \u001b[0;32mNone\u001b[0m\u001b[0;34m:\u001b[0m\u001b[0;34m\u001b[0m\u001b[0;34m\u001b[0m\u001b[0m\n",
      "\u001b[0;32m~/projects/NIAA/venv/lib/python3.8/site-packages/matplotlib/text.py\u001b[0m in \u001b[0;36mdraw\u001b[0;34m(self, renderer)\u001b[0m\n\u001b[1;32m    683\u001b[0m \u001b[0;34m\u001b[0m\u001b[0m\n\u001b[1;32m    684\u001b[0m         \u001b[0;32mwith\u001b[0m \u001b[0m_wrap_text\u001b[0m\u001b[0;34m(\u001b[0m\u001b[0mself\u001b[0m\u001b[0;34m)\u001b[0m \u001b[0;32mas\u001b[0m \u001b[0mtextobj\u001b[0m\u001b[0;34m:\u001b[0m\u001b[0;34m\u001b[0m\u001b[0;34m\u001b[0m\u001b[0m\n\u001b[0;32m--> 685\u001b[0;31m             \u001b[0mbbox\u001b[0m\u001b[0;34m,\u001b[0m \u001b[0minfo\u001b[0m\u001b[0;34m,\u001b[0m \u001b[0mdescent\u001b[0m \u001b[0;34m=\u001b[0m \u001b[0mtextobj\u001b[0m\u001b[0;34m.\u001b[0m\u001b[0m_get_layout\u001b[0m\u001b[0;34m(\u001b[0m\u001b[0mrenderer\u001b[0m\u001b[0;34m)\u001b[0m\u001b[0;34m\u001b[0m\u001b[0;34m\u001b[0m\u001b[0m\n\u001b[0m\u001b[1;32m    686\u001b[0m             \u001b[0mtrans\u001b[0m \u001b[0;34m=\u001b[0m \u001b[0mtextobj\u001b[0m\u001b[0;34m.\u001b[0m\u001b[0mget_transform\u001b[0m\u001b[0;34m(\u001b[0m\u001b[0;34m)\u001b[0m\u001b[0;34m\u001b[0m\u001b[0;34m\u001b[0m\u001b[0m\n\u001b[1;32m    687\u001b[0m \u001b[0;34m\u001b[0m\u001b[0m\n",
      "\u001b[0;32m~/projects/NIAA/venv/lib/python3.8/site-packages/matplotlib/text.py\u001b[0m in \u001b[0;36m_get_layout\u001b[0;34m(self, renderer)\u001b[0m\n\u001b[1;32m    297\u001b[0m             \u001b[0mclean_line\u001b[0m\u001b[0;34m,\u001b[0m \u001b[0mismath\u001b[0m \u001b[0;34m=\u001b[0m \u001b[0mself\u001b[0m\u001b[0;34m.\u001b[0m\u001b[0m_preprocess_math\u001b[0m\u001b[0;34m(\u001b[0m\u001b[0mline\u001b[0m\u001b[0;34m)\u001b[0m\u001b[0;34m\u001b[0m\u001b[0;34m\u001b[0m\u001b[0m\n\u001b[1;32m    298\u001b[0m             \u001b[0;32mif\u001b[0m \u001b[0mclean_line\u001b[0m\u001b[0;34m:\u001b[0m\u001b[0;34m\u001b[0m\u001b[0;34m\u001b[0m\u001b[0m\n\u001b[0;32m--> 299\u001b[0;31m                 w, h, d = renderer.get_text_width_height_descent(\n\u001b[0m\u001b[1;32m    300\u001b[0m                     clean_line, self._fontproperties, ismath=ismath)\n\u001b[1;32m    301\u001b[0m             \u001b[0;32melse\u001b[0m\u001b[0;34m:\u001b[0m\u001b[0;34m\u001b[0m\u001b[0;34m\u001b[0m\u001b[0m\n",
      "\u001b[0;32m~/projects/NIAA/venv/lib/python3.8/site-packages/matplotlib/backends/backend_svg.py\u001b[0m in \u001b[0;36mget_text_width_height_descent\u001b[0;34m(self, s, prop, ismath)\u001b[0m\n\u001b[1;32m   1172\u001b[0m     \u001b[0;32mdef\u001b[0m \u001b[0mget_text_width_height_descent\u001b[0m\u001b[0;34m(\u001b[0m\u001b[0mself\u001b[0m\u001b[0;34m,\u001b[0m \u001b[0ms\u001b[0m\u001b[0;34m,\u001b[0m \u001b[0mprop\u001b[0m\u001b[0;34m,\u001b[0m \u001b[0mismath\u001b[0m\u001b[0;34m)\u001b[0m\u001b[0;34m:\u001b[0m\u001b[0;34m\u001b[0m\u001b[0;34m\u001b[0m\u001b[0m\n\u001b[1;32m   1173\u001b[0m         \u001b[0;31m# docstring inherited\u001b[0m\u001b[0;34m\u001b[0m\u001b[0;34m\u001b[0m\u001b[0;34m\u001b[0m\u001b[0m\n\u001b[0;32m-> 1174\u001b[0;31m         \u001b[0;32mreturn\u001b[0m \u001b[0mself\u001b[0m\u001b[0;34m.\u001b[0m\u001b[0m_text2path\u001b[0m\u001b[0;34m.\u001b[0m\u001b[0mget_text_width_height_descent\u001b[0m\u001b[0;34m(\u001b[0m\u001b[0ms\u001b[0m\u001b[0;34m,\u001b[0m \u001b[0mprop\u001b[0m\u001b[0;34m,\u001b[0m \u001b[0mismath\u001b[0m\u001b[0;34m)\u001b[0m\u001b[0;34m\u001b[0m\u001b[0;34m\u001b[0m\u001b[0m\n\u001b[0m\u001b[1;32m   1175\u001b[0m \u001b[0;34m\u001b[0m\u001b[0m\n\u001b[1;32m   1176\u001b[0m \u001b[0;34m\u001b[0m\u001b[0m\n",
      "\u001b[0;32m~/projects/NIAA/venv/lib/python3.8/site-packages/matplotlib/textpath.py\u001b[0m in \u001b[0;36mget_text_width_height_descent\u001b[0;34m(self, s, prop, ismath)\u001b[0m\n\u001b[1;32m     66\u001b[0m             \u001b[0mtexmanager\u001b[0m \u001b[0;34m=\u001b[0m \u001b[0mself\u001b[0m\u001b[0;34m.\u001b[0m\u001b[0mget_texmanager\u001b[0m\u001b[0;34m(\u001b[0m\u001b[0;34m)\u001b[0m\u001b[0;34m\u001b[0m\u001b[0;34m\u001b[0m\u001b[0m\n\u001b[1;32m     67\u001b[0m             \u001b[0mfontsize\u001b[0m \u001b[0;34m=\u001b[0m \u001b[0mprop\u001b[0m\u001b[0;34m.\u001b[0m\u001b[0mget_size_in_points\u001b[0m\u001b[0;34m(\u001b[0m\u001b[0;34m)\u001b[0m\u001b[0;34m\u001b[0m\u001b[0;34m\u001b[0m\u001b[0m\n\u001b[0;32m---> 68\u001b[0;31m             w, h, d = texmanager.get_text_width_height_descent(s, fontsize,\n\u001b[0m\u001b[1;32m     69\u001b[0m                                                                renderer=None)\n\u001b[1;32m     70\u001b[0m             \u001b[0;32mreturn\u001b[0m \u001b[0mw\u001b[0m\u001b[0;34m,\u001b[0m \u001b[0mh\u001b[0m\u001b[0;34m,\u001b[0m \u001b[0md\u001b[0m\u001b[0;34m\u001b[0m\u001b[0;34m\u001b[0m\u001b[0m\n",
      "\u001b[0;32m~/projects/NIAA/venv/lib/python3.8/site-packages/matplotlib/texmanager.py\u001b[0m in \u001b[0;36mget_text_width_height_descent\u001b[0;34m(self, tex, fontsize, renderer)\u001b[0m\n\u001b[1;32m    456\u001b[0m         \u001b[0;32melse\u001b[0m\u001b[0;34m:\u001b[0m\u001b[0;34m\u001b[0m\u001b[0;34m\u001b[0m\u001b[0m\n\u001b[1;32m    457\u001b[0m             \u001b[0;31m# use dviread.\u001b[0m\u001b[0;34m\u001b[0m\u001b[0;34m\u001b[0m\u001b[0;34m\u001b[0m\u001b[0m\n\u001b[0;32m--> 458\u001b[0;31m             \u001b[0mdvifile\u001b[0m \u001b[0;34m=\u001b[0m \u001b[0mself\u001b[0m\u001b[0;34m.\u001b[0m\u001b[0mmake_dvi\u001b[0m\u001b[0;34m(\u001b[0m\u001b[0mtex\u001b[0m\u001b[0;34m,\u001b[0m \u001b[0mfontsize\u001b[0m\u001b[0;34m)\u001b[0m\u001b[0;34m\u001b[0m\u001b[0;34m\u001b[0m\u001b[0m\n\u001b[0m\u001b[1;32m    459\u001b[0m             \u001b[0;32mwith\u001b[0m \u001b[0mdviread\u001b[0m\u001b[0;34m.\u001b[0m\u001b[0mDvi\u001b[0m\u001b[0;34m(\u001b[0m\u001b[0mdvifile\u001b[0m\u001b[0;34m,\u001b[0m \u001b[0;36m72\u001b[0m \u001b[0;34m*\u001b[0m \u001b[0mdpi_fraction\u001b[0m\u001b[0;34m)\u001b[0m \u001b[0;32mas\u001b[0m \u001b[0mdvi\u001b[0m\u001b[0;34m:\u001b[0m\u001b[0;34m\u001b[0m\u001b[0;34m\u001b[0m\u001b[0m\n\u001b[1;32m    460\u001b[0m                 \u001b[0mpage\u001b[0m\u001b[0;34m,\u001b[0m \u001b[0;34m=\u001b[0m \u001b[0mdvi\u001b[0m\u001b[0;34m\u001b[0m\u001b[0;34m\u001b[0m\u001b[0m\n",
      "\u001b[0;32m~/projects/NIAA/venv/lib/python3.8/site-packages/matplotlib/texmanager.py\u001b[0m in \u001b[0;36mmake_dvi\u001b[0;34m(self, tex, fontsize)\u001b[0m\n\u001b[1;32m    336\u001b[0m             \u001b[0mtexfile\u001b[0m \u001b[0;34m=\u001b[0m \u001b[0mself\u001b[0m\u001b[0;34m.\u001b[0m\u001b[0mmake_tex\u001b[0m\u001b[0;34m(\u001b[0m\u001b[0mtex\u001b[0m\u001b[0;34m,\u001b[0m \u001b[0mfontsize\u001b[0m\u001b[0;34m)\u001b[0m\u001b[0;34m\u001b[0m\u001b[0;34m\u001b[0m\u001b[0m\n\u001b[1;32m    337\u001b[0m             \u001b[0;32mwith\u001b[0m \u001b[0mcbook\u001b[0m\u001b[0;34m.\u001b[0m\u001b[0m_lock_path\u001b[0m\u001b[0;34m(\u001b[0m\u001b[0mtexfile\u001b[0m\u001b[0;34m)\u001b[0m\u001b[0;34m:\u001b[0m\u001b[0;34m\u001b[0m\u001b[0;34m\u001b[0m\u001b[0m\n\u001b[0;32m--> 338\u001b[0;31m                 self._run_checked_subprocess(\n\u001b[0m\u001b[1;32m    339\u001b[0m                     [\"latex\", \"-interaction=nonstopmode\", \"--halt-on-error\",\n\u001b[1;32m    340\u001b[0m                      texfile], tex)\n",
      "\u001b[0;32m~/projects/NIAA/venv/lib/python3.8/site-packages/matplotlib/texmanager.py\u001b[0m in \u001b[0;36m_run_checked_subprocess\u001b[0;34m(self, command, tex)\u001b[0m\n\u001b[1;32m    310\u001b[0m                 'found'.format(command[0])) from exc\n\u001b[1;32m    311\u001b[0m         \u001b[0;32mexcept\u001b[0m \u001b[0msubprocess\u001b[0m\u001b[0;34m.\u001b[0m\u001b[0mCalledProcessError\u001b[0m \u001b[0;32mas\u001b[0m \u001b[0mexc\u001b[0m\u001b[0;34m:\u001b[0m\u001b[0;34m\u001b[0m\u001b[0;34m\u001b[0m\u001b[0m\n\u001b[0;32m--> 312\u001b[0;31m             raise RuntimeError(\n\u001b[0m\u001b[1;32m    313\u001b[0m                 \u001b[0;34m'{prog} was not able to process the following string:\\n'\u001b[0m\u001b[0;34m\u001b[0m\u001b[0;34m\u001b[0m\u001b[0m\n\u001b[1;32m    314\u001b[0m                 \u001b[0;34m'{tex!r}\\n\\n'\u001b[0m\u001b[0;34m\u001b[0m\u001b[0;34m\u001b[0m\u001b[0m\n",
      "\u001b[0;31mRuntimeError\u001b[0m: latex was not able to process the following string:\nb'gt_score'\n\nHere is the full report generated by latex:\nThis is pdfTeX, Version 3.14159265-2.6-1.40.21 (TeX Live 2020/Arch Linux) (preloaded format=latex)\n restricted \\write18 enabled.\nentering extended mode\n(/home/janpf/.cache/matplotlib/tex.cache/e7c896c0f67f80576a03fdb1219d153b.tex\nLaTeX2e <2020-02-02> patch level 5\nL3 programming layer <2020-06-03>\n(/usr/share/texmf-dist/tex/latex/base/article.cls\nDocument Class: article 2019/12/20 v1.4l Standard LaTeX document class\n(/usr/share/texmf-dist/tex/latex/base/size10.clo))\n(/usr/share/texmf-dist/tex/latex/type1cm/type1cm.sty)\n(/usr/share/texmf-dist/tex/latex/cm-super/type1ec.sty\n(/usr/share/texmf-dist/tex/latex/base/t1cmr.fd))\n(/usr/share/texmf-dist/tex/latex/base/textcomp.sty)\n(/usr/share/texmf-dist/tex/latex/base/inputenc.sty)\n(/usr/share/texmf-dist/tex/latex/geometry/geometry.sty\n(/usr/share/texmf-dist/tex/latex/graphics/keyval.sty)\n(/usr/share/texmf-dist/tex/generic/iftex/ifvtex.sty\n(/usr/share/texmf-dist/tex/generic/iftex/iftex.sty))\n\nPackage geometry Warning: Over-specification in `h'-direction.\n    `width' (5058.9pt) is ignored.\n\n\nPackage geometry Warning: Over-specification in `v'-direction.\n    `height' (5058.9pt) is ignored.\n\n) (/usr/share/texmf-dist/tex/latex/amsmath/amsmath.sty\nFor additional information on amsmath, use the `?' option.\n(/usr/share/texmf-dist/tex/latex/amsmath/amstext.sty\n(/usr/share/texmf-dist/tex/latex/amsmath/amsgen.sty))\n(/usr/share/texmf-dist/tex/latex/amsmath/amsbsy.sty)\n(/usr/share/texmf-dist/tex/latex/amsmath/amsopn.sty))\n(/usr/share/texmf-dist/tex/latex/l3backend/l3backend-dvips.def)\n(./e7c896c0f67f80576a03fdb1219d153b.aux)\n*geometry* driver: auto-detecting\n*geometry* detected driver: dvips\n! Missing $ inserted.\n<inserted text> \n                $\nl.19 {\\rmfamily gt_\n                   score}\nNo pages of output.\nTranscript written on e7c896c0f67f80576a03fdb1219d153b.log.\n\n\n"
     ]
    }
   ],
   "source": [
    "sns.scatterplot(data=df.rename(columns={\"score_one.change_regress.epoch-77.pth\":\"score\"}), x=\"gt_score\", y=\"score\")"
   ]
  },
  {
   "cell_type": "code",
   "execution_count": null,
   "metadata": {},
   "outputs": [],
   "source": [
    "sns.histplot(x=df.rename(columns={\"score_one.change_regress.epoch-77.pth\":\"score\"})[\"score\"], ax=plt.gcf().gca(), color=\"red\", binwidth=0.2, alpha=0.3)\n",
    "sns.histplot(x=df.rename(columns={\"gt_score\":\"ground truth\"})[\"ground truth\"], ax=plt.gcf().gca(), color=\"blue\", binwidth=0.2, alpha=0.3)\n",
    "plt.xlim(1,10)\n",
    "plt.xticks(range(1,11))"
   ]
  },
  {
   "cell_type": "code",
   "execution_count": 15,
   "metadata": {},
   "outputs": [
    {
     "output_type": "stream",
     "name": "stdout",
     "text": [
      "\n",
      "score_None.change_regress.epoch-0.pth\n",
      "LCC : 0.3849882430105106\n",
      "SRCC: 0.3726759703852357\n",
      "ACC : 0.7104072398190046\n",
      "F1  : 0.8286716514354289\n",
      "\n",
      "score_imagenet.epoch-0.pth\n",
      "LCC : 0.4201242495100065\n",
      "SRCC: 0.4052444145004332\n",
      "ACC : 0.7103292245280075\n",
      "F1  : 0.8291538213776285\n",
      "\n",
      "score_one.change_class.epoch-0.pth\n",
      "LCC : 0.3814452323023531\n",
      "SRCC: 0.3679459783517518\n",
      "ACC : 0.7157902948978\n",
      "F1  : 0.8307392092180458\n",
      "\n",
      "score_one.change_regress.epoch-0.pth\n",
      "LCC : 0.3647101370511038\n",
      "SRCC: 0.3542329630869461\n",
      "ACC : 0.7090809798720549\n",
      "F1  : 0.8280853810336083\n",
      "\n",
      "score_one.epoch-0.pth\n",
      "LCC : 0.38264699465973656\n",
      "SRCC: 0.37114514538500637\n",
      "ACC : 0.7104072398190046\n",
      "F1  : 0.8285450346420324\n",
      "\n",
      "score_three.change_class.epoch-0.pth\n",
      "LCC : 0.3804607068870273\n",
      "SRCC: 0.366337496645488\n",
      "ACC : 0.7156342643158059\n",
      "F1  : 0.8301728556119834\n",
      "\n",
      "score_three.epoch-0.pth\n",
      "LCC : 0.3759446924376585\n",
      "SRCC: 0.3637605783888563\n",
      "ACC : 0.7095490716180372\n",
      "F1  : 0.8281401467940727\n"
     ]
    }
   ],
   "source": [
    "for score in sorted(df.columns):\n",
    "    if \"gt\" in score or not \"score\" in score:\n",
    "        continue\n",
    "    if \"epoch-0\" in score:\n",
    "        print()\n",
    "        print(score)\n",
    "        print(\"LCC :\", stats.pearsonr(df[\"gt_score\"], df[score])[0])\n",
    "        print(\"SRCC:\", stats.spearmanr(df[\"gt_score\"], df[score])[0])\n",
    "        print(\"ACC :\", metrics.accuracy_score(df[\"gt_quality\"], df[score.replace(\"score\", \"quality\")]))\n",
    "        print(\"F1  :\", metrics.f1_score(df[\"gt_quality\"], df[score.replace(\"score\", \"quality\")]))"
   ]
  },
  {
   "cell_type": "code",
   "execution_count": 16,
   "metadata": {},
   "outputs": [
    {
     "output_type": "stream",
     "name": "stdout",
     "text": [
      "\n",
      "score_None.change_regress.epoch-149.pth\n",
      "LCC : 0.5540258828968079\n",
      "SRCC: 0.5419693787297942\n",
      "ACC : 0.7548759556873147\n",
      "F1  : 0.8427112535042051\n",
      "\n",
      "score_imagenet.epoch-149.pth\n",
      "LCC : 0.5490840432277029\n",
      "SRCC: 0.537131804655928\n",
      "ACC : 0.7542518333593384\n",
      "F1  : 0.8417880462079358\n",
      "\n",
      "score_one.change_class.epoch-149.pth\n",
      "LCC : 0.5538765170760429\n",
      "SRCC: 0.5412968490686533\n",
      "ACC : 0.7539397721953502\n",
      "F1  : 0.8416030534351143\n",
      "\n",
      "score_one.change_regress.epoch-149.pth\n",
      "LCC : 0.5545302719430375\n",
      "SRCC: 0.5424093373503757\n",
      "ACC : 0.7572164144172258\n",
      "F1  : 0.8438534872052184\n",
      "\n",
      "score_one.epoch-149.pth\n",
      "LCC : 0.553627960621008\n",
      "SRCC: 0.5414200897224664\n",
      "ACC : 0.7550319862693088\n",
      "F1  : 0.8424485699949824\n",
      "\n",
      "score_three.change_class.epoch-149.pth\n",
      "LCC : 0.5538278238103207\n",
      "SRCC: 0.5411157101227089\n",
      "ACC : 0.7557341238882821\n",
      "F1  : 0.8425762984564331\n",
      "\n",
      "score_three.epoch-149.pth\n",
      "LCC : 0.5540925718421347\n",
      "SRCC: 0.5415542241074812\n",
      "ACC : 0.7569043532532377\n",
      "F1  : 0.8436370935367322\n"
     ]
    }
   ],
   "source": [
    "for score in sorted(df.columns):\n",
    "    if \"gt\" in score or not \"score\" in score:\n",
    "        continue\n",
    "    if \"epoch-149\" in score:\n",
    "        print()\n",
    "        print(score)\n",
    "        print(\"LCC :\", stats.pearsonr(df[\"gt_score\"], df[score])[0])\n",
    "        print(\"SRCC:\", stats.spearmanr(df[\"gt_score\"], df[score])[0])\n",
    "        print(\"ACC :\", metrics.accuracy_score(df[\"gt_quality\"], df[score.replace(\"score\", \"quality\")]))\n",
    "        print(\"F1  :\", metrics.f1_score(df[\"gt_quality\"], df[score.replace(\"score\", \"quality\")]))"
   ]
  },
  {
   "cell_type": "code",
   "execution_count": 17,
   "metadata": {},
   "outputs": [
    {
     "output_type": "stream",
     "name": "stdout",
     "text": [
      "\n",
      "score_None.change_regress.epoch-126.pth\n",
      "LCC : 0.5539649058947431\n",
      "SRCC: 0.5419311884928725\n",
      "ACC : 0.7550319862693088\n",
      "F1  : 0.8428271098208029\n",
      "\n",
      "score_None.change_regress.epoch-21.pth\n",
      "LCC : 0.3927165157296927\n",
      "SRCC: 0.38238714082757774\n",
      "ACC : 0.7146980808238415\n",
      "F1  : 0.8303724662553922\n",
      "\n",
      "score_None.change_regress.epoch-22.pth\n",
      "LCC : 0.4593958002528293\n",
      "SRCC: 0.447930544039063\n",
      "ACC : 0.7278046497113434\n",
      "F1  : 0.8334367689883991\n",
      "\n",
      "score_imagenet.epoch-14.pth\n",
      "LCC : 0.4332790675010538\n",
      "SRCC: 0.41701971390852466\n",
      "ACC : 0.7206272429396162\n",
      "F1  : 0.8313950750976976\n",
      "\n",
      "score_imagenet.epoch-15.pth\n",
      "LCC : 0.46399542225309515\n",
      "SRCC: 0.45032750056824883\n",
      "ACC : 0.7282727414573257\n",
      "F1  : 0.8335006453463358\n",
      "\n",
      "score_one.change_class.epoch-19.pth\n",
      "LCC : 0.3844514600592459\n",
      "SRCC: 0.3731118391483095\n",
      "ACC : 0.7173506007177407\n",
      "F1  : 0.8304394627228903\n",
      "\n",
      "score_one.change_class.epoch-20.pth\n",
      "LCC : 0.4153538860539153\n",
      "SRCC: 0.40379109461164303\n",
      "ACC : 0.7228116710875332\n",
      "F1  : 0.8315874294923448\n",
      "\n",
      "score_one.change_class.epoch-89.pth\n",
      "LCC : 0.5534513603714989\n",
      "SRCC: 0.5408512245395344\n",
      "ACC : 0.7541738180683414\n",
      "F1  : 0.8415388483781746\n",
      "\n",
      "score_one.change_regress.epoch-18.pth\n",
      "LCC : 0.37968760196702933\n",
      "SRCC: 0.371030211612694\n",
      "ACC : 0.7120455609299423\n",
      "F1  : 0.8289540757217664\n",
      "\n",
      "score_one.change_regress.epoch-19.pth\n",
      "LCC : 0.4307310310342001\n",
      "SRCC: 0.42168237277092924\n",
      "ACC : 0.7192229677016695\n",
      "F1  : 0.8306910664722208\n",
      "\n",
      "score_one.change_regress.epoch-77.pth\n",
      "LCC : 0.5541139966010535\n",
      "SRCC: 0.5420498921777138\n",
      "ACC : 0.7572944297082228\n",
      "F1  : 0.8437704012454176\n",
      "\n",
      "score_one.epoch-12.pth\n",
      "LCC : 0.39187970844023806\n",
      "SRCC: 0.38240983995155814\n",
      "ACC : 0.7127476985489156\n",
      "F1  : 0.8289192454232879\n",
      "\n",
      "score_one.epoch-13.pth\n",
      "LCC : 0.44937245276507226\n",
      "SRCC: 0.4387167752612634\n",
      "ACC : 0.7214854111405835\n",
      "F1  : 0.83138106933686\n",
      "\n",
      "score_one.epoch-96.pth\n",
      "LCC : 0.5535938402882309\n",
      "SRCC: 0.5413733001859772\n",
      "ACC : 0.7551880168513029\n",
      "F1  : 0.8424224163904792\n",
      "\n",
      "score_three.change_class.epoch-12.pth\n",
      "LCC : 0.3883479166776171\n",
      "SRCC: 0.37270702363066516\n",
      "ACC : 0.7199251053206428\n",
      "F1  : 0.8309474477302694\n",
      "\n",
      "score_three.change_class.epoch-13.pth\n",
      "LCC : 0.43691867112518584\n",
      "SRCC: 0.4223312100030942\n",
      "ACC : 0.7232017475425183\n",
      "F1  : 0.8320870799810697\n",
      "\n",
      "score_three.epoch-14.pth\n",
      "LCC : 0.38145268471522037\n",
      "SRCC: 0.37082457604942715\n",
      "ACC : 0.7122796068029333\n",
      "F1  : 0.829021789522485\n",
      "\n",
      "score_three.epoch-15.pth\n",
      "LCC : 0.4462635987474098\n",
      "SRCC: 0.43565031943578425\n",
      "ACC : 0.7230457169605242\n",
      "F1  : 0.8313378943367541\n",
      "\n",
      "score_three.epoch-97.pth\n",
      "LCC : 0.5540389752351487\n",
      "SRCC: 0.5414874514517909\n",
      "ACC : 0.7565922920892495\n",
      "F1  : 0.843389217950005\n"
     ]
    }
   ],
   "source": [
    "for score in sorted(df.columns):\n",
    "    if \"gt\" in score or not \"score\" in score:\n",
    "        continue\n",
    "    if \"epoch-0\" in score or \"epoch-149\" in score:\n",
    "        continue \n",
    "    print()\n",
    "    print(score)\n",
    "    print(\"LCC :\", stats.pearsonr(df[\"gt_score\"], df[score])[0])\n",
    "    print(\"SRCC:\", stats.spearmanr(df[\"gt_score\"], df[score])[0])\n",
    "\n",
    "    print(\"ACC :\", metrics.accuracy_score(df[\"gt_quality\"], df[score.replace(\"score\", \"quality\")]))\n",
    "    print(\"F1  :\", metrics.f1_score(df[\"gt_quality\"], df[score.replace(\"score\", \"quality\")]))"
   ]
  },
  {
   "cell_type": "code",
   "execution_count": 18,
   "metadata": {},
   "outputs": [],
   "source": [
    "from scipy.stats import wilcoxon\n",
    "from sklearn import metrics"
   ]
  },
  {
   "cell_type": "code",
   "execution_count": 19,
   "metadata": {},
   "outputs": [
    {
     "output_type": "execute_result",
     "data": {
      "text/plain": [
       "        gt_score      ours  imagenet\n",
       "img                                 \n",
       "953844  5.914062  5.482815  5.458504\n",
       "953283  6.755556  5.857421  5.847750\n",
       "954116  5.541985  4.396991  4.549403\n",
       "953780  5.041667  5.681622  5.690094\n",
       "953582  5.943548  5.847270  5.793649\n",
       "...          ...       ...       ...\n",
       "870778  5.722467  5.755226  5.741371\n",
       "869976  5.199115  5.437215  5.496664\n",
       "57275   6.492248  5.489268  5.533040\n",
       "56554   4.439024  4.862504  4.815633\n",
       "57242   4.353175  4.887533  4.828973\n",
       "\n",
       "[12818 rows x 3 columns]"
      ],
      "text/html": "<div>\n<style scoped>\n    .dataframe tbody tr th:only-of-type {\n        vertical-align: middle;\n    }\n\n    .dataframe tbody tr th {\n        vertical-align: top;\n    }\n\n    .dataframe thead th {\n        text-align: right;\n    }\n</style>\n<table border=\"1\" class=\"dataframe\">\n  <thead>\n    <tr style=\"text-align: right;\">\n      <th></th>\n      <th>gt_score</th>\n      <th>ours</th>\n      <th>imagenet</th>\n    </tr>\n    <tr>\n      <th>img</th>\n      <th></th>\n      <th></th>\n      <th></th>\n    </tr>\n  </thead>\n  <tbody>\n    <tr>\n      <th>953844</th>\n      <td>5.914062</td>\n      <td>5.482815</td>\n      <td>5.458504</td>\n    </tr>\n    <tr>\n      <th>953283</th>\n      <td>6.755556</td>\n      <td>5.857421</td>\n      <td>5.847750</td>\n    </tr>\n    <tr>\n      <th>954116</th>\n      <td>5.541985</td>\n      <td>4.396991</td>\n      <td>4.549403</td>\n    </tr>\n    <tr>\n      <th>953780</th>\n      <td>5.041667</td>\n      <td>5.681622</td>\n      <td>5.690094</td>\n    </tr>\n    <tr>\n      <th>953582</th>\n      <td>5.943548</td>\n      <td>5.847270</td>\n      <td>5.793649</td>\n    </tr>\n    <tr>\n      <th>...</th>\n      <td>...</td>\n      <td>...</td>\n      <td>...</td>\n    </tr>\n    <tr>\n      <th>870778</th>\n      <td>5.722467</td>\n      <td>5.755226</td>\n      <td>5.741371</td>\n    </tr>\n    <tr>\n      <th>869976</th>\n      <td>5.199115</td>\n      <td>5.437215</td>\n      <td>5.496664</td>\n    </tr>\n    <tr>\n      <th>57275</th>\n      <td>6.492248</td>\n      <td>5.489268</td>\n      <td>5.533040</td>\n    </tr>\n    <tr>\n      <th>56554</th>\n      <td>4.439024</td>\n      <td>4.862504</td>\n      <td>4.815633</td>\n    </tr>\n    <tr>\n      <th>57242</th>\n      <td>4.353175</td>\n      <td>4.887533</td>\n      <td>4.828973</td>\n    </tr>\n  </tbody>\n</table>\n<p>12818 rows × 3 columns</p>\n</div>"
     },
     "metadata": {},
     "execution_count": 19
    }
   ],
   "source": [
    "signific_df = df[[\"gt_score\", \"score_one.change_regress.epoch-77.pth\", \"score_imagenet.epoch-149.pth\"]].rename(columns={\"score_one.change_regress.epoch-77.pth\": \"ours\", \"score_imagenet.epoch-149.pth\":\"imagenet\"})\n",
    "signific_df"
   ]
  },
  {
   "cell_type": "code",
   "execution_count": 20,
   "metadata": {},
   "outputs": [
    {
     "output_type": "execute_result",
     "data": {
      "text/plain": [
       "WilcoxonResult(statistic=39330606.0, pvalue=3.019121622800845e-05)"
      ]
     },
     "metadata": {},
     "execution_count": 20
    }
   ],
   "source": [
    "wilcoxon(signific_df[\"ours\"]-signific_df[\"gt_score\"], signific_df[\"imagenet\"]-signific_df[\"gt_score\"])"
   ]
  },
  {
   "cell_type": "code",
   "execution_count": 21,
   "metadata": {},
   "outputs": [],
   "source": [
    "signific_df[\"our_error\"] = signific_df.apply(lambda row: metrics.mean_absolute_error([row.gt_score], [row.ours]), axis=1)\n",
    "signific_df[\"imagenet_error\"] = signific_df.apply(lambda row: metrics.mean_absolute_error([row.gt_score], [row.imagenet]), axis=1)"
   ]
  },
  {
   "cell_type": "code",
   "execution_count": 22,
   "metadata": {},
   "outputs": [
    {
     "output_type": "execute_result",
     "data": {
      "text/plain": [
       "        gt_score      ours  imagenet  our_error  imagenet_error\n",
       "img                                                            \n",
       "953844  5.914062  5.482815  5.458504   0.431248        0.455559\n",
       "953283  6.755556  5.857421  5.847750   0.898135        0.907805\n",
       "954116  5.541985  4.396991  4.549403   1.144994        0.992582\n",
       "953780  5.041667  5.681622  5.690094   0.639955        0.648427\n",
       "953582  5.943548  5.847270  5.793649   0.096278        0.149900\n",
       "...          ...       ...       ...        ...             ...\n",
       "870778  5.722467  5.755226  5.741371   0.032760        0.018904\n",
       "869976  5.199115  5.437215  5.496664   0.238100        0.297549\n",
       "57275   6.492248  5.489268  5.533040   1.002980        0.959208\n",
       "56554   4.439024  4.862504  4.815633   0.423480        0.376609\n",
       "57242   4.353175  4.887533  4.828973   0.534359        0.475798\n",
       "\n",
       "[12818 rows x 5 columns]"
      ],
      "text/html": "<div>\n<style scoped>\n    .dataframe tbody tr th:only-of-type {\n        vertical-align: middle;\n    }\n\n    .dataframe tbody tr th {\n        vertical-align: top;\n    }\n\n    .dataframe thead th {\n        text-align: right;\n    }\n</style>\n<table border=\"1\" class=\"dataframe\">\n  <thead>\n    <tr style=\"text-align: right;\">\n      <th></th>\n      <th>gt_score</th>\n      <th>ours</th>\n      <th>imagenet</th>\n      <th>our_error</th>\n      <th>imagenet_error</th>\n    </tr>\n    <tr>\n      <th>img</th>\n      <th></th>\n      <th></th>\n      <th></th>\n      <th></th>\n      <th></th>\n    </tr>\n  </thead>\n  <tbody>\n    <tr>\n      <th>953844</th>\n      <td>5.914062</td>\n      <td>5.482815</td>\n      <td>5.458504</td>\n      <td>0.431248</td>\n      <td>0.455559</td>\n    </tr>\n    <tr>\n      <th>953283</th>\n      <td>6.755556</td>\n      <td>5.857421</td>\n      <td>5.847750</td>\n      <td>0.898135</td>\n      <td>0.907805</td>\n    </tr>\n    <tr>\n      <th>954116</th>\n      <td>5.541985</td>\n      <td>4.396991</td>\n      <td>4.549403</td>\n      <td>1.144994</td>\n      <td>0.992582</td>\n    </tr>\n    <tr>\n      <th>953780</th>\n      <td>5.041667</td>\n      <td>5.681622</td>\n      <td>5.690094</td>\n      <td>0.639955</td>\n      <td>0.648427</td>\n    </tr>\n    <tr>\n      <th>953582</th>\n      <td>5.943548</td>\n      <td>5.847270</td>\n      <td>5.793649</td>\n      <td>0.096278</td>\n      <td>0.149900</td>\n    </tr>\n    <tr>\n      <th>...</th>\n      <td>...</td>\n      <td>...</td>\n      <td>...</td>\n      <td>...</td>\n      <td>...</td>\n    </tr>\n    <tr>\n      <th>870778</th>\n      <td>5.722467</td>\n      <td>5.755226</td>\n      <td>5.741371</td>\n      <td>0.032760</td>\n      <td>0.018904</td>\n    </tr>\n    <tr>\n      <th>869976</th>\n      <td>5.199115</td>\n      <td>5.437215</td>\n      <td>5.496664</td>\n      <td>0.238100</td>\n      <td>0.297549</td>\n    </tr>\n    <tr>\n      <th>57275</th>\n      <td>6.492248</td>\n      <td>5.489268</td>\n      <td>5.533040</td>\n      <td>1.002980</td>\n      <td>0.959208</td>\n    </tr>\n    <tr>\n      <th>56554</th>\n      <td>4.439024</td>\n      <td>4.862504</td>\n      <td>4.815633</td>\n      <td>0.423480</td>\n      <td>0.376609</td>\n    </tr>\n    <tr>\n      <th>57242</th>\n      <td>4.353175</td>\n      <td>4.887533</td>\n      <td>4.828973</td>\n      <td>0.534359</td>\n      <td>0.475798</td>\n    </tr>\n  </tbody>\n</table>\n<p>12818 rows × 5 columns</p>\n</div>"
     },
     "metadata": {},
     "execution_count": 22
    }
   ],
   "source": [
    "signific_df"
   ]
  },
  {
   "cell_type": "code",
   "execution_count": 23,
   "metadata": {},
   "outputs": [
    {
     "output_type": "execute_result",
     "data": {
      "text/plain": [
       "0.469713346947247"
      ]
     },
     "metadata": {},
     "execution_count": 23
    }
   ],
   "source": [
    "signific_df[\"our_error\"].mean()"
   ]
  },
  {
   "cell_type": "code",
   "execution_count": 24,
   "metadata": {},
   "outputs": [
    {
     "output_type": "execute_result",
     "data": {
      "text/plain": [
       "0.47161842894300243"
      ]
     },
     "metadata": {},
     "execution_count": 24
    }
   ],
   "source": [
    "signific_df[\"imagenet_error\"].mean()"
   ]
  },
  {
   "cell_type": "code",
   "execution_count": 25,
   "metadata": {},
   "outputs": [
    {
     "output_type": "execute_result",
     "data": {
      "text/plain": [
       "WilcoxonResult(statistic=39726629.5, pvalue=0.0012520504262138294)"
      ]
     },
     "metadata": {},
     "execution_count": 25
    }
   ],
   "source": [
    "wilcoxon(signific_df[\"our_error\"],signific_df[\"imagenet_error\"])"
   ]
  },
  {
   "cell_type": "code",
   "execution_count": 26,
   "metadata": {},
   "outputs": [
    {
     "output_type": "execute_result",
     "data": {
      "text/plain": [
       "WilcoxonResult(statistic=39726629.5, pvalue=0.0006260252131069147)"
      ]
     },
     "metadata": {},
     "execution_count": 26
    }
   ],
   "source": [
    "wilcoxon(signific_df[\"our_error\"],signific_df[\"imagenet_error\"], alternative=\"less\")"
   ]
  },
  {
   "cell_type": "code",
   "execution_count": null,
   "metadata": {},
   "outputs": [],
   "source": [
    "wilcoxon(signific_df[\"ours\"]-signific_df[\"gt_score\"], signific_df[\"imagenet\"]-signific_df[\"gt_score\"])"
   ]
  },
  {
   "cell_type": "code",
   "execution_count": 24,
   "metadata": {},
   "outputs": [
    {
     "output_type": "execute_result",
     "data": {
      "text/plain": [
       "WilcoxonResult(statistic=39330606.0, pvalue=1.5095608114004225e-05)"
      ]
     },
     "metadata": {},
     "execution_count": 24
    }
   ],
   "source": [
    "wilcoxon(signific_df[\"ours\"]-signific_df[\"gt_score\"], signific_df[\"imagenet\"]-signific_df[\"gt_score\"], alternative=\"less\")"
   ]
  },
  {
   "cell_type": "code",
   "execution_count": 25,
   "metadata": {},
   "outputs": [
    {
     "output_type": "execute_result",
     "data": {
      "text/plain": [
       "WilcoxonResult(statistic=39330606.0, pvalue=0.999984904391886)"
      ]
     },
     "metadata": {},
     "execution_count": 25
    }
   ],
   "source": [
    "wilcoxon(signific_df[\"ours\"]-signific_df[\"gt_score\"], signific_df[\"imagenet\"]-signific_df[\"gt_score\"], alternative=\"greater\")"
   ]
  }
 ]
}