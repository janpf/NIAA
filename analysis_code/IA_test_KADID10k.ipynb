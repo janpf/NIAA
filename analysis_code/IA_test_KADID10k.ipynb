{
 "cells": [
  {
   "cell_type": "code",
   "execution_count": null,
   "metadata": {
    "tags": []
   },
   "outputs": [],
   "source": [
    "import pandas as pd\n",
    "import matplotlib.pyplot as plt\n",
    "import seaborn as sns\n",
    "from IA.utils import mapping, parameter_range\n",
    "from scipy import stats\n",
    "import math\n",
    "from pathlib import Path\n",
    "from sklearn.linear_model import LinearRegression\n",
    "from sklearn import svm"
   ]
  },
  {
   "cell_type": "code",
   "execution_count": null,
   "metadata": {
    "tags": []
   },
   "outputs": [],
   "source": [
    "df = pd.read_csv(\"analysis/not_uploaded/IA/KADID10k/.scratch.ckpts.IA.pexels.scores-one.change_regress.epoch-9.pth.txt\")\n",
    "mos = pd.read_csv(\"analysis/not_uploaded/dmos.csv\")\n",
    "\n",
    "df[\"img\"] = df[\"img\"].apply(lambda row: Path(row).name)\n",
    "\n",
    "mos = mos.rename(columns={\"dist_img\": \"img\"})\n",
    "\n",
    "df = df.set_index(\"img\").join(mos.set_index(\"img\"))\n",
    "df = pd.DataFrame(df.to_records())\n",
    "\n",
    "df = df.dropna()\n",
    "\n",
    "df[\"img\"] = df[\"img\"].apply(lambda row: row.split(\".\")[0])\n",
    "\n",
    "df[\"img_id\"] = df[\"img\"].apply(lambda row: int(row.split(\"_\")[0][1:]))\n",
    "df[\"distortion\"] = df[\"img\"].apply(lambda row: int(row.split(\"_\")[1]))\n",
    "df[\"dist_level\"] = df[\"img\"].apply(lambda row: int(row.split(\"_\")[2]))\n",
    "\n",
    "try:\n",
    "    df[\"score\"] = (df[\"styles_score\"] + df[\"technical_score\"] + df[\"composition_score\"])/3\n",
    "except:\n",
    "    pass\n",
    "df"
   ]
  },
  {
   "cell_type": "code",
   "execution_count": null,
   "metadata": {},
   "outputs": [],
   "source": [
    "Blurs\n",
    "# 01 Gaussian blur: filter with a variable Gaussian kernel\n",
    "# 02 Lens blur: filter with a circular kernel\n",
    "# 03 Motion blur: ​filter with a line kernel\n",
    "Color distortions\n",
    "# 04 Color diffusion:  Gaussian blur the color channels (a and b) in the Lab color-space\n",
    "# 05 Color shift:  randomly translate the green channel, and blend it into the original image masked by a gray level map: the normalized gradient magnitude of the original image\n",
    "# 06 Color quantization: convert to indexed image using minimum variance quantization and dithering with 8 to 64 colors\n",
    "# 07 Color saturation 1:  multiply the saturation channel in the HSV color-space by a factor\n",
    "# 08 Color saturation 2: multiply the color channels in the Lab colorspace by a factor\n",
    "Compression\n",
    "# 09 JPEG2000: standard compression\n",
    "# 10 JPEG: standard compression\n",
    "Noise\n",
    "# 11 White noise: add Gaussian white noise to the RGB image\n",
    "# 12 White noise in color component: add Gaussian white noise to the YCbCr converted image (both to the luminance ‘Y‘ and the color channels ‘Cb‘ and ‘Cr‘)\n",
    "# 13 Impulse noise:  add salt and pepper noise to the RGB image\n",
    "# 14 Multiplicative noise: add speckle noise to the RGB image\n",
    "# 15 Denoise: add Gaussian white noise to RGB image, and then apply a denoising DnCNN to each channel separately\n",
    "Brightness change\n",
    "# 16 Brighten: non-linearly adjust the luminance channel keeping extreme values fixed, and increasing others\n",
    "# 17 Darken: similar to brighten, but decrease other values\n",
    "# 18 Mean shift:  add constant to all values in image, and truncate to original value range\n",
    "Spatial distortions\n",
    "# 19 Jitter: randomly scatter image data by warping each pixel with random small offsets (bicubic interpolation)\n",
    "# 20 Non-eccentricity patch:  randomly offset small patches in the image to nearby locations\n",
    "# 21 Pixelate: downsize image and upsize it back to the original size using nearest-neighbor interpolation in each case\n",
    "# 22  Quantization: quantize image values using N thresholds obtained using Otsus method\n",
    "# 23  Color block: insert homogeneous random colored blocks at random locations in the image\n",
    "Sharpness and contrast\n",
    "# 24 High sharpen:  over-sharpen image using unsharp masking\n",
    "# 25 Contrast change:  non-linearly change RGB values using a Sigmoid-type adjustment curve"
   ]
  },
  {
   "cell_type": "code",
   "execution_count": null,
   "metadata": {},
   "outputs": [],
   "source": [
    "def histogram_distortion(distortion:int, score:str):\n",
    "    plot_frame = df[(df[\"distortion\"] == distortion) | (df[\"distortion\"] == 0)]\n",
    "    for dist_level in range(6):\n",
    "        sns.distplot(plot_frame[(plot_frame[\"dist_level\"] == dist_level)][score], label=f\"{distortion}: {dist_level}\")\n",
    "    plt.legend()"
   ]
  },
  {
   "cell_type": "code",
   "execution_count": null,
   "metadata": {},
   "outputs": [],
   "source": [
    "def violin_distortion(distortion:int, score:str):\n",
    "    plot_frame = df[(df[\"distortion\"] == distortion) | (df[\"distortion\"] == 0)]\n",
    "    sns.violinplot(data=plot_frame, x=\"dist_level\", y=score, color=\"steelblue\")\n",
    "    plt.legend()"
   ]
  },
  {
   "cell_type": "code",
   "execution_count": null,
   "metadata": {},
   "outputs": [],
   "source": [
    "histogram_distortion(10, \"score\")"
   ]
  },
  {
   "cell_type": "code",
   "execution_count": null,
   "metadata": {},
   "outputs": [],
   "source": [
    "histogram_distortion(10, \"dmos\")"
   ]
  },
  {
   "cell_type": "code",
   "execution_count": null,
   "metadata": {},
   "outputs": [],
   "source": [
    "violin_distortion(10, \"score\")"
   ]
  },
  {
   "cell_type": "code",
   "execution_count": null,
   "metadata": {},
   "outputs": [],
   "source": [
    "violin_distortion(10, \"dmos\")"
   ]
  },
  {
   "cell_type": "code",
   "execution_count": null,
   "metadata": {},
   "outputs": [],
   "source": [
    "sns.kdeplot(x=df[\"dmos\"], y=df[\"score\"])"
   ]
  },
  {
   "cell_type": "code",
   "execution_count": null,
   "metadata": {},
   "outputs": [],
   "source": [
    "for dist in range(1, 26):\n",
    "    results = []\n",
    "    for img in range(1,82):\n",
    "        results.append(stats.spearmanr(df[(df[\"img_id\"] == img) & (df[\"distortion\"] == dist)][\"dist_level\"], df[(df[\"img_id\"] == img) & (df[\"distortion\"] == dist)][\"score\"]))\n",
    "    print(dist,\"\\t\", sum([val[0] for val in results])/len(results))"
   ]
  },
  {
   "cell_type": "code",
   "execution_count": null,
   "metadata": {},
   "outputs": [],
   "source": [
    "for dist in range(1, 26):\n",
    "    results = []\n",
    "    for img in range(1,82):\n",
    "        results.append(stats.spearmanr(df[(df[\"img_id\"] == img) & (df[\"distortion\"] == dist)][\"dist_level\"], df[(df[\"img_id\"] == img) & (df[\"distortion\"] == dist)][\"dmos\"]))\n",
    "    print(dist,\"\\t\", sum([val[0] for val in results])/len(results))"
   ]
  },
  {
   "cell_type": "code",
   "execution_count": null,
   "metadata": {},
   "outputs": [],
   "source": [
    "ranks = []\n",
    "for dist in range(1, 26):\n",
    "    results = []\n",
    "    for img in range(1,82):\n",
    "        results.append(stats.pearsonr(df[(df[\"img_id\"] == img) & (df[\"distortion\"] == dist)][\"dmos\"], df[(df[\"img_id\"] == img) & (df[\"distortion\"] == dist)][\"score\"]))\n",
    "    print(dist,\"\\t\", sum([val[0] for val in results])/len(results))\n",
    "    ranks.append(sum([val[0] for val in results])/len(results))\n",
    "print(\"avg\", \"\\t\", sum(ranks) / len(ranks))"
   ]
  },
  {
   "cell_type": "code",
   "execution_count": null,
   "metadata": {},
   "outputs": [],
   "source": [
    "stats.spearmanr(df[[\"dmos\", \"score\"]])"
   ]
  },
  {
   "cell_type": "code",
   "execution_count": null,
   "metadata": {},
   "outputs": [],
   "source": [
    "stats.pearsonr(df[\"dmos\"], df[\"score\"])"
   ]
  },
  {
   "cell_type": "code",
   "execution_count": null,
   "metadata": {},
   "outputs": [],
   "source": [
    "features = [c for c in df.columns if c not in [\"index\", \"img\", \"img_id\", \"distortion\", \"dist_level\", \"var\", \"ref_img\"]]\n",
    "reg_df = df.dropna()\n",
    "train = reg_df[reg_df[\"img_id\"] <= 30].reset_index()[features]\n",
    "test = reg_df[reg_df[\"img_id\"] > 30].reset_index()[features]"
   ]
  },
  {
   "cell_type": "code",
   "execution_count": null,
   "metadata": {},
   "outputs": [],
   "source": [
    "reg = svm.SVR().fit(train.drop(columns=[\"dmos\"]), train[\"dmos\"])\n",
    "reg.score(train.drop(columns=[\"dmos\"]), train[\"dmos\"])"
   ]
  },
  {
   "cell_type": "code",
   "execution_count": null,
   "metadata": {},
   "outputs": [],
   "source": [
    "reg.score(test.drop(columns=[\"dmos\"]), test[\"dmos\"])"
   ]
  },
  {
   "cell_type": "code",
   "execution_count": null,
   "metadata": {},
   "outputs": [],
   "source": [
    "stats.pearsonr(reg.predict(test.drop(columns=[\"dmos\"])), test[\"dmos\"])"
   ]
  },
  {
   "cell_type": "code",
   "execution_count": null,
   "metadata": {},
   "outputs": [],
   "source": [
    "reg = LinearRegression().fit(train.drop(columns=[\"dmos\"]), train[\"dmos\"])\n",
    "reg.score(train.drop(columns=[\"dmos\"]), train[\"dmos\"])"
   ]
  },
  {
   "cell_type": "code",
   "execution_count": null,
   "metadata": {},
   "outputs": [],
   "source": [
    "reg.score(test.drop(columns=[\"dmos\"]), test[\"dmos\"])"
   ]
  },
  {
   "cell_type": "code",
   "execution_count": null,
   "metadata": {},
   "outputs": [],
   "source": [
    "reg.score(test.drop(columns=[\"dmos\"]), test[\"dmos\"])"
   ]
  },
  {
   "cell_type": "code",
   "execution_count": null,
   "metadata": {},
   "outputs": [],
   "source": [
    "stats.pearsonr(reg.predict(test.drop(columns=[\"dmos\"])), test[\"dmos\"])"
   ]
  },
  {
   "cell_type": "code",
   "execution_count": null,
   "metadata": {},
   "outputs": [],
   "source": [
    "sns.kdeplot(x=test[\"dmos\"], y=reg.predict(test.drop(columns=[\"dmos\"])))"
   ]
  },
  {
   "cell_type": "code",
   "execution_count": null,
   "metadata": {},
   "outputs": [],
   "source": [
    "df[~df[\"img\"].str.contains(\"00_0\")].sort_values(by=\"img\").reset_index()[[\"score\",\"img\"]].to_csv(\"analysis/not_uploaded/IA/TID/pred_scores\", index=False, sep=\" \")"
   ]
  },
  {
   "cell_type": "code",
   "execution_count": null,
   "metadata": {},
   "outputs": [],
   "source": []
  }
 ],
 "metadata": {
  "kernelspec": {
   "display_name": "Python 3.8.5 64-bit ('venv': venv)",
   "metadata": {
    "interpreter": {
     "hash": "73342ffb4f39afd09b383dcd177331173d9f4e4f229d5295da570a820709ffee"
    }
   },
   "name": "Python 3.8.5 64-bit ('venv': venv)"
  },
  "language_info": {
   "codemirror_mode": {
    "name": "ipython",
    "version": 3
   },
   "file_extension": ".py",
   "mimetype": "text/x-python",
   "name": "python",
   "nbconvert_exporter": "python",
   "pygments_lexer": "ipython3",
   "version": "3.8.5-final"
  }
 },
 "nbformat": 4,
 "nbformat_minor": 2
}
