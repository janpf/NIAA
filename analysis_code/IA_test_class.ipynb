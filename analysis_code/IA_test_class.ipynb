{
 "cells": [
  {
   "cell_type": "code",
   "execution_count": 22,
   "metadata": {
    "tags": []
   },
   "outputs": [],
   "source": [
    "import sys\n",
    "sys.path.insert(0, \"..\")\n",
    "\n",
    "import pandas as pd\n",
    "import matplotlib.pyplot as plt\n",
    "import seaborn as sns\n",
    "from IA.utils import mapping, parameter_range\n",
    "from scipy import stats\n",
    "import math\n",
    "import swifter\n",
    "from collections import Counter"
   ]
  },
  {
   "cell_type": "code",
   "execution_count": 2,
   "metadata": {
    "scrolled": true
   },
   "outputs": [
    {
     "output_type": "stream",
     "name": "stdout",
     "text": [
      "-rw-r--r-- 1 janpf janpf 712M Oct 27 01:05 .scratch.ckpts.IA.pexels.scores-one.change_class.epoch-5.pth.txt\n-rw-r--r-- 1 janpf janpf 836M Oct 27 01:05 .scratch.ckpts.IA.pexels.scores-three.change_class.epoch-1.pth.txt\n"
     ]
    }
   ],
   "source": [
    "!ls -lah analysis/not_uploaded/IA/ | grep class"
   ]
  },
  {
   "cell_type": "code",
   "execution_count": 3,
   "metadata": {
    "tags": []
   },
   "outputs": [
    {
     "output_type": "stream",
     "name": "stderr",
     "text": [
      "Pandas Apply: 100%|██████████| 2610000/2610000 [00:22<00:00, 114668.04it/s]\n",
      "Index(['img', 'distortion', 'level', 'score', 'styles_contrast_class',\n",
      "       'styles_brightness_class', 'styles_saturation_class',\n",
      "       'styles_shadows_class', 'styles_highlights_class',\n",
      "       'styles_exposure_class', 'styles_vibrance_class',\n",
      "       'styles_temperature_class', 'styles_tint_class',\n",
      "       'technical_jpeg_compression_class', 'technical_defocus_blur_class',\n",
      "       'technical_motion_blur_class', 'technical_pixelate_class',\n",
      "       'technical_gaussian_noise_class', 'technical_impulse_noise_class',\n",
      "       'composition_rotate_class', 'composition_hcrop_class',\n",
      "       'composition_vcrop_class', 'composition_leftcornerscrop_class',\n",
      "       'composition_rightcornerscrop_class', 'composition_ratio_class'],\n",
      "      dtype='object')\n"
     ]
    },
    {
     "output_type": "execute_result",
     "data": {
      "text/plain": [
       "                                                       img distortion  level  \\\n",
       "0        5/3/c/abbey-glass-religion-architecture-106158...   original    0.0   \n",
       "1        9/4/4/abraham-lincoln-lincoln-memorial-washing...   original    0.0   \n",
       "2        a/5/9/abstract-background-backgrounds-botany-8...   original    0.0   \n",
       "3          2/2/c/adler-bird-bird-of-prey-raptor-53587.jpeg   original    0.0   \n",
       "4                  a/0/7/adult-cute-face-female-41522.jpeg   original    0.0   \n",
       "...                                                    ...        ...    ...   \n",
       "2609995         0/d/b/wood-painting-window-cactus-6689.jpg      ratio    5.0   \n",
       "2609996                   0/1/0/wood-sky-forest-autumn.jpg      ratio    5.0   \n",
       "2609997                   0/d/2/wood-stool-wooden-wine.jpg      ratio    5.0   \n",
       "2609998                     b/5/e/wood-tree-brown-bark.jpg      ratio    5.0   \n",
       "2609999  f/3/2/yorkshire-terrier-terrier-dog-small-dog-...      ratio    5.0   \n",
       "\n",
       "            score  styles_contrast_class  styles_brightness_class  \\\n",
       "0        0.830078               3.623047                 5.226562   \n",
       "1        0.570312               7.121094                 9.171875   \n",
       "2        0.374756               7.789062                 7.332031   \n",
       "3        0.553711               6.363281                 7.136719   \n",
       "4        0.407471              11.007812                13.500000   \n",
       "...           ...                    ...                      ...   \n",
       "2609995  0.716797               7.535156                 8.476562   \n",
       "2609996  0.522949               4.722656                 5.097656   \n",
       "2609997  0.797363               7.339844                 8.773438   \n",
       "2609998  0.852051               7.550781                 6.988281   \n",
       "2609999  0.590332               8.039062                 8.656250   \n",
       "\n",
       "         styles_saturation_class  styles_shadows_class  \\\n",
       "0                       7.175781              6.683594   \n",
       "1                      10.195312              8.843750   \n",
       "2                       7.851562              8.062500   \n",
       "3                       8.328125              8.984375   \n",
       "4                      12.304688             13.398438   \n",
       "...                          ...                   ...   \n",
       "2609995                 9.562500              7.472656   \n",
       "2609996                 6.281250              6.027344   \n",
       "2609997                 8.523438              8.898438   \n",
       "2609998                 8.007812              8.078125   \n",
       "2609999                 9.359375              8.750000   \n",
       "\n",
       "         styles_highlights_class  styles_exposure_class  ...  \\\n",
       "0                       7.171875               2.625000  ...   \n",
       "1                      10.031250               9.453125  ...   \n",
       "2                       7.734375               7.847656  ...   \n",
       "3                       8.359375               7.527344  ...   \n",
       "4                      12.343750              10.914062  ...   \n",
       "...                          ...                    ...  ...   \n",
       "2609995                 9.914062               8.281250  ...   \n",
       "2609996                 6.367188               3.958984  ...   \n",
       "2609997                 9.304688               7.332031  ...   \n",
       "2609998                 8.710938               5.902344  ...   \n",
       "2609999                 9.585938               7.562500  ...   \n",
       "\n",
       "         technical_motion_blur_class  technical_pixelate_class  \\\n",
       "0                           0.398193                  0.854980   \n",
       "1                          -0.735840                  2.380859   \n",
       "2                           0.638672                  3.476562   \n",
       "3                           1.218750                 -0.740234   \n",
       "4                           2.169922                  4.164062   \n",
       "...                              ...                       ...   \n",
       "2609995                     0.209473                  1.983398   \n",
       "2609996                     1.300781                  2.632812   \n",
       "2609997                     1.437500                  4.968750   \n",
       "2609998                     1.941406                  3.630859   \n",
       "2609999                    -0.969238                  1.563477   \n",
       "\n",
       "         technical_gaussian_noise_class  technical_impulse_noise_class  \\\n",
       "0                              1.997070                       0.702148   \n",
       "1                              0.815918                      -0.728516   \n",
       "2                             -3.263672                      -6.703125   \n",
       "3                              0.238525                       1.049805   \n",
       "4                              0.513184                      -4.781250   \n",
       "...                                 ...                            ...   \n",
       "2609995                        1.073242                       0.865234   \n",
       "2609996                       -2.576172                       0.654297   \n",
       "2609997                       -3.333984                      -5.523438   \n",
       "2609998                       -2.933594                      -5.585938   \n",
       "2609999                        2.349609                       0.926758   \n",
       "\n",
       "         composition_rotate_class  composition_hcrop_class  \\\n",
       "0                        2.726562                 2.298828   \n",
       "1                        4.417969                 3.250000   \n",
       "2                        4.800781                 2.710938   \n",
       "3                        4.042969                 2.613281   \n",
       "4                        4.218750                 5.000000   \n",
       "...                           ...                      ...   \n",
       "2609995                  3.978516                 3.611328   \n",
       "2609996                  2.146484                 2.251953   \n",
       "2609997                  3.738281                 3.185547   \n",
       "2609998                  3.601562                 3.058594   \n",
       "2609999                  3.744141                 3.693359   \n",
       "\n",
       "         composition_vcrop_class  composition_leftcornerscrop_class  \\\n",
       "0                       2.359375                           2.263672   \n",
       "1                       3.578125                           3.154297   \n",
       "2                       2.888672                           2.816406   \n",
       "3                       2.833984                           2.494141   \n",
       "4                       5.097656                           5.125000   \n",
       "...                          ...                                ...   \n",
       "2609995                 4.113281                           3.267578   \n",
       "2609996                 2.152344                           2.083984   \n",
       "2609997                 3.212891                           2.630859   \n",
       "2609998                 3.078125                           2.585938   \n",
       "2609999                 3.755859                           3.363281   \n",
       "\n",
       "         composition_rightcornerscrop_class  composition_ratio_class  \n",
       "0                                  2.322266                 0.961914  \n",
       "1                                  3.255859                 3.960938  \n",
       "2                                  2.835938                 1.827148  \n",
       "3                                  2.542969                 3.861328  \n",
       "4                                  5.171875                 3.882812  \n",
       "...                                     ...                      ...  \n",
       "2609995                            3.746094                 2.777344  \n",
       "2609996                            2.695312                 1.942383  \n",
       "2609997                            3.322266                 3.720703  \n",
       "2609998                            2.724609                 2.375000  \n",
       "2609999                            4.093750                 2.380859  \n",
       "\n",
       "[2610000 rows x 25 columns]"
      ],
      "text/html": "<div>\n<style scoped>\n    .dataframe tbody tr th:only-of-type {\n        vertical-align: middle;\n    }\n\n    .dataframe tbody tr th {\n        vertical-align: top;\n    }\n\n    .dataframe thead th {\n        text-align: right;\n    }\n</style>\n<table border=\"1\" class=\"dataframe\">\n  <thead>\n    <tr style=\"text-align: right;\">\n      <th></th>\n      <th>img</th>\n      <th>distortion</th>\n      <th>level</th>\n      <th>score</th>\n      <th>styles_contrast_class</th>\n      <th>styles_brightness_class</th>\n      <th>styles_saturation_class</th>\n      <th>styles_shadows_class</th>\n      <th>styles_highlights_class</th>\n      <th>styles_exposure_class</th>\n      <th>...</th>\n      <th>technical_motion_blur_class</th>\n      <th>technical_pixelate_class</th>\n      <th>technical_gaussian_noise_class</th>\n      <th>technical_impulse_noise_class</th>\n      <th>composition_rotate_class</th>\n      <th>composition_hcrop_class</th>\n      <th>composition_vcrop_class</th>\n      <th>composition_leftcornerscrop_class</th>\n      <th>composition_rightcornerscrop_class</th>\n      <th>composition_ratio_class</th>\n    </tr>\n  </thead>\n  <tbody>\n    <tr>\n      <th>0</th>\n      <td>5/3/c/abbey-glass-religion-architecture-106158...</td>\n      <td>original</td>\n      <td>0.0</td>\n      <td>0.830078</td>\n      <td>3.623047</td>\n      <td>5.226562</td>\n      <td>7.175781</td>\n      <td>6.683594</td>\n      <td>7.171875</td>\n      <td>2.625000</td>\n      <td>...</td>\n      <td>0.398193</td>\n      <td>0.854980</td>\n      <td>1.997070</td>\n      <td>0.702148</td>\n      <td>2.726562</td>\n      <td>2.298828</td>\n      <td>2.359375</td>\n      <td>2.263672</td>\n      <td>2.322266</td>\n      <td>0.961914</td>\n    </tr>\n    <tr>\n      <th>1</th>\n      <td>9/4/4/abraham-lincoln-lincoln-memorial-washing...</td>\n      <td>original</td>\n      <td>0.0</td>\n      <td>0.570312</td>\n      <td>7.121094</td>\n      <td>9.171875</td>\n      <td>10.195312</td>\n      <td>8.843750</td>\n      <td>10.031250</td>\n      <td>9.453125</td>\n      <td>...</td>\n      <td>-0.735840</td>\n      <td>2.380859</td>\n      <td>0.815918</td>\n      <td>-0.728516</td>\n      <td>4.417969</td>\n      <td>3.250000</td>\n      <td>3.578125</td>\n      <td>3.154297</td>\n      <td>3.255859</td>\n      <td>3.960938</td>\n    </tr>\n    <tr>\n      <th>2</th>\n      <td>a/5/9/abstract-background-backgrounds-botany-8...</td>\n      <td>original</td>\n      <td>0.0</td>\n      <td>0.374756</td>\n      <td>7.789062</td>\n      <td>7.332031</td>\n      <td>7.851562</td>\n      <td>8.062500</td>\n      <td>7.734375</td>\n      <td>7.847656</td>\n      <td>...</td>\n      <td>0.638672</td>\n      <td>3.476562</td>\n      <td>-3.263672</td>\n      <td>-6.703125</td>\n      <td>4.800781</td>\n      <td>2.710938</td>\n      <td>2.888672</td>\n      <td>2.816406</td>\n      <td>2.835938</td>\n      <td>1.827148</td>\n    </tr>\n    <tr>\n      <th>3</th>\n      <td>2/2/c/adler-bird-bird-of-prey-raptor-53587.jpeg</td>\n      <td>original</td>\n      <td>0.0</td>\n      <td>0.553711</td>\n      <td>6.363281</td>\n      <td>7.136719</td>\n      <td>8.328125</td>\n      <td>8.984375</td>\n      <td>8.359375</td>\n      <td>7.527344</td>\n      <td>...</td>\n      <td>1.218750</td>\n      <td>-0.740234</td>\n      <td>0.238525</td>\n      <td>1.049805</td>\n      <td>4.042969</td>\n      <td>2.613281</td>\n      <td>2.833984</td>\n      <td>2.494141</td>\n      <td>2.542969</td>\n      <td>3.861328</td>\n    </tr>\n    <tr>\n      <th>4</th>\n      <td>a/0/7/adult-cute-face-female-41522.jpeg</td>\n      <td>original</td>\n      <td>0.0</td>\n      <td>0.407471</td>\n      <td>11.007812</td>\n      <td>13.500000</td>\n      <td>12.304688</td>\n      <td>13.398438</td>\n      <td>12.343750</td>\n      <td>10.914062</td>\n      <td>...</td>\n      <td>2.169922</td>\n      <td>4.164062</td>\n      <td>0.513184</td>\n      <td>-4.781250</td>\n      <td>4.218750</td>\n      <td>5.000000</td>\n      <td>5.097656</td>\n      <td>5.125000</td>\n      <td>5.171875</td>\n      <td>3.882812</td>\n    </tr>\n    <tr>\n      <th>...</th>\n      <td>...</td>\n      <td>...</td>\n      <td>...</td>\n      <td>...</td>\n      <td>...</td>\n      <td>...</td>\n      <td>...</td>\n      <td>...</td>\n      <td>...</td>\n      <td>...</td>\n      <td>...</td>\n      <td>...</td>\n      <td>...</td>\n      <td>...</td>\n      <td>...</td>\n      <td>...</td>\n      <td>...</td>\n      <td>...</td>\n      <td>...</td>\n      <td>...</td>\n      <td>...</td>\n    </tr>\n    <tr>\n      <th>2609995</th>\n      <td>0/d/b/wood-painting-window-cactus-6689.jpg</td>\n      <td>ratio</td>\n      <td>5.0</td>\n      <td>0.716797</td>\n      <td>7.535156</td>\n      <td>8.476562</td>\n      <td>9.562500</td>\n      <td>7.472656</td>\n      <td>9.914062</td>\n      <td>8.281250</td>\n      <td>...</td>\n      <td>0.209473</td>\n      <td>1.983398</td>\n      <td>1.073242</td>\n      <td>0.865234</td>\n      <td>3.978516</td>\n      <td>3.611328</td>\n      <td>4.113281</td>\n      <td>3.267578</td>\n      <td>3.746094</td>\n      <td>2.777344</td>\n    </tr>\n    <tr>\n      <th>2609996</th>\n      <td>0/1/0/wood-sky-forest-autumn.jpg</td>\n      <td>ratio</td>\n      <td>5.0</td>\n      <td>0.522949</td>\n      <td>4.722656</td>\n      <td>5.097656</td>\n      <td>6.281250</td>\n      <td>6.027344</td>\n      <td>6.367188</td>\n      <td>3.958984</td>\n      <td>...</td>\n      <td>1.300781</td>\n      <td>2.632812</td>\n      <td>-2.576172</td>\n      <td>0.654297</td>\n      <td>2.146484</td>\n      <td>2.251953</td>\n      <td>2.152344</td>\n      <td>2.083984</td>\n      <td>2.695312</td>\n      <td>1.942383</td>\n    </tr>\n    <tr>\n      <th>2609997</th>\n      <td>0/d/2/wood-stool-wooden-wine.jpg</td>\n      <td>ratio</td>\n      <td>5.0</td>\n      <td>0.797363</td>\n      <td>7.339844</td>\n      <td>8.773438</td>\n      <td>8.523438</td>\n      <td>8.898438</td>\n      <td>9.304688</td>\n      <td>7.332031</td>\n      <td>...</td>\n      <td>1.437500</td>\n      <td>4.968750</td>\n      <td>-3.333984</td>\n      <td>-5.523438</td>\n      <td>3.738281</td>\n      <td>3.185547</td>\n      <td>3.212891</td>\n      <td>2.630859</td>\n      <td>3.322266</td>\n      <td>3.720703</td>\n    </tr>\n    <tr>\n      <th>2609998</th>\n      <td>b/5/e/wood-tree-brown-bark.jpg</td>\n      <td>ratio</td>\n      <td>5.0</td>\n      <td>0.852051</td>\n      <td>7.550781</td>\n      <td>6.988281</td>\n      <td>8.007812</td>\n      <td>8.078125</td>\n      <td>8.710938</td>\n      <td>5.902344</td>\n      <td>...</td>\n      <td>1.941406</td>\n      <td>3.630859</td>\n      <td>-2.933594</td>\n      <td>-5.585938</td>\n      <td>3.601562</td>\n      <td>3.058594</td>\n      <td>3.078125</td>\n      <td>2.585938</td>\n      <td>2.724609</td>\n      <td>2.375000</td>\n    </tr>\n    <tr>\n      <th>2609999</th>\n      <td>f/3/2/yorkshire-terrier-terrier-dog-small-dog-...</td>\n      <td>ratio</td>\n      <td>5.0</td>\n      <td>0.590332</td>\n      <td>8.039062</td>\n      <td>8.656250</td>\n      <td>9.359375</td>\n      <td>8.750000</td>\n      <td>9.585938</td>\n      <td>7.562500</td>\n      <td>...</td>\n      <td>-0.969238</td>\n      <td>1.563477</td>\n      <td>2.349609</td>\n      <td>0.926758</td>\n      <td>3.744141</td>\n      <td>3.693359</td>\n      <td>3.755859</td>\n      <td>3.363281</td>\n      <td>4.093750</td>\n      <td>2.380859</td>\n    </tr>\n  </tbody>\n</table>\n<p>2610000 rows × 25 columns</p>\n</div>"
     },
     "metadata": {},
     "execution_count": 3
    }
   ],
   "source": [
    "df = pd.read_csv(\"analysis/not_uploaded/IA/.scratch.ckpts.IA.pexels.scores-one.change_class.epoch-5.pth.txt\")\n",
    "\n",
    "for col in df.columns:\n",
    "    if not\"score\" in col:\n",
    "        continue\n",
    "\n",
    "    df[col] = df[col].swifter.apply(lambda row: eval(row)[0])\n",
    "\n",
    "print(df.columns)\n",
    "df"
   ]
  },
  {
   "cell_type": "code",
   "execution_count": 4,
   "metadata": {},
   "outputs": [],
   "source": [
    "def find_class(row:pd.Series, dist_type:str):\n",
    "    relevant_cols = [c for c, _ in row.iteritems() if dist_type in c and \"class\" in c]\n",
    "    m = -1\n",
    "    m_c = \"\"\n",
    "    for c in relevant_cols:\n",
    "        if row[c] > m:\n",
    "            m = row[c]\n",
    "            m_c = c\n",
    "    return m_c.split(\"_\")[1]"
   ]
  },
  {
   "cell_type": "code",
   "execution_count": 5,
   "metadata": {
    "tags": []
   },
   "outputs": [],
   "source": [
    "df[\"styles_class\"] = df.apply(lambda row: find_class(row, \"styles\"), axis=1)\n",
    "df[\"technical_class\"] = df.apply(lambda row: find_class(row, \"technical\"), axis=1)\n",
    "df[\"composition_class\"] = df.apply(lambda row: find_class(row, \"composition\"), axis=1)"
   ]
  },
  {
   "cell_type": "code",
   "execution_count": 29,
   "metadata": {},
   "outputs": [],
   "source": [
    "df[df[\"technical_class\"] == \"jpeg\"][\"technical_class\"] = \"jpeg_compression\""
   ]
  },
  {
   "cell_type": "code",
   "execution_count": 31,
   "metadata": {},
   "outputs": [
    {
     "output_type": "execute_result",
     "data": {
      "text/plain": [
       "                                                       img distortion  level  \\\n",
       "0        5/3/c/abbey-glass-religion-architecture-106158...   original    0.0   \n",
       "1        9/4/4/abraham-lincoln-lincoln-memorial-washing...   original    0.0   \n",
       "2        a/5/9/abstract-background-backgrounds-botany-8...   original    0.0   \n",
       "3          2/2/c/adler-bird-bird-of-prey-raptor-53587.jpeg   original    0.0   \n",
       "4                  a/0/7/adult-cute-face-female-41522.jpeg   original    0.0   \n",
       "...                                                    ...        ...    ...   \n",
       "2609995         0/d/b/wood-painting-window-cactus-6689.jpg      ratio    5.0   \n",
       "2609996                   0/1/0/wood-sky-forest-autumn.jpg      ratio    5.0   \n",
       "2609997                   0/d/2/wood-stool-wooden-wine.jpg      ratio    5.0   \n",
       "2609998                     b/5/e/wood-tree-brown-bark.jpg      ratio    5.0   \n",
       "2609999  f/3/2/yorkshire-terrier-terrier-dog-small-dog-...      ratio    5.0   \n",
       "\n",
       "            score  styles_contrast_class  styles_brightness_class  \\\n",
       "0        0.830078               3.623047                 5.226562   \n",
       "1        0.570312               7.121094                 9.171875   \n",
       "2        0.374756               7.789062                 7.332031   \n",
       "3        0.553711               6.363281                 7.136719   \n",
       "4        0.407471              11.007812                13.500000   \n",
       "...           ...                    ...                      ...   \n",
       "2609995  0.716797               7.535156                 8.476562   \n",
       "2609996  0.522949               4.722656                 5.097656   \n",
       "2609997  0.797363               7.339844                 8.773438   \n",
       "2609998  0.852051               7.550781                 6.988281   \n",
       "2609999  0.590332               8.039062                 8.656250   \n",
       "\n",
       "         styles_saturation_class  styles_shadows_class  \\\n",
       "0                       7.175781              6.683594   \n",
       "1                      10.195312              8.843750   \n",
       "2                       7.851562              8.062500   \n",
       "3                       8.328125              8.984375   \n",
       "4                      12.304688             13.398438   \n",
       "...                          ...                   ...   \n",
       "2609995                 9.562500              7.472656   \n",
       "2609996                 6.281250              6.027344   \n",
       "2609997                 8.523438              8.898438   \n",
       "2609998                 8.007812              8.078125   \n",
       "2609999                 9.359375              8.750000   \n",
       "\n",
       "         styles_highlights_class  styles_exposure_class  ...  \\\n",
       "0                       7.171875               2.625000  ...   \n",
       "1                      10.031250               9.453125  ...   \n",
       "2                       7.734375               7.847656  ...   \n",
       "3                       8.359375               7.527344  ...   \n",
       "4                      12.343750              10.914062  ...   \n",
       "...                          ...                    ...  ...   \n",
       "2609995                 9.914062               8.281250  ...   \n",
       "2609996                 6.367188               3.958984  ...   \n",
       "2609997                 9.304688               7.332031  ...   \n",
       "2609998                 8.710938               5.902344  ...   \n",
       "2609999                 9.585938               7.562500  ...   \n",
       "\n",
       "         technical_impulse_noise_class  composition_rotate_class  \\\n",
       "0                             0.702148                  2.726562   \n",
       "1                            -0.728516                  4.417969   \n",
       "2                            -6.703125                  4.800781   \n",
       "3                             1.049805                  4.042969   \n",
       "4                            -4.781250                  4.218750   \n",
       "...                                ...                       ...   \n",
       "2609995                       0.865234                  3.978516   \n",
       "2609996                       0.654297                  2.146484   \n",
       "2609997                      -5.523438                  3.738281   \n",
       "2609998                      -5.585938                  3.601562   \n",
       "2609999                       0.926758                  3.744141   \n",
       "\n",
       "         composition_hcrop_class  composition_vcrop_class  \\\n",
       "0                       2.298828                 2.359375   \n",
       "1                       3.250000                 3.578125   \n",
       "2                       2.710938                 2.888672   \n",
       "3                       2.613281                 2.833984   \n",
       "4                       5.000000                 5.097656   \n",
       "...                          ...                      ...   \n",
       "2609995                 3.611328                 4.113281   \n",
       "2609996                 2.251953                 2.152344   \n",
       "2609997                 3.185547                 3.212891   \n",
       "2609998                 3.058594                 3.078125   \n",
       "2609999                 3.693359                 3.755859   \n",
       "\n",
       "         composition_leftcornerscrop_class  \\\n",
       "0                                 2.263672   \n",
       "1                                 3.154297   \n",
       "2                                 2.816406   \n",
       "3                                 2.494141   \n",
       "4                                 5.125000   \n",
       "...                                    ...   \n",
       "2609995                           3.267578   \n",
       "2609996                           2.083984   \n",
       "2609997                           2.630859   \n",
       "2609998                           2.585938   \n",
       "2609999                           3.363281   \n",
       "\n",
       "         composition_rightcornerscrop_class  composition_ratio_class  \\\n",
       "0                                  2.322266                 0.961914   \n",
       "1                                  3.255859                 3.960938   \n",
       "2                                  2.835938                 1.827148   \n",
       "3                                  2.542969                 3.861328   \n",
       "4                                  5.171875                 3.882812   \n",
       "...                                     ...                      ...   \n",
       "2609995                            3.746094                 2.777344   \n",
       "2609996                            2.695312                 1.942383   \n",
       "2609997                            3.322266                 3.720703   \n",
       "2609998                            2.724609                 2.375000   \n",
       "2609999                            4.093750                 2.380859   \n",
       "\n",
       "         styles_class  technical_class  composition_class  \n",
       "0          saturation         gaussian             rotate  \n",
       "1          saturation             jpeg             rotate  \n",
       "2         temperature         pixelate             rotate  \n",
       "3             shadows             jpeg             rotate  \n",
       "4          brightness         pixelate   rightcornerscrop  \n",
       "...               ...              ...                ...  \n",
       "2609995   temperature             jpeg              vcrop  \n",
       "2609996          tint         pixelate   rightcornerscrop  \n",
       "2609997    highlights         pixelate             rotate  \n",
       "2609998    highlights             jpeg             rotate  \n",
       "2609999    highlights             jpeg   rightcornerscrop  \n",
       "\n",
       "[2610000 rows x 28 columns]"
      ],
      "text/html": "<div>\n<style scoped>\n    .dataframe tbody tr th:only-of-type {\n        vertical-align: middle;\n    }\n\n    .dataframe tbody tr th {\n        vertical-align: top;\n    }\n\n    .dataframe thead th {\n        text-align: right;\n    }\n</style>\n<table border=\"1\" class=\"dataframe\">\n  <thead>\n    <tr style=\"text-align: right;\">\n      <th></th>\n      <th>img</th>\n      <th>distortion</th>\n      <th>level</th>\n      <th>score</th>\n      <th>styles_contrast_class</th>\n      <th>styles_brightness_class</th>\n      <th>styles_saturation_class</th>\n      <th>styles_shadows_class</th>\n      <th>styles_highlights_class</th>\n      <th>styles_exposure_class</th>\n      <th>...</th>\n      <th>technical_impulse_noise_class</th>\n      <th>composition_rotate_class</th>\n      <th>composition_hcrop_class</th>\n      <th>composition_vcrop_class</th>\n      <th>composition_leftcornerscrop_class</th>\n      <th>composition_rightcornerscrop_class</th>\n      <th>composition_ratio_class</th>\n      <th>styles_class</th>\n      <th>technical_class</th>\n      <th>composition_class</th>\n    </tr>\n  </thead>\n  <tbody>\n    <tr>\n      <th>0</th>\n      <td>5/3/c/abbey-glass-religion-architecture-106158...</td>\n      <td>original</td>\n      <td>0.0</td>\n      <td>0.830078</td>\n      <td>3.623047</td>\n      <td>5.226562</td>\n      <td>7.175781</td>\n      <td>6.683594</td>\n      <td>7.171875</td>\n      <td>2.625000</td>\n      <td>...</td>\n      <td>0.702148</td>\n      <td>2.726562</td>\n      <td>2.298828</td>\n      <td>2.359375</td>\n      <td>2.263672</td>\n      <td>2.322266</td>\n      <td>0.961914</td>\n      <td>saturation</td>\n      <td>gaussian</td>\n      <td>rotate</td>\n    </tr>\n    <tr>\n      <th>1</th>\n      <td>9/4/4/abraham-lincoln-lincoln-memorial-washing...</td>\n      <td>original</td>\n      <td>0.0</td>\n      <td>0.570312</td>\n      <td>7.121094</td>\n      <td>9.171875</td>\n      <td>10.195312</td>\n      <td>8.843750</td>\n      <td>10.031250</td>\n      <td>9.453125</td>\n      <td>...</td>\n      <td>-0.728516</td>\n      <td>4.417969</td>\n      <td>3.250000</td>\n      <td>3.578125</td>\n      <td>3.154297</td>\n      <td>3.255859</td>\n      <td>3.960938</td>\n      <td>saturation</td>\n      <td>jpeg</td>\n      <td>rotate</td>\n    </tr>\n    <tr>\n      <th>2</th>\n      <td>a/5/9/abstract-background-backgrounds-botany-8...</td>\n      <td>original</td>\n      <td>0.0</td>\n      <td>0.374756</td>\n      <td>7.789062</td>\n      <td>7.332031</td>\n      <td>7.851562</td>\n      <td>8.062500</td>\n      <td>7.734375</td>\n      <td>7.847656</td>\n      <td>...</td>\n      <td>-6.703125</td>\n      <td>4.800781</td>\n      <td>2.710938</td>\n      <td>2.888672</td>\n      <td>2.816406</td>\n      <td>2.835938</td>\n      <td>1.827148</td>\n      <td>temperature</td>\n      <td>pixelate</td>\n      <td>rotate</td>\n    </tr>\n    <tr>\n      <th>3</th>\n      <td>2/2/c/adler-bird-bird-of-prey-raptor-53587.jpeg</td>\n      <td>original</td>\n      <td>0.0</td>\n      <td>0.553711</td>\n      <td>6.363281</td>\n      <td>7.136719</td>\n      <td>8.328125</td>\n      <td>8.984375</td>\n      <td>8.359375</td>\n      <td>7.527344</td>\n      <td>...</td>\n      <td>1.049805</td>\n      <td>4.042969</td>\n      <td>2.613281</td>\n      <td>2.833984</td>\n      <td>2.494141</td>\n      <td>2.542969</td>\n      <td>3.861328</td>\n      <td>shadows</td>\n      <td>jpeg</td>\n      <td>rotate</td>\n    </tr>\n    <tr>\n      <th>4</th>\n      <td>a/0/7/adult-cute-face-female-41522.jpeg</td>\n      <td>original</td>\n      <td>0.0</td>\n      <td>0.407471</td>\n      <td>11.007812</td>\n      <td>13.500000</td>\n      <td>12.304688</td>\n      <td>13.398438</td>\n      <td>12.343750</td>\n      <td>10.914062</td>\n      <td>...</td>\n      <td>-4.781250</td>\n      <td>4.218750</td>\n      <td>5.000000</td>\n      <td>5.097656</td>\n      <td>5.125000</td>\n      <td>5.171875</td>\n      <td>3.882812</td>\n      <td>brightness</td>\n      <td>pixelate</td>\n      <td>rightcornerscrop</td>\n    </tr>\n    <tr>\n      <th>...</th>\n      <td>...</td>\n      <td>...</td>\n      <td>...</td>\n      <td>...</td>\n      <td>...</td>\n      <td>...</td>\n      <td>...</td>\n      <td>...</td>\n      <td>...</td>\n      <td>...</td>\n      <td>...</td>\n      <td>...</td>\n      <td>...</td>\n      <td>...</td>\n      <td>...</td>\n      <td>...</td>\n      <td>...</td>\n      <td>...</td>\n      <td>...</td>\n      <td>...</td>\n      <td>...</td>\n    </tr>\n    <tr>\n      <th>2609995</th>\n      <td>0/d/b/wood-painting-window-cactus-6689.jpg</td>\n      <td>ratio</td>\n      <td>5.0</td>\n      <td>0.716797</td>\n      <td>7.535156</td>\n      <td>8.476562</td>\n      <td>9.562500</td>\n      <td>7.472656</td>\n      <td>9.914062</td>\n      <td>8.281250</td>\n      <td>...</td>\n      <td>0.865234</td>\n      <td>3.978516</td>\n      <td>3.611328</td>\n      <td>4.113281</td>\n      <td>3.267578</td>\n      <td>3.746094</td>\n      <td>2.777344</td>\n      <td>temperature</td>\n      <td>jpeg</td>\n      <td>vcrop</td>\n    </tr>\n    <tr>\n      <th>2609996</th>\n      <td>0/1/0/wood-sky-forest-autumn.jpg</td>\n      <td>ratio</td>\n      <td>5.0</td>\n      <td>0.522949</td>\n      <td>4.722656</td>\n      <td>5.097656</td>\n      <td>6.281250</td>\n      <td>6.027344</td>\n      <td>6.367188</td>\n      <td>3.958984</td>\n      <td>...</td>\n      <td>0.654297</td>\n      <td>2.146484</td>\n      <td>2.251953</td>\n      <td>2.152344</td>\n      <td>2.083984</td>\n      <td>2.695312</td>\n      <td>1.942383</td>\n      <td>tint</td>\n      <td>pixelate</td>\n      <td>rightcornerscrop</td>\n    </tr>\n    <tr>\n      <th>2609997</th>\n      <td>0/d/2/wood-stool-wooden-wine.jpg</td>\n      <td>ratio</td>\n      <td>5.0</td>\n      <td>0.797363</td>\n      <td>7.339844</td>\n      <td>8.773438</td>\n      <td>8.523438</td>\n      <td>8.898438</td>\n      <td>9.304688</td>\n      <td>7.332031</td>\n      <td>...</td>\n      <td>-5.523438</td>\n      <td>3.738281</td>\n      <td>3.185547</td>\n      <td>3.212891</td>\n      <td>2.630859</td>\n      <td>3.322266</td>\n      <td>3.720703</td>\n      <td>highlights</td>\n      <td>pixelate</td>\n      <td>rotate</td>\n    </tr>\n    <tr>\n      <th>2609998</th>\n      <td>b/5/e/wood-tree-brown-bark.jpg</td>\n      <td>ratio</td>\n      <td>5.0</td>\n      <td>0.852051</td>\n      <td>7.550781</td>\n      <td>6.988281</td>\n      <td>8.007812</td>\n      <td>8.078125</td>\n      <td>8.710938</td>\n      <td>5.902344</td>\n      <td>...</td>\n      <td>-5.585938</td>\n      <td>3.601562</td>\n      <td>3.058594</td>\n      <td>3.078125</td>\n      <td>2.585938</td>\n      <td>2.724609</td>\n      <td>2.375000</td>\n      <td>highlights</td>\n      <td>jpeg</td>\n      <td>rotate</td>\n    </tr>\n    <tr>\n      <th>2609999</th>\n      <td>f/3/2/yorkshire-terrier-terrier-dog-small-dog-...</td>\n      <td>ratio</td>\n      <td>5.0</td>\n      <td>0.590332</td>\n      <td>8.039062</td>\n      <td>8.656250</td>\n      <td>9.359375</td>\n      <td>8.750000</td>\n      <td>9.585938</td>\n      <td>7.562500</td>\n      <td>...</td>\n      <td>0.926758</td>\n      <td>3.744141</td>\n      <td>3.693359</td>\n      <td>3.755859</td>\n      <td>3.363281</td>\n      <td>4.093750</td>\n      <td>2.380859</td>\n      <td>highlights</td>\n      <td>jpeg</td>\n      <td>rightcornerscrop</td>\n    </tr>\n  </tbody>\n</table>\n<p>2610000 rows × 28 columns</p>\n</div>"
     },
     "metadata": {},
     "execution_count": 31
    }
   ],
   "source": [
    "df"
   ]
  },
  {
   "cell_type": "code",
   "execution_count": 28,
   "metadata": {},
   "outputs": [
    {
     "output_type": "execute_result",
     "data": {
      "text/plain": [
       "               distortion technical_class\n",
       "410      jpeg_compression          motion\n",
       "411      jpeg_compression            jpeg\n",
       "412      jpeg_compression        pixelate\n",
       "413      jpeg_compression            jpeg\n",
       "414      jpeg_compression        pixelate\n",
       "...                   ...             ...\n",
       "2609685     impulse_noise         impulse\n",
       "2609686     impulse_noise         impulse\n",
       "2609687     impulse_noise         impulse\n",
       "2609688     impulse_noise            jpeg\n",
       "2609689     impulse_noise            jpeg\n",
       "\n",
       "[450000 rows x 2 columns]"
      ],
      "text/html": "<div>\n<style scoped>\n    .dataframe tbody tr th:only-of-type {\n        vertical-align: middle;\n    }\n\n    .dataframe tbody tr th {\n        vertical-align: top;\n    }\n\n    .dataframe thead th {\n        text-align: right;\n    }\n</style>\n<table border=\"1\" class=\"dataframe\">\n  <thead>\n    <tr style=\"text-align: right;\">\n      <th></th>\n      <th>distortion</th>\n      <th>technical_class</th>\n    </tr>\n  </thead>\n  <tbody>\n    <tr>\n      <th>410</th>\n      <td>jpeg_compression</td>\n      <td>motion</td>\n    </tr>\n    <tr>\n      <th>411</th>\n      <td>jpeg_compression</td>\n      <td>jpeg</td>\n    </tr>\n    <tr>\n      <th>412</th>\n      <td>jpeg_compression</td>\n      <td>pixelate</td>\n    </tr>\n    <tr>\n      <th>413</th>\n      <td>jpeg_compression</td>\n      <td>jpeg</td>\n    </tr>\n    <tr>\n      <th>414</th>\n      <td>jpeg_compression</td>\n      <td>pixelate</td>\n    </tr>\n    <tr>\n      <th>...</th>\n      <td>...</td>\n      <td>...</td>\n    </tr>\n    <tr>\n      <th>2609685</th>\n      <td>impulse_noise</td>\n      <td>impulse</td>\n    </tr>\n    <tr>\n      <th>2609686</th>\n      <td>impulse_noise</td>\n      <td>impulse</td>\n    </tr>\n    <tr>\n      <th>2609687</th>\n      <td>impulse_noise</td>\n      <td>impulse</td>\n    </tr>\n    <tr>\n      <th>2609688</th>\n      <td>impulse_noise</td>\n      <td>jpeg</td>\n    </tr>\n    <tr>\n      <th>2609689</th>\n      <td>impulse_noise</td>\n      <td>jpeg</td>\n    </tr>\n  </tbody>\n</table>\n<p>450000 rows × 2 columns</p>\n</div>"
     },
     "metadata": {},
     "execution_count": 28
    }
   ],
   "source": [
    "dist_df = df[df[\"distortion\"].isin(mapping[\"technical\"].keys())][[\"distortion\", \"technical_class\"]]\n",
    "dist_df"
   ]
  },
  {
   "cell_type": "code",
   "execution_count": 36,
   "metadata": {},
   "outputs": [
    {
     "output_type": "execute_result",
     "data": {
      "text/plain": [
       "['defocus_blur',\n",
       " 'gaussian_noise',\n",
       " 'impulse_noise',\n",
       " 'jpeg_compression',\n",
       " 'motion_blur',\n",
       " 'pixelate']"
      ]
     },
     "metadata": {},
     "execution_count": 36
    }
   ],
   "source": [
    "sorted(dist_df[\"distortion\"].unique())"
   ]
  },
  {
   "cell_type": "code",
   "execution_count": 37,
   "metadata": {},
   "outputs": [
    {
     "output_type": "execute_result",
     "data": {
      "text/plain": [
       "['defocus', 'gaussian', 'impulse', 'jpeg', 'motion', 'pixelate']"
      ]
     },
     "metadata": {},
     "execution_count": 37
    }
   ],
   "source": [
    "sorted(dist_df[\"technical_class\"].unique())"
   ]
  },
  {
   "cell_type": "code",
   "execution_count": 32,
   "metadata": {},
   "outputs": [],
   "source": [
    "dist_df[\"found\"] = dist_df.apply(lambda row: row[\"distortion\"].split(\"_\")[0] == row[\"technical_class\"], axis=1)"
   ]
  },
  {
   "cell_type": "code",
   "execution_count": 33,
   "metadata": {},
   "outputs": [
    {
     "output_type": "execute_result",
     "data": {
      "text/plain": [
       "Counter({False: 280444, True: 169556})"
      ]
     },
     "metadata": {},
     "execution_count": 33
    }
   ],
   "source": [
    "Counter(dist_df[\"found\"])"
   ]
  },
  {
   "cell_type": "code",
   "execution_count": 38,
   "metadata": {},
   "outputs": [
    {
     "output_type": "execute_result",
     "data": {
      "text/plain": [
       "75000.0"
      ]
     },
     "metadata": {},
     "execution_count": 38
    }
   ],
   "source": [
    "450000/6"
   ]
  },
  {
   "cell_type": "code",
   "execution_count": null,
   "metadata": {},
   "outputs": [],
   "source": []
  }
 ],
 "metadata": {
  "kernelspec": {
   "display_name": "NIAA",
   "language": "python",
   "name": "niaa"
  },
  "language_info": {
   "codemirror_mode": {
    "name": "ipython",
    "version": 3
   },
   "file_extension": ".py",
   "mimetype": "text/x-python",
   "name": "python",
   "nbconvert_exporter": "python",
   "pygments_lexer": "ipython3",
   "version": "3.8.5-final"
  }
 },
 "nbformat": 4,
 "nbformat_minor": 2
}