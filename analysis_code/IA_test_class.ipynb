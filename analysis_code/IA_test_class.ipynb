{
 "cells": [
  {
   "cell_type": "code",
   "execution_count": null,
   "metadata": {
    "tags": []
   },
   "outputs": [],
   "source": [
    "import sys\n",
    "sys.path.insert(0, \"..\")\n",
    "\n",
    "import scikitplot as skplt \n",
    "from sklearn.metrics import accuracy_score\n",
    "import numpy as np\n",
    "import pandas as pd\n",
    "import matplotlib.pyplot as plt\n",
    "import seaborn as sns\n",
    "from IA.utils import mapping, parameter_range\n",
    "from scipy import stats\n",
    "import math\n",
    "import swifter\n",
    "import matplotlib.pyplot as plt\n",
    "plt.style.reload_library()\n",
    "plt.style.use(['science'])"
   ]
  },
  {
   "cell_type": "code",
   "execution_count": null,
   "metadata": {},
   "outputs": [],
   "source": [
    "!ls -lah analysis/not_uploaded/IA/ | grep class"
   ]
  },
  {
   "cell_type": "code",
   "execution_count": null,
   "metadata": {
    "tags": []
   },
   "outputs": [],
   "source": [
    "df = pd.read_csv(\"analysis/not_uploaded/IA/.scratch.ckpts.IA.pexels.scores-one.change_class.epoch-5.pth.txt\")\n",
    "\n",
    "for col in df.columns:\n",
    "    try:\n",
    "        df[col] = df[col].swifter.apply(lambda row: eval(row)[0])\n",
    "    except:\n",
    "        pass\n",
    "\n",
    "print(df.columns)\n",
    "df"
   ]
  },
  {
   "cell_type": "code",
   "execution_count": null,
   "metadata": {},
   "outputs": [],
   "source": [
    "df[\"intensity\"] = [float(\"nan\")]*len(df)\n",
    "df.loc[df[\"level\"] == 0, \"intensity\"] = 0\n",
    "for t in [\"styles\", \"technical\", \"composition\"]:\n",
    "    for dist in mapping[t].keys():\n",
    "        for pol in mapping[t][dist].keys():\n",
    "            if pol == \"neg\":\n",
    "                for lvl, change in enumerate(reversed(mapping[t][dist][pol])):\n",
    "                    df.loc[(df[\"distortion\"] == change.split(\";\")[0])&(df[\"level\"] == float(change.split(\";\")[1])), \"intensity\"] = -(lvl+1)\n",
    "            if pol == \"pos\":\n",
    "                for lvl, change in enumerate(mapping[t][dist][pol]):\n",
    "                    df.loc[(df[\"distortion\"] == change.split(\";\")[0])&(df[\"level\"] == float(change.split(\";\")[1])), \"intensity\"] = lvl+1\n",
    "df[\"intensity\"] = df[\"intensity\"].astype(int)\n",
    "df"
   ]
  },
  {
   "cell_type": "code",
   "execution_count": null,
   "metadata": {},
   "outputs": [],
   "source": [
    "df = df[(df[\"intensity\"] == 5) | (df[\"intensity\"] == -5)]\n",
    "df"
   ]
  },
  {
   "cell_type": "code",
   "execution_count": null,
   "metadata": {},
   "outputs": [],
   "source": [
    "dist_type = \"composition\"\n",
    "\n",
    "df = df[df[\"distortion\"].isin(mapping[dist_type].keys())]"
   ]
  },
  {
   "cell_type": "code",
   "execution_count": null,
   "metadata": {},
   "outputs": [],
   "source": [
    "def find_class(row:pd.Series, dist_type:str):\n",
    "    relevant_cols = [c for c, _ in row.iteritems() if dist_type in c and \"class\" in c]\n",
    "    m = -1\n",
    "    m_c = \"\"\n",
    "    for c in relevant_cols:\n",
    "        if row[c] > m:\n",
    "            m = row[c]\n",
    "            m_c = c\n",
    "    return m_c.split(\"_\")[1]"
   ]
  },
  {
   "cell_type": "code",
   "execution_count": null,
   "metadata": {},
   "outputs": [],
   "source": [
    "df"
   ]
  },
  {
   "cell_type": "code",
   "execution_count": null,
   "metadata": {
    "tags": []
   },
   "outputs": [],
   "source": [
    "df[f\"{dist_type}_class\"] = df.apply(lambda row: find_class(row, dist_type), axis=1)\n",
    "df"
   ]
  },
  {
   "cell_type": "code",
   "execution_count": null,
   "metadata": {},
   "outputs": [],
   "source": [
    "df = df[[\"distortion\", f\"{dist_type}_class\", \"intensity\"]]\n",
    "df"
   ]
  },
  {
   "cell_type": "code",
   "execution_count": null,
   "metadata": {},
   "outputs": [],
   "source": [
    "if dist_type == \"technical\":\n",
    "    df[\"distortion\"] = df[\"distortion\"].swifter.apply(lambda row: row.split(\"_\")[0])"
   ]
  },
  {
   "cell_type": "code",
   "execution_count": null,
   "metadata": {},
   "outputs": [],
   "source": [
    "accuracy_score(df[\"distortion\"], df[f\"{dist_type}_class\"])"
   ]
  },
  {
   "cell_type": "code",
   "execution_count": null,
   "metadata": {},
   "outputs": [],
   "source": []
  }
 ],
 "metadata": {
  "kernelspec": {
   "display_name": "NIAA",
   "language": "python",
   "name": "niaa"
  },
  "language_info": {
   "codemirror_mode": {
    "name": "ipython",
    "version": 3
   },
   "file_extension": ".py",
   "mimetype": "text/x-python",
   "name": "python",
   "nbconvert_exporter": "python",
   "pygments_lexer": "ipython3",
   "version": "3.8.6-final"
  }
 },
 "nbformat": 4,
 "nbformat_minor": 2
}
