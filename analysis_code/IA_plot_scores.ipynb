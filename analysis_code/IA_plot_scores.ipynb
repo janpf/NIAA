{
 "cells": [
  {
   "cell_type": "code",
   "execution_count": null,
   "metadata": {
    "tags": []
   },
   "outputs": [],
   "source": [
    "import sys\n",
    "sys.path.insert(0, \"..\")\n",
    "\n",
    "import pandas as pd\n",
    "import matplotlib.pyplot as plt\n",
    "import seaborn as sns\n",
    "from IA.utils import mapping, parameter_range\n",
    "from scipy import stats\n",
    "import math\n",
    "import swifter\n",
    "import matplotlib.pyplot as plt\n",
    "plt.style.reload_library()\n",
    "plt.style.use(['science'])"
   ]
  },
  {
   "cell_type": "code",
   "execution_count": null,
   "metadata": {},
   "outputs": [],
   "source": [
    "!ls -lah analysis/not_uploaded/IA/ | grep scores-one\n",
    "!ls -lah analysis/not_uploaded/IA/ | grep scores-three"
   ]
  },
  {
   "cell_type": "code",
   "execution_count": null,
   "metadata": {},
   "outputs": [],
   "source": [
    "df_one = pd.read_csv(\"analysis/not_uploaded/IA/.scratch.ckpts.IA.pexels.scores-one.epoch-13.pth.txt\")\n",
    "df_one_class = pd.read_csv(\"analysis/not_uploaded/IA/.scratch.ckpts.IA.pexels.scores-one.change_class.epoch-5.pth.txt\")[[\"img\", \"distortion\", \"level\", \"score\"]]\n",
    "df_one_regr = pd.read_csv(\"analysis/not_uploaded/IA/.scratch.ckpts.IA.pexels.scores-one.change_regress.epoch-9.pth.txt\")[[\"img\", \"distortion\", \"level\", \"score\"]]"
   ]
  },
  {
   "cell_type": "code",
   "execution_count": null,
   "metadata": {
    "tags": []
   },
   "outputs": [],
   "source": [
    "for df in [df_one, df_one_class, df_one_regr]:\n",
    "    for col in df.columns:\n",
    "        if not \"score\" in col:\n",
    "            continue\n",
    "\n",
    "        df[col] = df[col].swifter.apply(lambda row: eval(row)[0])\n",
    "\n",
    "df_one = df_one.rename(columns={\"score\": \"score_one\"})\n",
    "df_one_class = df_one_class.rename(columns={\"score\": \"score_class\"})\n",
    "df_one_regr = df_one_regr.rename(columns={\"score\": \"score_regr\"})\n",
    "\n",
    "df_one = df_one.set_index([\"img\", \"distortion\", \"level\"])\n",
    "df_one_class = df_one_class.set_index([\"img\", \"distortion\", \"level\"])\n",
    "df_one_regr = df_one_regr.set_index([\"img\", \"distortion\", \"level\"])\n",
    "\n",
    "df = df_one.join([df_one_class, df_one_regr])\n",
    "df = df.drop_duplicates()\n",
    "df = df.dropna()\n",
    "\n",
    "del df_one\n",
    "del df_one_class\n",
    "del df_one_regr\n",
    "\n",
    "df = df.reset_index()\n",
    "df"
   ]
  },
  {
   "cell_type": "code",
   "execution_count": null,
   "metadata": {},
   "outputs": [],
   "source": [
    "df[\"intensity\"] = [float(\"nan\")]*len(df)\n",
    "df.loc[df[\"level\"] == 0, \"intensity\"] = 0\n",
    "for t in [\"styles\", \"technical\", \"composition\"]:\n",
    "    for dist in mapping[t].keys():\n",
    "        for pol in mapping[t][dist].keys():\n",
    "            if pol == \"neg\":\n",
    "                for lvl, change in enumerate(reversed(mapping[t][dist][pol])):\n",
    "                    df.loc[(df[\"distortion\"] == change.split(\";\")[0])&(df[\"level\"] == float(change.split(\";\")[1])), \"intensity\"] = -(lvl+1)\n",
    "            if pol == \"pos\":\n",
    "                for lvl, change in enumerate(mapping[t][dist][pol]):\n",
    "                    df.loc[(df[\"distortion\"] == change.split(\";\")[0])&(df[\"level\"] == float(change.split(\";\")[1])), \"intensity\"] = lvl+1\n",
    "df[\"intensity\"] = df[\"intensity\"].astype(int)\n",
    "df"
   ]
  },
  {
   "cell_type": "code",
   "execution_count": null,
   "metadata": {},
   "outputs": [],
   "source": [
    "sns.violinplot(data=df.rename(columns={\"score_one\":\"score\"}), x=\"intensity\", y=\"score\", color=\"steelblue\")\n",
    "plt.savefig(\"analysis/IA/score_one.pdf\")"
   ]
  },
  {
   "cell_type": "code",
   "execution_count": null,
   "metadata": {},
   "outputs": [],
   "source": [
    "sns.violinplot(data=df.rename(columns={\"score_regr\":\"score\"}), x=\"intensity\", y=\"score\", color=\"steelblue\")\n",
    "plt.savefig(\"analysis/IA/score_regr.pdf\")"
   ]
  },
  {
   "cell_type": "code",
   "execution_count": null,
   "metadata": {},
   "outputs": [],
   "source": [
    "sns.violinplot(data=df[df[\"distortion\"].isin(mapping[\"styles\"].keys())].rename(columns={\"score_regr\":\"score\"}), x=\"intensity\", y=\"score\", color=\"steelblue\")\n",
    "plt.savefig(\"analysis/IA/score_regr_styles.pdf\")"
   ]
  },
  {
   "cell_type": "code",
   "execution_count": null,
   "metadata": {},
   "outputs": [],
   "source": [
    "sns.violinplot(data=df[df[\"distortion\"].isin(mapping[\"technical\"].keys())].rename(columns={\"score_regr\":\"score\"}), x=\"intensity\", y=\"score\", color=\"steelblue\")\n",
    "plt.savefig(\"analysis/IA/score_regr_technical.pdf\")"
   ]
  },
  {
   "cell_type": "code",
   "execution_count": null,
   "metadata": {},
   "outputs": [],
   "source": [
    "sns.violinplot(data=df[df[\"distortion\"].isin(mapping[\"composition\"].keys())].rename(columns={\"score_regr\":\"score\"}), x=\"intensity\", y=\"score\", color=\"steelblue\")\n",
    "plt.savefig(\"analysis/IA/score_regr_composition.pdf\")"
   ]
  },
  {
   "cell_type": "code",
   "execution_count": null,
   "metadata": {},
   "outputs": [],
   "source": []
  }
 ],
 "metadata": {
  "kernelspec": {
   "display_name": "NIAA",
   "language": "python",
   "name": "niaa"
  },
  "language_info": {
   "codemirror_mode": {
    "name": "ipython",
    "version": 3
   },
   "file_extension": ".py",
   "mimetype": "text/x-python",
   "name": "python",
   "nbconvert_exporter": "python",
   "pygments_lexer": "ipython3",
   "version": "3.8.6-final"
  }
 },
 "nbformat": 4,
 "nbformat_minor": 2
}
