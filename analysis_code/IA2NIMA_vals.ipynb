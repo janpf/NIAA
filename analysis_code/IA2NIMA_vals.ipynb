{
 "cells": [
  {
   "cell_type": "code",
   "execution_count": null,
   "metadata": {},
   "outputs": [],
   "source": [
    "from tensorflow.python.summary.summary_iterator import summary_iterator"
   ]
  },
  {
   "cell_type": "markdown",
   "metadata": {},
   "source": [
    "### Imagenet"
   ]
  },
  {
   "cell_type": "code",
   "execution_count": null,
   "metadata": {},
   "outputs": [],
   "source": [
    "best_val = float(\"inf\")\n",
    "best = 0\n",
    "model = \"/scratch/stud/pfister/NIAA/train_logs/IA2NIMA/AVA/imagenet/events.out.tfevents.1604498892.train-imagenet-fjfvm.1.0\"\n",
    "\n",
    "for e in summary_iterator(model):\n",
    "        for v in e.summary.value:\n",
    "            if v.tag == 'loss/val':\n",
    "                if best_val > v.simple_value:\n",
    "                    best_val = v.simple_value\n",
    "                    best = e\n",
    "best"
   ]
  },
  {
   "cell_type": "code",
   "execution_count": null,
   "metadata": {
    "tags": []
   },
   "outputs": [],
   "source": [
    "for e in summary_iterator(model):\n",
    "        for v in e.summary.value:\n",
    "            if v.tag == 'progress/epoch':\n",
    "                if e.step == best.step:\n",
    "                    print(v.tag, v.simple_value)"
   ]
  },
  {
   "cell_type": "markdown",
   "metadata": {},
   "source": [
    "### none"
   ]
  },
  {
   "cell_type": "code",
   "execution_count": null,
   "metadata": {},
   "outputs": [],
   "source": [
    "best_val = float(\"inf\")\n",
    "best = 0\n",
    "model = \"/scratch/stud/pfister/NIAA/train_logs/IA2NIMA/AVA/None/change_regress/events.out.tfevents.1604457012.train-none-regr-jnvfn.1.0\"\n",
    "\n",
    "for e in summary_iterator(model):\n",
    "        for v in e.summary.value:\n",
    "            if v.tag == 'loss/val':\n",
    "                if best_val > v.simple_value:\n",
    "                    best_val = v.simple_value\n",
    "                    best = e\n",
    "best"
   ]
  },
  {
   "cell_type": "code",
   "execution_count": null,
   "metadata": {},
   "outputs": [],
   "source": [
    "for e in summary_iterator(model):\n",
    "        for v in e.summary.value:\n",
    "            if v.tag == 'progress/epoch':\n",
    "                if e.step == best.step:\n",
    "                    print(v.tag, v.simple_value)"
   ]
  },
  {
   "cell_type": "markdown",
   "metadata": {},
   "source": [
    "### one"
   ]
  },
  {
   "cell_type": "code",
   "execution_count": null,
   "metadata": {},
   "outputs": [],
   "source": [
    "best_val = float(\"inf\")\n",
    "best = 0\n",
    "model = \"/scratch/stud/pfister/NIAA/train_logs/IA2NIMA/AVA/one/events.out.tfevents.1604343524.train-one-cpk7n.1.0\"\n",
    "\n",
    "for e in summary_iterator(model):\n",
    "        for v in e.summary.value:\n",
    "            if v.tag == 'loss/val':\n",
    "                if best_val > v.simple_value:\n",
    "                    best_val = v.simple_value\n",
    "                    best = e\n",
    "best"
   ]
  },
  {
   "cell_type": "code",
   "execution_count": null,
   "metadata": {},
   "outputs": [],
   "source": [
    "for e in summary_iterator(model):\n",
    "        for v in e.summary.value:\n",
    "            if v.tag == 'progress/epoch':\n",
    "                if e.step == best.step:\n",
    "                    print(v.tag, v.simple_value)"
   ]
  },
  {
   "cell_type": "markdown",
   "metadata": {},
   "source": [
    "### one regress"
   ]
  },
  {
   "cell_type": "code",
   "execution_count": null,
   "metadata": {},
   "outputs": [],
   "source": [
    "best_val = float(\"inf\")\n",
    "best = 0\n",
    "model = \"/scratch/stud/pfister/NIAA/train_logs/IA2NIMA/AVA/one/change_regress/events.out.tfevents.1604343524.train-one-regr-n44w5.1.0\"\n",
    "\n",
    "for e in summary_iterator(model):\n",
    "        for v in e.summary.value:\n",
    "            if v.tag == 'loss/val':\n",
    "                if best_val > v.simple_value:\n",
    "                    best_val = v.simple_value\n",
    "                    best = e\n",
    "best"
   ]
  },
  {
   "cell_type": "code",
   "execution_count": null,
   "metadata": {},
   "outputs": [],
   "source": [
    "for e in summary_iterator(model):\n",
    "        for v in e.summary.value:\n",
    "            if v.tag == 'progress/epoch':\n",
    "                if e.step == best.step:\n",
    "                    print(v.tag, v.simple_value)"
   ]
  },
  {
   "cell_type": "markdown",
   "metadata": {},
   "source": [
    "### one class"
   ]
  },
  {
   "cell_type": "code",
   "execution_count": null,
   "metadata": {},
   "outputs": [],
   "source": [
    "best_val = float(\"inf\")\n",
    "best = 0\n",
    "\n",
    "model = \"/scratch/stud/pfister/NIAA/train_logs/IA2NIMA/AVA/one/change_class/events.out.tfevents.1604343532.train-one-class-wzblt.1.0\"\n",
    "\n",
    "for e in summary_iterator(model):\n",
    "        for v in e.summary.value:\n",
    "            if v.tag == 'loss/val':\n",
    "                if best_val > v.simple_value:\n",
    "                    best_val = v.simple_value\n",
    "                    best = e\n",
    "best"
   ]
  },
  {
   "cell_type": "code",
   "execution_count": null,
   "metadata": {},
   "outputs": [],
   "source": [
    "for e in summary_iterator(model):\n",
    "        for v in e.summary.value:\n",
    "            if v.tag == 'progress/epoch':\n",
    "                if e.step == best.step:\n",
    "                    print(v.tag, v.simple_value)"
   ]
  },
  {
   "cell_type": "markdown",
   "metadata": {},
   "source": [
    "### three"
   ]
  },
  {
   "cell_type": "code",
   "execution_count": null,
   "metadata": {},
   "outputs": [],
   "source": [
    "best_val = float(\"inf\")\n",
    "best = 0\n",
    "\n",
    "model = \"/scratch/stud/pfister/NIAA/train_logs/IA2NIMA/AVA/three/events.out.tfevents.1604343531.train-three-9mgnp.1.0\"\n",
    "\n",
    "for e in summary_iterator(model):\n",
    "        for v in e.summary.value:\n",
    "            if v.tag == 'loss/val':\n",
    "                if best_val > v.simple_value:\n",
    "                    best_val = v.simple_value\n",
    "                    best = e\n",
    "best"
   ]
  },
  {
   "cell_type": "code",
   "execution_count": null,
   "metadata": {},
   "outputs": [],
   "source": [
    "for e in summary_iterator(model):\n",
    "        for v in e.summary.value:\n",
    "            if v.tag == 'progress/epoch':\n",
    "                if e.step == best.step:\n",
    "                    print(v.tag, v.simple_value)"
   ]
  },
  {
   "cell_type": "markdown",
   "metadata": {},
   "source": [
    "### three class"
   ]
  },
  {
   "cell_type": "code",
   "execution_count": null,
   "metadata": {},
   "outputs": [],
   "source": [
    "best_val = float(\"inf\")\n",
    "best = 0\n",
    "\n",
    "model = \"/scratch/stud/pfister/NIAA/train_logs/IA2NIMA/AVA/three/change_class/events.out.tfevents.1604160485.train-three-class-76wns.1.0\"\n",
    "\n",
    "for e in summary_iterator(model):\n",
    "        for v in e.summary.value:\n",
    "            if v.tag == 'loss/val':\n",
    "                if best_val > v.simple_value:\n",
    "                    best_val = v.simple_value\n",
    "                    best = e\n",
    "best"
   ]
  },
  {
   "cell_type": "code",
   "execution_count": null,
   "metadata": {},
   "outputs": [],
   "source": [
    "for e in summary_iterator(model):\n",
    "        for v in e.summary.value:\n",
    "            if v.tag == 'progress/epoch':\n",
    "                if e.step == best.step:\n",
    "                    print(v.tag, v.simple_value)"
   ]
  },
  {
   "cell_type": "code",
   "execution_count": null,
   "metadata": {},
   "outputs": [],
   "source": []
  }
 ],
 "metadata": {
  "kernelspec": {
   "display_name": "Python 3",
   "name": "python3"
  },
  "language_info": {
   "codemirror_mode": {
    "name": "ipython",
    "version": 3
   },
   "file_extension": ".py",
   "mimetype": "text/x-python",
   "name": "python",
   "nbconvert_exporter": "python",
   "pygments_lexer": "ipython3",
   "version": "3.6.8-final"
  }
 },
 "nbformat": 4,
 "nbformat_minor": 2
}
