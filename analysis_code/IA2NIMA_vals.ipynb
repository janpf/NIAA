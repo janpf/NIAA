{
 "metadata": {
  "language_info": {
   "codemirror_mode": {
    "name": "ipython",
    "version": 3
   },
   "file_extension": ".py",
   "mimetype": "text/x-python",
   "name": "python",
   "nbconvert_exporter": "python",
   "pygments_lexer": "ipython3",
   "version": "3.6.8-final"
  },
  "orig_nbformat": 2,
  "kernelspec": {
   "name": "python3",
   "display_name": "Python 3"
  }
 },
 "nbformat": 4,
 "nbformat_minor": 2,
 "cells": [
  {
   "cell_type": "code",
   "execution_count": 5,
   "metadata": {},
   "outputs": [],
   "source": [
    "from tensorflow.python.summary.summary_iterator import summary_iterator"
   ]
  },
  {
   "source": [
    "### Imagenet"
   ],
   "cell_type": "markdown",
   "metadata": {}
  },
  {
   "cell_type": "code",
   "execution_count": 34,
   "metadata": {},
   "outputs": [
    {
     "output_type": "execute_result",
     "data": {
      "text/plain": [
       "wall_time: 1604672096.363902\n",
       "step: 75117\n",
       "summary {\n",
       "  value {\n",
       "    tag: \"loss/val\"\n",
       "    simple_value: 0.09269433468580246\n",
       "  }\n",
       "}"
      ]
     },
     "metadata": {},
     "execution_count": 34
    }
   ],
   "source": [
    "best_val = float(\"inf\")\n",
    "best = 0\n",
    "model = \"/scratch/stud/pfister/NIAA/train_logs/IA2NIMA/AVA/imagenet/events.out.tfevents.1604498892.train-imagenet-fjfvm.1.0\"\n",
    "\n",
    "for e in summary_iterator(model):\n",
    "        for v in e.summary.value:\n",
    "            if v.tag == 'loss/val':\n",
    "                if best_val > v.simple_value:\n",
    "                    best_val = v.simple_value\n",
    "                    best = e\n",
    "best"
   ]
  },
  {
   "cell_type": "code",
   "execution_count": 35,
   "metadata": {
    "tags": []
   },
   "outputs": [
    {
     "output_type": "stream",
     "name": "stdout",
     "text": [
      "progress/epoch 147.0\n"
     ]
    }
   ],
   "source": [
    "for e in summary_iterator(model):\n",
    "        for v in e.summary.value:\n",
    "            if v.tag == 'progress/epoch':\n",
    "                if e.step == best.step:\n",
    "                    print(v.tag, v.simple_value)"
   ]
  },
  {
   "source": [
    "### none"
   ],
   "cell_type": "markdown",
   "metadata": {}
  },
  {
   "cell_type": "code",
   "execution_count": 43,
   "metadata": {},
   "outputs": [
    {
     "output_type": "execute_result",
     "data": {
      "text/plain": [
       "wall_time: 1604544864.2126987\n",
       "step: 64386\n",
       "summary {\n",
       "  value {\n",
       "    tag: \"loss/val\"\n",
       "    simple_value: 0.09233303368091583\n",
       "  }\n",
       "}"
      ]
     },
     "metadata": {},
     "execution_count": 43
    }
   ],
   "source": [
    "best_val = float(\"inf\")\n",
    "best = 0\n",
    "model = \"/scratch/stud/pfister/NIAA/train_logs/IA2NIMA/AVA/None/change_regress/events.out.tfevents.1604457012.train-none-regr-jnvfn.1.0\"\n",
    "\n",
    "for e in summary_iterator(model):\n",
    "        for v in e.summary.value:\n",
    "            if v.tag == 'loss/val':\n",
    "                if best_val > v.simple_value:\n",
    "                    best_val = v.simple_value\n",
    "                    best = e\n",
    "best"
   ]
  },
  {
   "cell_type": "code",
   "execution_count": 44,
   "metadata": {},
   "outputs": [
    {
     "output_type": "stream",
     "name": "stdout",
     "text": [
      "progress/epoch 126.0\n"
     ]
    }
   ],
   "source": [
    "for e in summary_iterator(model):\n",
    "        for v in e.summary.value:\n",
    "            if v.tag == 'progress/epoch':\n",
    "                if e.step == best.step:\n",
    "                    print(v.tag, v.simple_value)"
   ]
  },
  {
   "source": [
    "### one"
   ],
   "cell_type": "markdown",
   "metadata": {}
  },
  {
   "cell_type": "code",
   "execution_count": 36,
   "metadata": {},
   "outputs": [
    {
     "output_type": "execute_result",
     "data": {
      "text/plain": [
       "wall_time: 1604450474.333833\n",
       "step: 49056\n",
       "summary {\n",
       "  value {\n",
       "    tag: \"loss/val\"\n",
       "    simple_value: 0.09220338612794876\n",
       "  }\n",
       "}"
      ]
     },
     "metadata": {},
     "execution_count": 36
    }
   ],
   "source": [
    "best_val = float(\"inf\")\n",
    "best = 0\n",
    "model = \"/scratch/stud/pfister/NIAA/train_logs/IA2NIMA/AVA/one/events.out.tfevents.1604343524.train-one-cpk7n.1.0\"\n",
    "\n",
    "for e in summary_iterator(model):\n",
    "        for v in e.summary.value:\n",
    "            if v.tag == 'loss/val':\n",
    "                if best_val > v.simple_value:\n",
    "                    best_val = v.simple_value\n",
    "                    best = e\n",
    "best"
   ]
  },
  {
   "cell_type": "code",
   "execution_count": 37,
   "metadata": {},
   "outputs": [
    {
     "output_type": "stream",
     "name": "stdout",
     "text": [
      "progress/epoch 96.0\n"
     ]
    }
   ],
   "source": [
    "for e in summary_iterator(model):\n",
    "        for v in e.summary.value:\n",
    "            if v.tag == 'progress/epoch':\n",
    "                if e.step == best.step:\n",
    "                    print(v.tag, v.simple_value)"
   ]
  },
  {
   "source": [
    "### one regress"
   ],
   "cell_type": "markdown",
   "metadata": {}
  },
  {
   "cell_type": "code",
   "execution_count": 38,
   "metadata": {},
   "outputs": [
    {
     "output_type": "execute_result",
     "data": {
      "text/plain": [
       "wall_time: 1604422784.6514673\n",
       "step: 39347\n",
       "summary {\n",
       "  value {\n",
       "    tag: \"loss/val\"\n",
       "    simple_value: 0.09242112189531326\n",
       "  }\n",
       "}"
      ]
     },
     "metadata": {},
     "execution_count": 38
    }
   ],
   "source": [
    "best_val = float(\"inf\")\n",
    "best = 0\n",
    "model = \"/scratch/stud/pfister/NIAA/train_logs/IA2NIMA/AVA/one/change_regress/events.out.tfevents.1604343524.train-one-regr-n44w5.1.0\"\n",
    "\n",
    "for e in summary_iterator(model):\n",
    "        for v in e.summary.value:\n",
    "            if v.tag == 'loss/val':\n",
    "                if best_val > v.simple_value:\n",
    "                    best_val = v.simple_value\n",
    "                    best = e\n",
    "best"
   ]
  },
  {
   "cell_type": "code",
   "execution_count": 39,
   "metadata": {},
   "outputs": [
    {
     "output_type": "stream",
     "name": "stdout",
     "text": [
      "progress/epoch 77.0\n"
     ]
    }
   ],
   "source": [
    "for e in summary_iterator(model):\n",
    "        for v in e.summary.value:\n",
    "            if v.tag == 'progress/epoch':\n",
    "                if e.step == best.step:\n",
    "                    print(v.tag, v.simple_value)"
   ]
  },
  {
   "source": [
    "### one class"
   ],
   "cell_type": "markdown",
   "metadata": {}
  },
  {
   "cell_type": "code",
   "execution_count": 40,
   "metadata": {},
   "outputs": [
    {
     "output_type": "execute_result",
     "data": {
      "text/plain": [
       "wall_time: 1604458552.3728805\n",
       "step: 45479\n",
       "summary {\n",
       "  value {\n",
       "    tag: \"loss/val\"\n",
       "    simple_value: 0.09251964837312698\n",
       "  }\n",
       "}"
      ]
     },
     "metadata": {},
     "execution_count": 40
    }
   ],
   "source": [
    "best_val = float(\"inf\")\n",
    "best = 0\n",
    "\n",
    "model = \"/scratch/stud/pfister/NIAA/train_logs/IA2NIMA/AVA/one/change_class/events.out.tfevents.1604343532.train-one-class-wzblt.1.0\"\n",
    "\n",
    "for e in summary_iterator(model):\n",
    "        for v in e.summary.value:\n",
    "            if v.tag == 'loss/val':\n",
    "                if best_val > v.simple_value:\n",
    "                    best_val = v.simple_value\n",
    "                    best = e\n",
    "best"
   ]
  },
  {
   "cell_type": "code",
   "execution_count": 42,
   "metadata": {},
   "outputs": [
    {
     "output_type": "stream",
     "name": "stdout",
     "text": [
      "progress/epoch 89.0\n"
     ]
    }
   ],
   "source": [
    "for e in summary_iterator(model):\n",
    "        for v in e.summary.value:\n",
    "            if v.tag == 'progress/epoch':\n",
    "                if e.step == best.step:\n",
    "                    print(v.tag, v.simple_value)"
   ]
  },
  {
   "source": [
    "### three"
   ],
   "cell_type": "markdown",
   "metadata": {}
  },
  {
   "cell_type": "code",
   "execution_count": 45,
   "metadata": {},
   "outputs": [
    {
     "output_type": "execute_result",
     "data": {
      "text/plain": [
       "wall_time: 1604464003.089546\n",
       "step: 49567\n",
       "summary {\n",
       "  value {\n",
       "    tag: \"loss/val\"\n",
       "    simple_value: 0.09247948974370956\n",
       "  }\n",
       "}"
      ]
     },
     "metadata": {},
     "execution_count": 45
    }
   ],
   "source": [
    "best_val = float(\"inf\")\n",
    "best = 0\n",
    "\n",
    "model = \"/scratch/stud/pfister/NIAA/train_logs/IA2NIMA/AVA/three/events.out.tfevents.1604343531.train-three-9mgnp.1.0\"\n",
    "\n",
    "for e in summary_iterator(model):\n",
    "        for v in e.summary.value:\n",
    "            if v.tag == 'loss/val':\n",
    "                if best_val > v.simple_value:\n",
    "                    best_val = v.simple_value\n",
    "                    best = e\n",
    "best"
   ]
  },
  {
   "cell_type": "code",
   "execution_count": 46,
   "metadata": {},
   "outputs": [
    {
     "output_type": "stream",
     "name": "stdout",
     "text": [
      "progress/epoch 97.0\n"
     ]
    }
   ],
   "source": [
    "for e in summary_iterator(model):\n",
    "        for v in e.summary.value:\n",
    "            if v.tag == 'progress/epoch':\n",
    "                if e.step == best.step:\n",
    "                    print(v.tag, v.simple_value)"
   ]
  },
  {
   "source": [
    "### three class"
   ],
   "cell_type": "markdown",
   "metadata": {}
  },
  {
   "cell_type": "code",
   "execution_count": 47,
   "metadata": {},
   "outputs": [
    {
     "output_type": "execute_result",
     "data": {
      "text/plain": [
       "wall_time: 1604294857.9785554\n",
       "step: 74606\n",
       "summary {\n",
       "  value {\n",
       "    tag: \"loss/val\"\n",
       "    simple_value: 0.09265182167291641\n",
       "  }\n",
       "}"
      ]
     },
     "metadata": {},
     "execution_count": 47
    }
   ],
   "source": [
    "best_val = float(\"inf\")\n",
    "best = 0\n",
    "\n",
    "model = \"/scratch/stud/pfister/NIAA/train_logs/IA2NIMA/AVA/three/change_class/events.out.tfevents.1604160485.train-three-class-76wns.1.0\"\n",
    "\n",
    "for e in summary_iterator(model):\n",
    "        for v in e.summary.value:\n",
    "            if v.tag == 'loss/val':\n",
    "                if best_val > v.simple_value:\n",
    "                    best_val = v.simple_value\n",
    "                    best = e\n",
    "best"
   ]
  },
  {
   "cell_type": "code",
   "execution_count": 48,
   "metadata": {},
   "outputs": [
    {
     "output_type": "stream",
     "name": "stdout",
     "text": [
      "progress/epoch 146.0\n"
     ]
    }
   ],
   "source": [
    "for e in summary_iterator(model):\n",
    "        for v in e.summary.value:\n",
    "            if v.tag == 'progress/epoch':\n",
    "                if e.step == best.step:\n",
    "                    print(v.tag, v.simple_value)"
   ]
  },
  {
   "cell_type": "code",
   "execution_count": null,
   "metadata": {},
   "outputs": [],
   "source": []
  }
 ]
}