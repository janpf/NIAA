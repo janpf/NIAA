{
 "cells": [
  {
   "cell_type": "code",
   "execution_count": null,
   "metadata": {
    "tags": []
   },
   "outputs": [],
   "source": [
    "import pandas as pd\n",
    "import matplotlib.pyplot as plt\n",
    "import seaborn as sns\n",
    "from IA.utils import mapping, parameter_range\n",
    "from scipy import stats\n",
    "from pathlib import Path\n",
    "import math\n",
    "from sklearn import metrics"
   ]
  },
  {
   "cell_type": "code",
   "execution_count": null,
   "metadata": {},
   "outputs": [],
   "source": [
    "!pwd"
   ]
  },
  {
   "cell_type": "code",
   "execution_count": null,
   "metadata": {},
   "outputs": [],
   "source": [
    "!ls -la /home/stud/pfister/eclipse-workspace/NIAA/analysis/not_uploaded/IA2NIMA/AVA2TID | sort"
   ]
  },
  {
   "cell_type": "code",
   "execution_count": null,
   "metadata": {},
   "outputs": [],
   "source": [
    "for file in Path(\"/home/stud/pfister/eclipse-workspace/NIAA/analysis/not_uploaded/IA2NIMA/AVA2TID\").iterdir():\n",
    "    if \"-\" == file.name[0]:\n",
    "        continue\n",
    "    if not \"A.one.change_regress.epoch-77.pth\" in file.name:\n",
    "        continue\n",
    "    print(file)\n",
    "    df = pd.read_csv(file)\n",
    "    df[\"scores\"] = df[\"scores\"].apply(lambda row: eval(row))\n",
    "    df[\"scores\"] = df[\"scores\"].apply(lambda row: sum([(i+1)*v for i, v in enumerate(row)]))\n",
    "    df[\"img\"] = df[\"img\"].apply(lambda row: Path(row).name)\n",
    "    df = df[df[\"img\"].str.contains(\"_\")]\n",
    "\n",
    "    df[\"img_id\"] = df[\"img\"].apply(lambda row: int(row.split(\"_\")[0][1:]))\n",
    "    df[\"dist_id\"] = df[\"img\"].apply(lambda row: int(row.split(\"_\")[1]))\n",
    "    df[\"intens_id\"] = df[\"img\"].apply(lambda row: int(Path(row).stem.split(\"_\")[2]))\n",
    "\n",
    "    df = df.sort_values(by=[\"img_id\", \"dist_id\", \"intens_id\"])\n",
    "    df = df.reset_index()\n",
    "    \n",
    "    \n",
    "    df[[\"scores\", \"img\"]].to_csv(str(file).replace(\".\", \"-\"), sep=\" \", index=False)"
   ]
  },
  {
   "cell_type": "code",
   "execution_count": null,
   "metadata": {},
   "outputs": [],
   "source": [
    "for file in Path(\"/home/stud/pfister/eclipse-workspace/NIAA/analysis/not_uploaded/IA2NIMA/AVA2TID\").iterdir():\n",
    "    if \"-\" == file.name[0]:\n",
    "        continue\n",
    "    if not \"h.ckpts.IA2NIMA.AVA.imagenet.epoch-149.pth.txt\" in file.name:\n",
    "        continue\n",
    "    print(file)\n",
    "    df = pd.read_csv(file)\n",
    "    df[\"scores\"] = df[\"scores\"].apply(lambda row: eval(row))\n",
    "    df[\"scores\"] = df[\"scores\"].apply(lambda row: sum([(i+1)*v for i, v in enumerate(row)]))\n",
    "    df[\"img\"] = df[\"img\"].apply(lambda row: Path(row).name)\n",
    "    df = df[df[\"img\"].str.contains(\"_\")]\n",
    "\n",
    "    df[\"img_id\"] = df[\"img\"].apply(lambda row: int(row.split(\"_\")[0][1:]))\n",
    "    df[\"dist_id\"] = df[\"img\"].apply(lambda row: int(row.split(\"_\")[1]))\n",
    "    df[\"intens_id\"] = df[\"img\"].apply(lambda row: int(Path(row).stem.split(\"_\")[2]))\n",
    "\n",
    "    df = df.sort_values(by=[\"img_id\", \"dist_id\", \"intens_id\"])\n",
    "    df = df.reset_index()\n",
    "    \n",
    "    \n",
    "    df[[\"scores\", \"img\"]].to_csv(str(file).replace(\".\", \"-\"), sep=\" \", index=False)"
   ]
  },
  {
   "cell_type": "code",
   "execution_count": null,
   "metadata": {},
   "outputs": [],
   "source": [
    "df"
   ]
  },
  {
   "cell_type": "code",
   "execution_count": null,
   "metadata": {},
   "outputs": [],
   "source": [
    "df[\"img_id\"] = df[\"img\"].apply(lambda row: int(row.split(\"_\")[0][1:]))\n",
    "df[\"dist_id\"] = df[\"img\"].apply(lambda row: int(row.split(\"_\")[1]))\n",
    "df[\"intens_id\"] = df[\"img\"].apply(lambda row: int(Path(row).stem.split(\"_\")[2]))\n",
    "\n",
    "df = df.sort_values(by=[\"img_id\", \"dist_id\", \"intens_id\"])"
   ]
  },
  {
   "cell_type": "code",
   "execution_count": null,
   "metadata": {},
   "outputs": [],
   "source": [
    "df.rename(columns={\"scores\":\"imagenet\"})"
   ]
  },
  {
   "cell_type": "code",
   "execution_count": null,
   "metadata": {},
   "outputs": [],
   "source": [
    "mos = pd.read_csv(\"analysis/not_uploaded/mos_with_names.txt\", sep=\" \")\n",
    "mos"
   ]
  },
  {
   "cell_type": "code",
   "execution_count": null,
   "metadata": {},
   "outputs": [],
   "source": [
    "eval_df = eval_df.set_index(\"img\").join(df.rename(columns={\"scores\":\"imagenet\"}).set_index(\"img\")).reset_index()[[\"img\", \"scores\", \"MOSscore\",\"imagenet\"]]"
   ]
  },
  {
   "cell_type": "code",
   "execution_count": null,
   "metadata": {},
   "outputs": [],
   "source": [
    "eval_df = df.set_index(\"img\").join(mos.set_index(\"img\")).reset_index()[[\"img\", \"scores\", \"MOSscore\"]]\n",
    "eval_df"
   ]
  },
  {
   "cell_type": "code",
   "execution_count": null,
   "metadata": {},
   "outputs": [],
   "source": [
    "stats.spearmanr(eval_df[\"MOSscore\"], eval_df[\"scores\"])"
   ]
  },
  {
   "cell_type": "code",
   "execution_count": null,
   "metadata": {},
   "outputs": [],
   "source": [
    "eval_df[\"our_error\"] = eval_df.apply(lambda row: metrics.mean_squared_error([row.MOSscore], [row.scores]), axis=1)\n",
    "eval_df[\"imagenet_error\"] = eval_df.apply(lambda row: metrics.mean_squared_error([row.MOSscore], [row.imagenet]), axis=1)"
   ]
  },
  {
   "cell_type": "code",
   "execution_count": null,
   "metadata": {},
   "outputs": [],
   "source": [
    "eval_df"
   ]
  },
  {
   "cell_type": "code",
   "execution_count": null,
   "metadata": {},
   "outputs": [],
   "source": [
    "from scipy.stats import wilcoxon"
   ]
  },
  {
   "cell_type": "code",
   "execution_count": null,
   "metadata": {},
   "outputs": [],
   "source": [
    "wilcoxon(eval_df[\"our_error\"], eval_df[\"imagenet_error\"])"
   ]
  },
  {
   "cell_type": "code",
   "execution_count": null,
   "metadata": {},
   "outputs": [],
   "source": [
    "eval_df[\"our_error\"] = eval_df.apply(lambda row: metrics.mean_absolute_error([row.MOSscore], [row.scores]), axis=1)\n",
    "eval_df[\"imagenet_error\"] = eval_df.apply(lambda row: metrics.mean_absolute_error([row.MOSscore], [row.imagenet]), axis=1)"
   ]
  },
  {
   "cell_type": "code",
   "execution_count": null,
   "metadata": {},
   "outputs": [],
   "source": [
    "wilcoxon(eval_df[\"our_error\"], eval_df[\"imagenet_error\"])"
   ]
  },
  {
   "cell_type": "code",
   "execution_count": null,
   "metadata": {},
   "outputs": [],
   "source": [
    "df[\"scores\"] = df[\"scores\"].apply(lambda row: eval(row))\n",
    "df[\"scores\"] = df[\"scores\"].apply(lambda row: sum([(i+1)*v for i, v in enumerate(row)]))\n",
    "df[\"img\"] = df[\"img\"].apply(lambda row: Path(row).name)\n",
    "df = df[[\"scores\", \"img\"]]"
   ]
  },
  {
   "cell_type": "code",
   "execution_count": null,
   "metadata": {},
   "outputs": [],
   "source": [
    "df[\"img_id\"] = df[\"img\"].apply(lambda row: int(row.split(\"_\")[0][1:]))\n",
    "df[\"dist_id\"] = df[\"img\"].apply(lambda row: int(row.split(\"_\")[1]))\n",
    "df[\"intens_id\"] = df[\"img\"].apply(lambda row: int(Path(row).stem.split(\"_\")[2]))"
   ]
  },
  {
   "cell_type": "code",
   "execution_count": null,
   "metadata": {},
   "outputs": [],
   "source": [
    "df"
   ]
  },
  {
   "cell_type": "code",
   "execution_count": null,
   "metadata": {},
   "outputs": [],
   "source": []
  }
 ],
 "metadata": {
  "kernelspec": {
   "display_name": "Python 3.6.8 64-bit ('venv')",
   "metadata": {
    "interpreter": {
     "hash": "cf75725b4d4814438e73ebb39cbcef6e8c1b604e8b9ac8aab7492bffaebc5681"
    }
   },
   "name": "python3"
  },
  "language_info": {
   "codemirror_mode": {
    "name": "ipython",
    "version": 3
   },
   "file_extension": ".py",
   "mimetype": "text/x-python",
   "name": "python",
   "nbconvert_exporter": "python",
   "pygments_lexer": "ipython3",
   "version": "3.6.8-final"
  }
 },
 "nbformat": 4,
 "nbformat_minor": 2
}
