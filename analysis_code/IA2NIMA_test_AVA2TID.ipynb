{
 "metadata": {
  "language_info": {
   "codemirror_mode": {
    "name": "ipython",
    "version": 3
   },
   "file_extension": ".py",
   "mimetype": "text/x-python",
   "name": "python",
   "nbconvert_exporter": "python",
   "pygments_lexer": "ipython3",
   "version": "3.6.8-final"
  },
  "orig_nbformat": 2,
  "kernelspec": {
   "name": "python3",
   "display_name": "Python 3.6.8 64-bit ('venv')",
   "metadata": {
    "interpreter": {
     "hash": "cf75725b4d4814438e73ebb39cbcef6e8c1b604e8b9ac8aab7492bffaebc5681"
    }
   }
  }
 },
 "nbformat": 4,
 "nbformat_minor": 2,
 "cells": [
  {
   "cell_type": "code",
   "execution_count": 22,
   "metadata": {
    "tags": []
   },
   "outputs": [],
   "source": [
    "import pandas as pd\n",
    "import matplotlib.pyplot as plt\n",
    "import seaborn as sns\n",
    "from IA.utils import mapping, parameter_range\n",
    "from scipy import stats\n",
    "from pathlib import Path\n",
    "import math\n",
    "from sklearn import metrics"
   ]
  },
  {
   "cell_type": "code",
   "execution_count": 5,
   "metadata": {},
   "outputs": [
    {
     "output_type": "stream",
     "name": "stdout",
     "text": [
      "/autofs/ceph-stud-new/pfister/eclipse-workspace/NIAA\n"
     ]
    }
   ],
   "source": [
    "!pwd"
   ]
  },
  {
   "cell_type": "code",
   "execution_count": 7,
   "metadata": {},
   "outputs": [
    {
     "output_type": "stream",
     "name": "stdout",
     "text": [
      "drwxr-xr-x 2 studpfister stud     12 Nov 18 00:42 .\ndrwxr-xr-x 4 studpfister stud      2 Nov 16 00:47 ..\n-rw-r--r-- 1 studpfister stud 739062 Nov 16 00:57 .scratch.ckpts.IA2NIMA.AVA.None.change_regress.epoch-126.pth.txt\n-rw-r--r-- 1 studpfister stud 739194 Nov 16 00:57 .scratch.ckpts.IA2NIMA.AVA.one.change_regress.epoch-77.pth.txt\n-rw-r--r-- 1 studpfister stud 739309 Nov 16 00:52 .scratch.ckpts.IA2NIMA.AVA.imagenet.epoch-149.pth.txt\n-rw-r--r-- 1 studpfister stud 739335 Nov 16 00:59 .scratch.ckpts.IA2NIMA.AVA.three.epoch-97.pth.txt\n-rw-r--r-- 1 studpfister stud 739408 Nov 18 00:36 .scratch.ckpts.IA2NIMA.AVA.one.change_class.epoch-89.pth.txt\n-rw-r--r-- 1 studpfister stud 739471 Nov 16 00:58 .scratch.ckpts.IA2NIMA.AVA.one.epoch-96.pth.txt\n-rw-r--r-- 1 studpfister stud  93049 Nov 18 00:42 -scratch-ckpts-IA2NIMA-AVA-None-change_regress-epoch-126-pth-txt\n-rw-r--r-- 1 studpfister stud  93051 Nov 18 00:42 -scratch-ckpts-IA2NIMA-AVA-one-change_regress-epoch-77-pth-txt\n-rw-r--r-- 1 studpfister stud  93077 Nov 18 00:42 -scratch-ckpts-IA2NIMA-AVA-three-epoch-97-pth-txt\n-rw-r--r-- 1 studpfister stud  93080 Nov 18 00:42 -scratch-ckpts-IA2NIMA-AVA-one-change_class-epoch-89-pth-txt\n-rw-r--r-- 1 studpfister stud  93115 Nov 18 00:42 -scratch-ckpts-IA2NIMA-AVA-one-epoch-96-pth-txt\n-rw-r--r-- 1 studpfister stud  93152 Nov 18 00:42 -scratch-ckpts-IA2NIMA-AVA-imagenet-epoch-149-pth-txt\ntotal 4880\n"
     ]
    }
   ],
   "source": [
    "!ls -la /home/stud/pfister/eclipse-workspace/NIAA/analysis/not_uploaded/IA2NIMA/AVA2TID | sort"
   ]
  },
  {
   "cell_type": "code",
   "execution_count": 26,
   "metadata": {},
   "outputs": [
    {
     "output_type": "stream",
     "name": "stdout",
     "text": [
      "/home/stud/pfister/eclipse-workspace/NIAA/analysis/not_uploaded/IA2NIMA/AVA2TID/.scratch.ckpts.IA2NIMA.AVA.one.change_regress.epoch-77.pth.txt\n"
     ]
    }
   ],
   "source": [
    "for file in Path(\"/home/stud/pfister/eclipse-workspace/NIAA/analysis/not_uploaded/IA2NIMA/AVA2TID\").iterdir():\n",
    "    if \"-\" == file.name[0]:\n",
    "        continue\n",
    "    if not \"A.one.change_regress.epoch-77.pth\" in file.name:\n",
    "        continue\n",
    "    print(file)\n",
    "    df = pd.read_csv(file)\n",
    "    df[\"scores\"] = df[\"scores\"].apply(lambda row: eval(row))\n",
    "    df[\"scores\"] = df[\"scores\"].apply(lambda row: sum([(i+1)*v for i, v in enumerate(row)]))\n",
    "    df[\"img\"] = df[\"img\"].apply(lambda row: Path(row).name)\n",
    "    df = df[df[\"img\"].str.contains(\"_\")]\n",
    "\n",
    "    df[\"img_id\"] = df[\"img\"].apply(lambda row: int(row.split(\"_\")[0][1:]))\n",
    "    df[\"dist_id\"] = df[\"img\"].apply(lambda row: int(row.split(\"_\")[1]))\n",
    "    df[\"intens_id\"] = df[\"img\"].apply(lambda row: int(Path(row).stem.split(\"_\")[2]))\n",
    "\n",
    "    df = df.sort_values(by=[\"img_id\", \"dist_id\", \"intens_id\"])\n",
    "    df = df.reset_index()\n",
    "    \n",
    "    \n",
    "    df[[\"scores\", \"img\"]].to_csv(str(file).replace(\".\", \"-\"), sep=\" \", index=False)"
   ]
  },
  {
   "cell_type": "code",
   "execution_count": 35,
   "metadata": {},
   "outputs": [
    {
     "output_type": "stream",
     "name": "stdout",
     "text": [
      "/home/stud/pfister/eclipse-workspace/NIAA/analysis/not_uploaded/IA2NIMA/AVA2TID/.scratch.ckpts.IA2NIMA.AVA.imagenet.epoch-149.pth.txt\n"
     ]
    }
   ],
   "source": [
    "for file in Path(\"/home/stud/pfister/eclipse-workspace/NIAA/analysis/not_uploaded/IA2NIMA/AVA2TID\").iterdir():\n",
    "    if \"-\" == file.name[0]:\n",
    "        continue\n",
    "    if not \"h.ckpts.IA2NIMA.AVA.imagenet.epoch-149.pth.txt\" in file.name:\n",
    "        continue\n",
    "    print(file)\n",
    "    df = pd.read_csv(file)\n",
    "    df[\"scores\"] = df[\"scores\"].apply(lambda row: eval(row))\n",
    "    df[\"scores\"] = df[\"scores\"].apply(lambda row: sum([(i+1)*v for i, v in enumerate(row)]))\n",
    "    df[\"img\"] = df[\"img\"].apply(lambda row: Path(row).name)\n",
    "    df = df[df[\"img\"].str.contains(\"_\")]\n",
    "\n",
    "    df[\"img_id\"] = df[\"img\"].apply(lambda row: int(row.split(\"_\")[0][1:]))\n",
    "    df[\"dist_id\"] = df[\"img\"].apply(lambda row: int(row.split(\"_\")[1]))\n",
    "    df[\"intens_id\"] = df[\"img\"].apply(lambda row: int(Path(row).stem.split(\"_\")[2]))\n",
    "\n",
    "    df = df.sort_values(by=[\"img_id\", \"dist_id\", \"intens_id\"])\n",
    "    df = df.reset_index()\n",
    "    \n",
    "    \n",
    "    df[[\"scores\", \"img\"]].to_csv(str(file).replace(\".\", \"-\"), sep=\" \", index=False)"
   ]
  },
  {
   "cell_type": "code",
   "execution_count": 12,
   "metadata": {},
   "outputs": [
    {
     "output_type": "execute_result",
     "data": {
      "text/plain": [
       "      index           img    scores  img_id  dist_id  intens_id\n",
       "0      2460  I01_01_1.bmp  5.276122       1        1          1\n",
       "1      2476  i01_01_2.bmp  5.240315       1        1          2\n",
       "2      2201  i01_01_3.bmp  5.198482       1        1          3\n",
       "3       826  i01_01_4.bmp  5.160865       1        1          4\n",
       "4      2591  i01_01_5.bmp  4.996292       1        1          5\n",
       "...     ...           ...       ...     ...      ...        ...\n",
       "2995   2522  i25_24_1.bmp  5.588447      25       24          1\n",
       "2996   2763  i25_24_2.bmp  5.554045      25       24          2\n",
       "2997    178  i25_24_3.bmp  5.481046      25       24          3\n",
       "2998   2291  i25_24_4.bmp  5.294298      25       24          4\n",
       "2999    500  i25_24_5.bmp  5.135102      25       24          5\n",
       "\n",
       "[3000 rows x 6 columns]"
      ],
      "text/html": "<div>\n<style scoped>\n    .dataframe tbody tr th:only-of-type {\n        vertical-align: middle;\n    }\n\n    .dataframe tbody tr th {\n        vertical-align: top;\n    }\n\n    .dataframe thead th {\n        text-align: right;\n    }\n</style>\n<table border=\"1\" class=\"dataframe\">\n  <thead>\n    <tr style=\"text-align: right;\">\n      <th></th>\n      <th>index</th>\n      <th>img</th>\n      <th>scores</th>\n      <th>img_id</th>\n      <th>dist_id</th>\n      <th>intens_id</th>\n    </tr>\n  </thead>\n  <tbody>\n    <tr>\n      <th>0</th>\n      <td>2460</td>\n      <td>I01_01_1.bmp</td>\n      <td>5.276122</td>\n      <td>1</td>\n      <td>1</td>\n      <td>1</td>\n    </tr>\n    <tr>\n      <th>1</th>\n      <td>2476</td>\n      <td>i01_01_2.bmp</td>\n      <td>5.240315</td>\n      <td>1</td>\n      <td>1</td>\n      <td>2</td>\n    </tr>\n    <tr>\n      <th>2</th>\n      <td>2201</td>\n      <td>i01_01_3.bmp</td>\n      <td>5.198482</td>\n      <td>1</td>\n      <td>1</td>\n      <td>3</td>\n    </tr>\n    <tr>\n      <th>3</th>\n      <td>826</td>\n      <td>i01_01_4.bmp</td>\n      <td>5.160865</td>\n      <td>1</td>\n      <td>1</td>\n      <td>4</td>\n    </tr>\n    <tr>\n      <th>4</th>\n      <td>2591</td>\n      <td>i01_01_5.bmp</td>\n      <td>4.996292</td>\n      <td>1</td>\n      <td>1</td>\n      <td>5</td>\n    </tr>\n    <tr>\n      <th>...</th>\n      <td>...</td>\n      <td>...</td>\n      <td>...</td>\n      <td>...</td>\n      <td>...</td>\n      <td>...</td>\n    </tr>\n    <tr>\n      <th>2995</th>\n      <td>2522</td>\n      <td>i25_24_1.bmp</td>\n      <td>5.588447</td>\n      <td>25</td>\n      <td>24</td>\n      <td>1</td>\n    </tr>\n    <tr>\n      <th>2996</th>\n      <td>2763</td>\n      <td>i25_24_2.bmp</td>\n      <td>5.554045</td>\n      <td>25</td>\n      <td>24</td>\n      <td>2</td>\n    </tr>\n    <tr>\n      <th>2997</th>\n      <td>178</td>\n      <td>i25_24_3.bmp</td>\n      <td>5.481046</td>\n      <td>25</td>\n      <td>24</td>\n      <td>3</td>\n    </tr>\n    <tr>\n      <th>2998</th>\n      <td>2291</td>\n      <td>i25_24_4.bmp</td>\n      <td>5.294298</td>\n      <td>25</td>\n      <td>24</td>\n      <td>4</td>\n    </tr>\n    <tr>\n      <th>2999</th>\n      <td>500</td>\n      <td>i25_24_5.bmp</td>\n      <td>5.135102</td>\n      <td>25</td>\n      <td>24</td>\n      <td>5</td>\n    </tr>\n  </tbody>\n</table>\n<p>3000 rows × 6 columns</p>\n</div>"
     },
     "metadata": {},
     "execution_count": 12
    }
   ],
   "source": [
    "df"
   ]
  },
  {
   "cell_type": "code",
   "execution_count": 50,
   "metadata": {},
   "outputs": [
    {
     "output_type": "error",
     "ename": "ValueError",
     "evalue": "invalid literal for int() with base 10: '06.BMP'",
     "traceback": [
      "\u001b[0;31m---------------------------------------------------------------------------\u001b[0m",
      "\u001b[0;31mValueError\u001b[0m                                Traceback (most recent call last)",
      "\u001b[0;32m<ipython-input-50-446dee87a2dc>\u001b[0m in \u001b[0;36m<module>\u001b[0;34m\u001b[0m\n\u001b[0;32m----> 1\u001b[0;31m \u001b[0mdf\u001b[0m\u001b[0;34m[\u001b[0m\u001b[0;34m\"img_id\"\u001b[0m\u001b[0;34m]\u001b[0m \u001b[0;34m=\u001b[0m \u001b[0mdf\u001b[0m\u001b[0;34m[\u001b[0m\u001b[0;34m\"img\"\u001b[0m\u001b[0;34m]\u001b[0m\u001b[0;34m.\u001b[0m\u001b[0mapply\u001b[0m\u001b[0;34m(\u001b[0m\u001b[0;32mlambda\u001b[0m \u001b[0mrow\u001b[0m\u001b[0;34m:\u001b[0m \u001b[0mint\u001b[0m\u001b[0;34m(\u001b[0m\u001b[0mrow\u001b[0m\u001b[0;34m.\u001b[0m\u001b[0msplit\u001b[0m\u001b[0;34m(\u001b[0m\u001b[0;34m\"_\"\u001b[0m\u001b[0;34m)\u001b[0m\u001b[0;34m[\u001b[0m\u001b[0;36m0\u001b[0m\u001b[0;34m]\u001b[0m\u001b[0;34m[\u001b[0m\u001b[0;36m1\u001b[0m\u001b[0;34m:\u001b[0m\u001b[0;34m]\u001b[0m\u001b[0;34m)\u001b[0m\u001b[0;34m)\u001b[0m\u001b[0;34m\u001b[0m\u001b[0;34m\u001b[0m\u001b[0m\n\u001b[0m\u001b[1;32m      2\u001b[0m \u001b[0mdf\u001b[0m\u001b[0;34m[\u001b[0m\u001b[0;34m\"dist_id\"\u001b[0m\u001b[0;34m]\u001b[0m \u001b[0;34m=\u001b[0m \u001b[0mdf\u001b[0m\u001b[0;34m[\u001b[0m\u001b[0;34m\"img\"\u001b[0m\u001b[0;34m]\u001b[0m\u001b[0;34m.\u001b[0m\u001b[0mapply\u001b[0m\u001b[0;34m(\u001b[0m\u001b[0;32mlambda\u001b[0m \u001b[0mrow\u001b[0m\u001b[0;34m:\u001b[0m \u001b[0mint\u001b[0m\u001b[0;34m(\u001b[0m\u001b[0mrow\u001b[0m\u001b[0;34m.\u001b[0m\u001b[0msplit\u001b[0m\u001b[0;34m(\u001b[0m\u001b[0;34m\"_\"\u001b[0m\u001b[0;34m)\u001b[0m\u001b[0;34m[\u001b[0m\u001b[0;36m1\u001b[0m\u001b[0;34m]\u001b[0m\u001b[0;34m)\u001b[0m\u001b[0;34m)\u001b[0m\u001b[0;34m\u001b[0m\u001b[0;34m\u001b[0m\u001b[0m\n\u001b[1;32m      3\u001b[0m \u001b[0mdf\u001b[0m\u001b[0;34m[\u001b[0m\u001b[0;34m\"intens_id\"\u001b[0m\u001b[0;34m]\u001b[0m \u001b[0;34m=\u001b[0m \u001b[0mdf\u001b[0m\u001b[0;34m[\u001b[0m\u001b[0;34m\"img\"\u001b[0m\u001b[0;34m]\u001b[0m\u001b[0;34m.\u001b[0m\u001b[0mapply\u001b[0m\u001b[0;34m(\u001b[0m\u001b[0;32mlambda\u001b[0m \u001b[0mrow\u001b[0m\u001b[0;34m:\u001b[0m \u001b[0mint\u001b[0m\u001b[0;34m(\u001b[0m\u001b[0mPath\u001b[0m\u001b[0;34m(\u001b[0m\u001b[0mrow\u001b[0m\u001b[0;34m)\u001b[0m\u001b[0;34m.\u001b[0m\u001b[0mstem\u001b[0m\u001b[0;34m.\u001b[0m\u001b[0msplit\u001b[0m\u001b[0;34m(\u001b[0m\u001b[0;34m\"_\"\u001b[0m\u001b[0;34m)\u001b[0m\u001b[0;34m[\u001b[0m\u001b[0;36m2\u001b[0m\u001b[0;34m]\u001b[0m\u001b[0;34m)\u001b[0m\u001b[0;34m)\u001b[0m\u001b[0;34m\u001b[0m\u001b[0;34m\u001b[0m\u001b[0m\n\u001b[1;32m      4\u001b[0m \u001b[0;34m\u001b[0m\u001b[0m\n\u001b[1;32m      5\u001b[0m \u001b[0mdf\u001b[0m \u001b[0;34m=\u001b[0m \u001b[0mdf\u001b[0m\u001b[0;34m.\u001b[0m\u001b[0msort_values\u001b[0m\u001b[0;34m(\u001b[0m\u001b[0mby\u001b[0m\u001b[0;34m=\u001b[0m\u001b[0;34m[\u001b[0m\u001b[0;34m\"img_id\"\u001b[0m\u001b[0;34m,\u001b[0m \u001b[0;34m\"dist_id\"\u001b[0m\u001b[0;34m,\u001b[0m \u001b[0;34m\"intens_id\"\u001b[0m\u001b[0;34m]\u001b[0m\u001b[0;34m)\u001b[0m\u001b[0;34m\u001b[0m\u001b[0;34m\u001b[0m\u001b[0m\n",
      "\u001b[0;32m~/eclipse-workspace/NIAA/venv/lib64/python3.6/site-packages/pandas/core/series.py\u001b[0m in \u001b[0;36mapply\u001b[0;34m(self, func, convert_dtype, args, **kwds)\u001b[0m\n\u001b[1;32m   3846\u001b[0m             \u001b[0;32melse\u001b[0m\u001b[0;34m:\u001b[0m\u001b[0;34m\u001b[0m\u001b[0;34m\u001b[0m\u001b[0m\n\u001b[1;32m   3847\u001b[0m                 \u001b[0mvalues\u001b[0m \u001b[0;34m=\u001b[0m \u001b[0mself\u001b[0m\u001b[0;34m.\u001b[0m\u001b[0mastype\u001b[0m\u001b[0;34m(\u001b[0m\u001b[0mobject\u001b[0m\u001b[0;34m)\u001b[0m\u001b[0;34m.\u001b[0m\u001b[0mvalues\u001b[0m\u001b[0;34m\u001b[0m\u001b[0;34m\u001b[0m\u001b[0m\n\u001b[0;32m-> 3848\u001b[0;31m                 \u001b[0mmapped\u001b[0m \u001b[0;34m=\u001b[0m \u001b[0mlib\u001b[0m\u001b[0;34m.\u001b[0m\u001b[0mmap_infer\u001b[0m\u001b[0;34m(\u001b[0m\u001b[0mvalues\u001b[0m\u001b[0;34m,\u001b[0m \u001b[0mf\u001b[0m\u001b[0;34m,\u001b[0m \u001b[0mconvert\u001b[0m\u001b[0;34m=\u001b[0m\u001b[0mconvert_dtype\u001b[0m\u001b[0;34m)\u001b[0m\u001b[0;34m\u001b[0m\u001b[0;34m\u001b[0m\u001b[0m\n\u001b[0m\u001b[1;32m   3849\u001b[0m \u001b[0;34m\u001b[0m\u001b[0m\n\u001b[1;32m   3850\u001b[0m         \u001b[0;32mif\u001b[0m \u001b[0mlen\u001b[0m\u001b[0;34m(\u001b[0m\u001b[0mmapped\u001b[0m\u001b[0;34m)\u001b[0m \u001b[0;32mand\u001b[0m \u001b[0misinstance\u001b[0m\u001b[0;34m(\u001b[0m\u001b[0mmapped\u001b[0m\u001b[0;34m[\u001b[0m\u001b[0;36m0\u001b[0m\u001b[0;34m]\u001b[0m\u001b[0;34m,\u001b[0m \u001b[0mSeries\u001b[0m\u001b[0;34m)\u001b[0m\u001b[0;34m:\u001b[0m\u001b[0;34m\u001b[0m\u001b[0;34m\u001b[0m\u001b[0m\n",
      "\u001b[0;32mpandas/_libs/lib.pyx\u001b[0m in \u001b[0;36mpandas._libs.lib.map_infer\u001b[0;34m()\u001b[0m\n",
      "\u001b[0;32m<ipython-input-50-446dee87a2dc>\u001b[0m in \u001b[0;36m<lambda>\u001b[0;34m(row)\u001b[0m\n\u001b[0;32m----> 1\u001b[0;31m \u001b[0mdf\u001b[0m\u001b[0;34m[\u001b[0m\u001b[0;34m\"img_id\"\u001b[0m\u001b[0;34m]\u001b[0m \u001b[0;34m=\u001b[0m \u001b[0mdf\u001b[0m\u001b[0;34m[\u001b[0m\u001b[0;34m\"img\"\u001b[0m\u001b[0;34m]\u001b[0m\u001b[0;34m.\u001b[0m\u001b[0mapply\u001b[0m\u001b[0;34m(\u001b[0m\u001b[0;32mlambda\u001b[0m \u001b[0mrow\u001b[0m\u001b[0;34m:\u001b[0m \u001b[0mint\u001b[0m\u001b[0;34m(\u001b[0m\u001b[0mrow\u001b[0m\u001b[0;34m.\u001b[0m\u001b[0msplit\u001b[0m\u001b[0;34m(\u001b[0m\u001b[0;34m\"_\"\u001b[0m\u001b[0;34m)\u001b[0m\u001b[0;34m[\u001b[0m\u001b[0;36m0\u001b[0m\u001b[0;34m]\u001b[0m\u001b[0;34m[\u001b[0m\u001b[0;36m1\u001b[0m\u001b[0;34m:\u001b[0m\u001b[0;34m]\u001b[0m\u001b[0;34m)\u001b[0m\u001b[0;34m)\u001b[0m\u001b[0;34m\u001b[0m\u001b[0;34m\u001b[0m\u001b[0m\n\u001b[0m\u001b[1;32m      2\u001b[0m \u001b[0mdf\u001b[0m\u001b[0;34m[\u001b[0m\u001b[0;34m\"dist_id\"\u001b[0m\u001b[0;34m]\u001b[0m \u001b[0;34m=\u001b[0m \u001b[0mdf\u001b[0m\u001b[0;34m[\u001b[0m\u001b[0;34m\"img\"\u001b[0m\u001b[0;34m]\u001b[0m\u001b[0;34m.\u001b[0m\u001b[0mapply\u001b[0m\u001b[0;34m(\u001b[0m\u001b[0;32mlambda\u001b[0m \u001b[0mrow\u001b[0m\u001b[0;34m:\u001b[0m \u001b[0mint\u001b[0m\u001b[0;34m(\u001b[0m\u001b[0mrow\u001b[0m\u001b[0;34m.\u001b[0m\u001b[0msplit\u001b[0m\u001b[0;34m(\u001b[0m\u001b[0;34m\"_\"\u001b[0m\u001b[0;34m)\u001b[0m\u001b[0;34m[\u001b[0m\u001b[0;36m1\u001b[0m\u001b[0;34m]\u001b[0m\u001b[0;34m)\u001b[0m\u001b[0;34m)\u001b[0m\u001b[0;34m\u001b[0m\u001b[0;34m\u001b[0m\u001b[0m\n\u001b[1;32m      3\u001b[0m \u001b[0mdf\u001b[0m\u001b[0;34m[\u001b[0m\u001b[0;34m\"intens_id\"\u001b[0m\u001b[0;34m]\u001b[0m \u001b[0;34m=\u001b[0m \u001b[0mdf\u001b[0m\u001b[0;34m[\u001b[0m\u001b[0;34m\"img\"\u001b[0m\u001b[0;34m]\u001b[0m\u001b[0;34m.\u001b[0m\u001b[0mapply\u001b[0m\u001b[0;34m(\u001b[0m\u001b[0;32mlambda\u001b[0m \u001b[0mrow\u001b[0m\u001b[0;34m:\u001b[0m \u001b[0mint\u001b[0m\u001b[0;34m(\u001b[0m\u001b[0mPath\u001b[0m\u001b[0;34m(\u001b[0m\u001b[0mrow\u001b[0m\u001b[0;34m)\u001b[0m\u001b[0;34m.\u001b[0m\u001b[0mstem\u001b[0m\u001b[0;34m.\u001b[0m\u001b[0msplit\u001b[0m\u001b[0;34m(\u001b[0m\u001b[0;34m\"_\"\u001b[0m\u001b[0;34m)\u001b[0m\u001b[0;34m[\u001b[0m\u001b[0;36m2\u001b[0m\u001b[0;34m]\u001b[0m\u001b[0;34m)\u001b[0m\u001b[0;34m)\u001b[0m\u001b[0;34m\u001b[0m\u001b[0;34m\u001b[0m\u001b[0m\n\u001b[1;32m      4\u001b[0m \u001b[0;34m\u001b[0m\u001b[0m\n\u001b[1;32m      5\u001b[0m \u001b[0mdf\u001b[0m \u001b[0;34m=\u001b[0m \u001b[0mdf\u001b[0m\u001b[0;34m.\u001b[0m\u001b[0msort_values\u001b[0m\u001b[0;34m(\u001b[0m\u001b[0mby\u001b[0m\u001b[0;34m=\u001b[0m\u001b[0;34m[\u001b[0m\u001b[0;34m\"img_id\"\u001b[0m\u001b[0;34m,\u001b[0m \u001b[0;34m\"dist_id\"\u001b[0m\u001b[0;34m,\u001b[0m \u001b[0;34m\"intens_id\"\u001b[0m\u001b[0;34m]\u001b[0m\u001b[0;34m)\u001b[0m\u001b[0;34m\u001b[0m\u001b[0;34m\u001b[0m\u001b[0m\n",
      "\u001b[0;31mValueError\u001b[0m: invalid literal for int() with base 10: '06.BMP'"
     ]
    }
   ],
   "source": [
    "df[\"img_id\"] = df[\"img\"].apply(lambda row: int(row.split(\"_\")[0][1:]))\n",
    "df[\"dist_id\"] = df[\"img\"].apply(lambda row: int(row.split(\"_\")[1]))\n",
    "df[\"intens_id\"] = df[\"img\"].apply(lambda row: int(Path(row).stem.split(\"_\")[2]))\n",
    "\n",
    "df = df.sort_values(by=[\"img_id\", \"dist_id\", \"intens_id\"])"
   ]
  },
  {
   "cell_type": "code",
   "execution_count": 37,
   "metadata": {},
   "outputs": [
    {
     "output_type": "execute_result",
     "data": {
      "text/plain": [
       "      index           img  imagenet  img_id  dist_id  intens_id\n",
       "0      2460  I01_01_1.bmp  5.276122       1        1          1\n",
       "1      2476  i01_01_2.bmp  5.240315       1        1          2\n",
       "2      2201  i01_01_3.bmp  5.198482       1        1          3\n",
       "3       826  i01_01_4.bmp  5.160865       1        1          4\n",
       "4      2591  i01_01_5.bmp  4.996292       1        1          5\n",
       "...     ...           ...       ...     ...      ...        ...\n",
       "2995   2522  i25_24_1.bmp  5.588447      25       24          1\n",
       "2996   2763  i25_24_2.bmp  5.554045      25       24          2\n",
       "2997    178  i25_24_3.bmp  5.481046      25       24          3\n",
       "2998   2291  i25_24_4.bmp  5.294298      25       24          4\n",
       "2999    500  i25_24_5.bmp  5.135102      25       24          5\n",
       "\n",
       "[3000 rows x 6 columns]"
      ],
      "text/html": "<div>\n<style scoped>\n    .dataframe tbody tr th:only-of-type {\n        vertical-align: middle;\n    }\n\n    .dataframe tbody tr th {\n        vertical-align: top;\n    }\n\n    .dataframe thead th {\n        text-align: right;\n    }\n</style>\n<table border=\"1\" class=\"dataframe\">\n  <thead>\n    <tr style=\"text-align: right;\">\n      <th></th>\n      <th>index</th>\n      <th>img</th>\n      <th>imagenet</th>\n      <th>img_id</th>\n      <th>dist_id</th>\n      <th>intens_id</th>\n    </tr>\n  </thead>\n  <tbody>\n    <tr>\n      <th>0</th>\n      <td>2460</td>\n      <td>I01_01_1.bmp</td>\n      <td>5.276122</td>\n      <td>1</td>\n      <td>1</td>\n      <td>1</td>\n    </tr>\n    <tr>\n      <th>1</th>\n      <td>2476</td>\n      <td>i01_01_2.bmp</td>\n      <td>5.240315</td>\n      <td>1</td>\n      <td>1</td>\n      <td>2</td>\n    </tr>\n    <tr>\n      <th>2</th>\n      <td>2201</td>\n      <td>i01_01_3.bmp</td>\n      <td>5.198482</td>\n      <td>1</td>\n      <td>1</td>\n      <td>3</td>\n    </tr>\n    <tr>\n      <th>3</th>\n      <td>826</td>\n      <td>i01_01_4.bmp</td>\n      <td>5.160865</td>\n      <td>1</td>\n      <td>1</td>\n      <td>4</td>\n    </tr>\n    <tr>\n      <th>4</th>\n      <td>2591</td>\n      <td>i01_01_5.bmp</td>\n      <td>4.996292</td>\n      <td>1</td>\n      <td>1</td>\n      <td>5</td>\n    </tr>\n    <tr>\n      <th>...</th>\n      <td>...</td>\n      <td>...</td>\n      <td>...</td>\n      <td>...</td>\n      <td>...</td>\n      <td>...</td>\n    </tr>\n    <tr>\n      <th>2995</th>\n      <td>2522</td>\n      <td>i25_24_1.bmp</td>\n      <td>5.588447</td>\n      <td>25</td>\n      <td>24</td>\n      <td>1</td>\n    </tr>\n    <tr>\n      <th>2996</th>\n      <td>2763</td>\n      <td>i25_24_2.bmp</td>\n      <td>5.554045</td>\n      <td>25</td>\n      <td>24</td>\n      <td>2</td>\n    </tr>\n    <tr>\n      <th>2997</th>\n      <td>178</td>\n      <td>i25_24_3.bmp</td>\n      <td>5.481046</td>\n      <td>25</td>\n      <td>24</td>\n      <td>3</td>\n    </tr>\n    <tr>\n      <th>2998</th>\n      <td>2291</td>\n      <td>i25_24_4.bmp</td>\n      <td>5.294298</td>\n      <td>25</td>\n      <td>24</td>\n      <td>4</td>\n    </tr>\n    <tr>\n      <th>2999</th>\n      <td>500</td>\n      <td>i25_24_5.bmp</td>\n      <td>5.135102</td>\n      <td>25</td>\n      <td>24</td>\n      <td>5</td>\n    </tr>\n  </tbody>\n</table>\n<p>3000 rows × 6 columns</p>\n</div>"
     },
     "metadata": {},
     "execution_count": 37
    }
   ],
   "source": [
    "df.rename(columns={\"scores\":\"imagenet\"})"
   ]
  },
  {
   "cell_type": "code",
   "execution_count": 13,
   "metadata": {},
   "outputs": [
    {
     "output_type": "execute_result",
     "data": {
      "text/plain": [
       "      MOSscore           img\n",
       "0      5.51429  I01_01_1.bmp\n",
       "1      5.56757  i01_01_2.bmp\n",
       "2      4.94444  i01_01_3.bmp\n",
       "3      4.37838  i01_01_4.bmp\n",
       "4      3.86486  i01_01_5.bmp\n",
       "...        ...           ...\n",
       "2995   5.65714  i25_24_1.bmp\n",
       "2996   5.44444  i25_24_2.bmp\n",
       "2997   4.62857  i25_24_3.bmp\n",
       "2998   4.02778  i25_24_4.bmp\n",
       "2999   2.77143  i25_24_5.bmp\n",
       "\n",
       "[3000 rows x 2 columns]"
      ],
      "text/html": "<div>\n<style scoped>\n    .dataframe tbody tr th:only-of-type {\n        vertical-align: middle;\n    }\n\n    .dataframe tbody tr th {\n        vertical-align: top;\n    }\n\n    .dataframe thead th {\n        text-align: right;\n    }\n</style>\n<table border=\"1\" class=\"dataframe\">\n  <thead>\n    <tr style=\"text-align: right;\">\n      <th></th>\n      <th>MOSscore</th>\n      <th>img</th>\n    </tr>\n  </thead>\n  <tbody>\n    <tr>\n      <th>0</th>\n      <td>5.51429</td>\n      <td>I01_01_1.bmp</td>\n    </tr>\n    <tr>\n      <th>1</th>\n      <td>5.56757</td>\n      <td>i01_01_2.bmp</td>\n    </tr>\n    <tr>\n      <th>2</th>\n      <td>4.94444</td>\n      <td>i01_01_3.bmp</td>\n    </tr>\n    <tr>\n      <th>3</th>\n      <td>4.37838</td>\n      <td>i01_01_4.bmp</td>\n    </tr>\n    <tr>\n      <th>4</th>\n      <td>3.86486</td>\n      <td>i01_01_5.bmp</td>\n    </tr>\n    <tr>\n      <th>...</th>\n      <td>...</td>\n      <td>...</td>\n    </tr>\n    <tr>\n      <th>2995</th>\n      <td>5.65714</td>\n      <td>i25_24_1.bmp</td>\n    </tr>\n    <tr>\n      <th>2996</th>\n      <td>5.44444</td>\n      <td>i25_24_2.bmp</td>\n    </tr>\n    <tr>\n      <th>2997</th>\n      <td>4.62857</td>\n      <td>i25_24_3.bmp</td>\n    </tr>\n    <tr>\n      <th>2998</th>\n      <td>4.02778</td>\n      <td>i25_24_4.bmp</td>\n    </tr>\n    <tr>\n      <th>2999</th>\n      <td>2.77143</td>\n      <td>i25_24_5.bmp</td>\n    </tr>\n  </tbody>\n</table>\n<p>3000 rows × 2 columns</p>\n</div>"
     },
     "metadata": {},
     "execution_count": 13
    }
   ],
   "source": [
    "mos = pd.read_csv(\"analysis/not_uploaded/mos_with_names.txt\", sep=\" \")\n",
    "mos"
   ]
  },
  {
   "cell_type": "code",
   "execution_count": 40,
   "metadata": {},
   "outputs": [],
   "source": [
    "eval_df = eval_df.set_index(\"img\").join(df.rename(columns={\"scores\":\"imagenet\"}).set_index(\"img\")).reset_index()[[\"img\", \"scores\", \"MOSscore\",\"imagenet\"]]"
   ]
  },
  {
   "cell_type": "code",
   "execution_count": 31,
   "metadata": {},
   "outputs": [
    {
     "output_type": "execute_result",
     "data": {
      "text/plain": [
       "               img    scores  MOSscore\n",
       "0     I01_01_1.bmp  5.189932   5.51429\n",
       "1     i01_01_2.bmp  5.149770   5.56757\n",
       "2     i01_01_3.bmp  5.114090   4.94444\n",
       "3     i01_01_4.bmp  5.062696   4.37838\n",
       "4     i01_01_5.bmp  4.895939   3.86486\n",
       "...            ...       ...       ...\n",
       "2995  i25_24_1.bmp  5.489582   5.65714\n",
       "2996  i25_24_2.bmp  5.463418   5.44444\n",
       "2997  i25_24_3.bmp  5.427330   4.62857\n",
       "2998  i25_24_4.bmp  5.307732   4.02778\n",
       "2999  i25_24_5.bmp  5.125248   2.77143\n",
       "\n",
       "[3000 rows x 3 columns]"
      ],
      "text/html": "<div>\n<style scoped>\n    .dataframe tbody tr th:only-of-type {\n        vertical-align: middle;\n    }\n\n    .dataframe tbody tr th {\n        vertical-align: top;\n    }\n\n    .dataframe thead th {\n        text-align: right;\n    }\n</style>\n<table border=\"1\" class=\"dataframe\">\n  <thead>\n    <tr style=\"text-align: right;\">\n      <th></th>\n      <th>img</th>\n      <th>scores</th>\n      <th>MOSscore</th>\n    </tr>\n  </thead>\n  <tbody>\n    <tr>\n      <th>0</th>\n      <td>I01_01_1.bmp</td>\n      <td>5.189932</td>\n      <td>5.51429</td>\n    </tr>\n    <tr>\n      <th>1</th>\n      <td>i01_01_2.bmp</td>\n      <td>5.149770</td>\n      <td>5.56757</td>\n    </tr>\n    <tr>\n      <th>2</th>\n      <td>i01_01_3.bmp</td>\n      <td>5.114090</td>\n      <td>4.94444</td>\n    </tr>\n    <tr>\n      <th>3</th>\n      <td>i01_01_4.bmp</td>\n      <td>5.062696</td>\n      <td>4.37838</td>\n    </tr>\n    <tr>\n      <th>4</th>\n      <td>i01_01_5.bmp</td>\n      <td>4.895939</td>\n      <td>3.86486</td>\n    </tr>\n    <tr>\n      <th>...</th>\n      <td>...</td>\n      <td>...</td>\n      <td>...</td>\n    </tr>\n    <tr>\n      <th>2995</th>\n      <td>i25_24_1.bmp</td>\n      <td>5.489582</td>\n      <td>5.65714</td>\n    </tr>\n    <tr>\n      <th>2996</th>\n      <td>i25_24_2.bmp</td>\n      <td>5.463418</td>\n      <td>5.44444</td>\n    </tr>\n    <tr>\n      <th>2997</th>\n      <td>i25_24_3.bmp</td>\n      <td>5.427330</td>\n      <td>4.62857</td>\n    </tr>\n    <tr>\n      <th>2998</th>\n      <td>i25_24_4.bmp</td>\n      <td>5.307732</td>\n      <td>4.02778</td>\n    </tr>\n    <tr>\n      <th>2999</th>\n      <td>i25_24_5.bmp</td>\n      <td>5.125248</td>\n      <td>2.77143</td>\n    </tr>\n  </tbody>\n</table>\n<p>3000 rows × 3 columns</p>\n</div>"
     },
     "metadata": {},
     "execution_count": 31
    }
   ],
   "source": [
    "eval_df = df.set_index(\"img\").join(mos.set_index(\"img\")).reset_index()[[\"img\", \"scores\", \"MOSscore\"]]\n",
    "eval_df"
   ]
  },
  {
   "cell_type": "code",
   "execution_count": 28,
   "metadata": {},
   "outputs": [
    {
     "output_type": "execute_result",
     "data": {
      "text/plain": [
       "SpearmanrResult(correlation=0.3970668139516266, pvalue=7.377608487670482e-114)"
      ]
     },
     "metadata": {},
     "execution_count": 28
    }
   ],
   "source": [
    "stats.spearmanr(eval_df[\"MOSscore\"], eval_df[\"scores\"])"
   ]
  },
  {
   "cell_type": "code",
   "execution_count": 41,
   "metadata": {},
   "outputs": [],
   "source": [
    "eval_df[\"our_error\"] = eval_df.apply(lambda row: metrics.mean_squared_error([row.MOSscore], [row.scores]), axis=1)\n",
    "eval_df[\"imagenet_error\"] = eval_df.apply(lambda row: metrics.mean_squared_error([row.MOSscore], [row.imagenet]), axis=1)"
   ]
  },
  {
   "cell_type": "code",
   "execution_count": 42,
   "metadata": {},
   "outputs": [
    {
     "output_type": "execute_result",
     "data": {
      "text/plain": [
       "               img    scores  MOSscore  imagenet  our_error  imagenet_error\n",
       "0     I01_01_1.bmp  5.189932   5.51429  5.276122   0.105208        0.056724\n",
       "1     i01_01_2.bmp  5.149770   5.56757  5.240315   0.174557        0.107096\n",
       "2     i01_01_3.bmp  5.114090   4.94444  5.198482   0.028781        0.064537\n",
       "3     i01_01_4.bmp  5.062696   4.37838  5.160865   0.468288        0.612282\n",
       "4     i01_01_5.bmp  4.895939   3.86486  4.996292   1.063124        1.280139\n",
       "...            ...       ...       ...       ...        ...             ...\n",
       "2995  i25_24_1.bmp  5.489582   5.65714  5.588447   0.028076        0.004719\n",
       "2996  i25_24_2.bmp  5.463418   5.44444  5.554045   0.000360        0.012013\n",
       "2997  i25_24_3.bmp  5.427330   4.62857  5.481046   0.638018        0.726716\n",
       "2998  i25_24_4.bmp  5.307732   4.02778  5.294298   1.638276        1.604069\n",
       "2999  i25_24_5.bmp  5.125248   2.77143  5.135102   5.540460        5.586947\n",
       "\n",
       "[3000 rows x 6 columns]"
      ],
      "text/html": "<div>\n<style scoped>\n    .dataframe tbody tr th:only-of-type {\n        vertical-align: middle;\n    }\n\n    .dataframe tbody tr th {\n        vertical-align: top;\n    }\n\n    .dataframe thead th {\n        text-align: right;\n    }\n</style>\n<table border=\"1\" class=\"dataframe\">\n  <thead>\n    <tr style=\"text-align: right;\">\n      <th></th>\n      <th>img</th>\n      <th>scores</th>\n      <th>MOSscore</th>\n      <th>imagenet</th>\n      <th>our_error</th>\n      <th>imagenet_error</th>\n    </tr>\n  </thead>\n  <tbody>\n    <tr>\n      <th>0</th>\n      <td>I01_01_1.bmp</td>\n      <td>5.189932</td>\n      <td>5.51429</td>\n      <td>5.276122</td>\n      <td>0.105208</td>\n      <td>0.056724</td>\n    </tr>\n    <tr>\n      <th>1</th>\n      <td>i01_01_2.bmp</td>\n      <td>5.149770</td>\n      <td>5.56757</td>\n      <td>5.240315</td>\n      <td>0.174557</td>\n      <td>0.107096</td>\n    </tr>\n    <tr>\n      <th>2</th>\n      <td>i01_01_3.bmp</td>\n      <td>5.114090</td>\n      <td>4.94444</td>\n      <td>5.198482</td>\n      <td>0.028781</td>\n      <td>0.064537</td>\n    </tr>\n    <tr>\n      <th>3</th>\n      <td>i01_01_4.bmp</td>\n      <td>5.062696</td>\n      <td>4.37838</td>\n      <td>5.160865</td>\n      <td>0.468288</td>\n      <td>0.612282</td>\n    </tr>\n    <tr>\n      <th>4</th>\n      <td>i01_01_5.bmp</td>\n      <td>4.895939</td>\n      <td>3.86486</td>\n      <td>4.996292</td>\n      <td>1.063124</td>\n      <td>1.280139</td>\n    </tr>\n    <tr>\n      <th>...</th>\n      <td>...</td>\n      <td>...</td>\n      <td>...</td>\n      <td>...</td>\n      <td>...</td>\n      <td>...</td>\n    </tr>\n    <tr>\n      <th>2995</th>\n      <td>i25_24_1.bmp</td>\n      <td>5.489582</td>\n      <td>5.65714</td>\n      <td>5.588447</td>\n      <td>0.028076</td>\n      <td>0.004719</td>\n    </tr>\n    <tr>\n      <th>2996</th>\n      <td>i25_24_2.bmp</td>\n      <td>5.463418</td>\n      <td>5.44444</td>\n      <td>5.554045</td>\n      <td>0.000360</td>\n      <td>0.012013</td>\n    </tr>\n    <tr>\n      <th>2997</th>\n      <td>i25_24_3.bmp</td>\n      <td>5.427330</td>\n      <td>4.62857</td>\n      <td>5.481046</td>\n      <td>0.638018</td>\n      <td>0.726716</td>\n    </tr>\n    <tr>\n      <th>2998</th>\n      <td>i25_24_4.bmp</td>\n      <td>5.307732</td>\n      <td>4.02778</td>\n      <td>5.294298</td>\n      <td>1.638276</td>\n      <td>1.604069</td>\n    </tr>\n    <tr>\n      <th>2999</th>\n      <td>i25_24_5.bmp</td>\n      <td>5.125248</td>\n      <td>2.77143</td>\n      <td>5.135102</td>\n      <td>5.540460</td>\n      <td>5.586947</td>\n    </tr>\n  </tbody>\n</table>\n<p>3000 rows × 6 columns</p>\n</div>"
     },
     "metadata": {},
     "execution_count": 42
    }
   ],
   "source": [
    "eval_df"
   ]
  },
  {
   "cell_type": "code",
   "execution_count": 43,
   "metadata": {},
   "outputs": [],
   "source": [
    "from scipy.stats import wilcoxon"
   ]
  },
  {
   "cell_type": "code",
   "execution_count": 47,
   "metadata": {},
   "outputs": [
    {
     "output_type": "execute_result",
     "data": {
      "text/plain": [
       "WilcoxonResult(statistic=1910913.0, pvalue=7.915969816332169e-13)"
      ]
     },
     "metadata": {},
     "execution_count": 47
    }
   ],
   "source": [
    "wilcoxon(eval_df[\"our_error\"], eval_df[\"imagenet_error\"])"
   ]
  },
  {
   "cell_type": "code",
   "execution_count": 48,
   "metadata": {},
   "outputs": [],
   "source": [
    "eval_df[\"our_error\"] = eval_df.apply(lambda row: metrics.mean_absolute_error([row.MOSscore], [row.scores]), axis=1)\n",
    "eval_df[\"imagenet_error\"] = eval_df.apply(lambda row: metrics.mean_absolute_error([row.MOSscore], [row.imagenet]), axis=1)"
   ]
  },
  {
   "cell_type": "code",
   "execution_count": 49,
   "metadata": {},
   "outputs": [
    {
     "output_type": "execute_result",
     "data": {
      "text/plain": [
       "WilcoxonResult(statistic=1971041.0, pvalue=3.739793470771565e-09)"
      ]
     },
     "metadata": {},
     "execution_count": 49
    }
   ],
   "source": [
    "wilcoxon(eval_df[\"our_error\"], eval_df[\"imagenet_error\"])"
   ]
  },
  {
   "cell_type": "code",
   "execution_count": 45,
   "metadata": {},
   "outputs": [],
   "source": [
    "df[\"scores\"] = df[\"scores\"].apply(lambda row: eval(row))\n",
    "df[\"scores\"] = df[\"scores\"].apply(lambda row: sum([(i+1)*v for i, v in enumerate(row)]))\n",
    "df[\"img\"] = df[\"img\"].apply(lambda row: Path(row).name)\n",
    "df = df[[\"scores\", \"img\"]]"
   ]
  },
  {
   "cell_type": "code",
   "execution_count": 48,
   "metadata": {},
   "outputs": [
    {
     "output_type": "error",
     "ename": "ValueError",
     "evalue": "invalid literal for int() with base 10: '06.BMP'",
     "traceback": [
      "\u001b[0;31m---------------------------------------------------------------------------\u001b[0m",
      "\u001b[0;31mValueError\u001b[0m                                Traceback (most recent call last)",
      "\u001b[0;32m<ipython-input-48-f37ee2e4c3e9>\u001b[0m in \u001b[0;36m<module>\u001b[0;34m\u001b[0m\n\u001b[0;32m----> 1\u001b[0;31m \u001b[0mdf\u001b[0m\u001b[0;34m[\u001b[0m\u001b[0;34m\"img_id\"\u001b[0m\u001b[0;34m]\u001b[0m \u001b[0;34m=\u001b[0m \u001b[0mdf\u001b[0m\u001b[0;34m[\u001b[0m\u001b[0;34m\"img\"\u001b[0m\u001b[0;34m]\u001b[0m\u001b[0;34m.\u001b[0m\u001b[0mapply\u001b[0m\u001b[0;34m(\u001b[0m\u001b[0;32mlambda\u001b[0m \u001b[0mrow\u001b[0m\u001b[0;34m:\u001b[0m \u001b[0mint\u001b[0m\u001b[0;34m(\u001b[0m\u001b[0mrow\u001b[0m\u001b[0;34m.\u001b[0m\u001b[0msplit\u001b[0m\u001b[0;34m(\u001b[0m\u001b[0;34m\"_\"\u001b[0m\u001b[0;34m)\u001b[0m\u001b[0;34m[\u001b[0m\u001b[0;36m0\u001b[0m\u001b[0;34m]\u001b[0m\u001b[0;34m[\u001b[0m\u001b[0;36m1\u001b[0m\u001b[0;34m:\u001b[0m\u001b[0;34m]\u001b[0m\u001b[0;34m)\u001b[0m\u001b[0;34m)\u001b[0m\u001b[0;34m\u001b[0m\u001b[0;34m\u001b[0m\u001b[0m\n\u001b[0m\u001b[1;32m      2\u001b[0m \u001b[0mdf\u001b[0m\u001b[0;34m[\u001b[0m\u001b[0;34m\"dist_id\"\u001b[0m\u001b[0;34m]\u001b[0m \u001b[0;34m=\u001b[0m \u001b[0mdf\u001b[0m\u001b[0;34m[\u001b[0m\u001b[0;34m\"img\"\u001b[0m\u001b[0;34m]\u001b[0m\u001b[0;34m.\u001b[0m\u001b[0mapply\u001b[0m\u001b[0;34m(\u001b[0m\u001b[0;32mlambda\u001b[0m \u001b[0mrow\u001b[0m\u001b[0;34m:\u001b[0m \u001b[0mint\u001b[0m\u001b[0;34m(\u001b[0m\u001b[0mrow\u001b[0m\u001b[0;34m.\u001b[0m\u001b[0msplit\u001b[0m\u001b[0;34m(\u001b[0m\u001b[0;34m\"_\"\u001b[0m\u001b[0;34m)\u001b[0m\u001b[0;34m[\u001b[0m\u001b[0;36m1\u001b[0m\u001b[0;34m]\u001b[0m\u001b[0;34m)\u001b[0m\u001b[0;34m)\u001b[0m\u001b[0;34m\u001b[0m\u001b[0;34m\u001b[0m\u001b[0m\n\u001b[1;32m      3\u001b[0m \u001b[0mdf\u001b[0m\u001b[0;34m[\u001b[0m\u001b[0;34m\"intens_id\"\u001b[0m\u001b[0;34m]\u001b[0m \u001b[0;34m=\u001b[0m \u001b[0mdf\u001b[0m\u001b[0;34m[\u001b[0m\u001b[0;34m\"img\"\u001b[0m\u001b[0;34m]\u001b[0m\u001b[0;34m.\u001b[0m\u001b[0mapply\u001b[0m\u001b[0;34m(\u001b[0m\u001b[0;32mlambda\u001b[0m \u001b[0mrow\u001b[0m\u001b[0;34m:\u001b[0m \u001b[0mint\u001b[0m\u001b[0;34m(\u001b[0m\u001b[0mPath\u001b[0m\u001b[0;34m(\u001b[0m\u001b[0mrow\u001b[0m\u001b[0;34m)\u001b[0m\u001b[0;34m.\u001b[0m\u001b[0mstem\u001b[0m\u001b[0;34m.\u001b[0m\u001b[0msplit\u001b[0m\u001b[0;34m(\u001b[0m\u001b[0;34m\"_\"\u001b[0m\u001b[0;34m)\u001b[0m\u001b[0;34m[\u001b[0m\u001b[0;36m2\u001b[0m\u001b[0;34m]\u001b[0m\u001b[0;34m)\u001b[0m\u001b[0;34m)\u001b[0m\u001b[0;34m\u001b[0m\u001b[0;34m\u001b[0m\u001b[0m\n",
      "\u001b[0;32m~/eclipse-workspace/NIAA/venv/lib64/python3.6/site-packages/pandas/core/series.py\u001b[0m in \u001b[0;36mapply\u001b[0;34m(self, func, convert_dtype, args, **kwds)\u001b[0m\n\u001b[1;32m   3846\u001b[0m             \u001b[0;32melse\u001b[0m\u001b[0;34m:\u001b[0m\u001b[0;34m\u001b[0m\u001b[0;34m\u001b[0m\u001b[0m\n\u001b[1;32m   3847\u001b[0m                 \u001b[0mvalues\u001b[0m \u001b[0;34m=\u001b[0m \u001b[0mself\u001b[0m\u001b[0;34m.\u001b[0m\u001b[0mastype\u001b[0m\u001b[0;34m(\u001b[0m\u001b[0mobject\u001b[0m\u001b[0;34m)\u001b[0m\u001b[0;34m.\u001b[0m\u001b[0mvalues\u001b[0m\u001b[0;34m\u001b[0m\u001b[0;34m\u001b[0m\u001b[0m\n\u001b[0;32m-> 3848\u001b[0;31m                 \u001b[0mmapped\u001b[0m \u001b[0;34m=\u001b[0m \u001b[0mlib\u001b[0m\u001b[0;34m.\u001b[0m\u001b[0mmap_infer\u001b[0m\u001b[0;34m(\u001b[0m\u001b[0mvalues\u001b[0m\u001b[0;34m,\u001b[0m \u001b[0mf\u001b[0m\u001b[0;34m,\u001b[0m \u001b[0mconvert\u001b[0m\u001b[0;34m=\u001b[0m\u001b[0mconvert_dtype\u001b[0m\u001b[0;34m)\u001b[0m\u001b[0;34m\u001b[0m\u001b[0;34m\u001b[0m\u001b[0m\n\u001b[0m\u001b[1;32m   3849\u001b[0m \u001b[0;34m\u001b[0m\u001b[0m\n\u001b[1;32m   3850\u001b[0m         \u001b[0;32mif\u001b[0m \u001b[0mlen\u001b[0m\u001b[0;34m(\u001b[0m\u001b[0mmapped\u001b[0m\u001b[0;34m)\u001b[0m \u001b[0;32mand\u001b[0m \u001b[0misinstance\u001b[0m\u001b[0;34m(\u001b[0m\u001b[0mmapped\u001b[0m\u001b[0;34m[\u001b[0m\u001b[0;36m0\u001b[0m\u001b[0;34m]\u001b[0m\u001b[0;34m,\u001b[0m \u001b[0mSeries\u001b[0m\u001b[0;34m)\u001b[0m\u001b[0;34m:\u001b[0m\u001b[0;34m\u001b[0m\u001b[0;34m\u001b[0m\u001b[0m\n",
      "\u001b[0;32mpandas/_libs/lib.pyx\u001b[0m in \u001b[0;36mpandas._libs.lib.map_infer\u001b[0;34m()\u001b[0m\n",
      "\u001b[0;32m<ipython-input-48-f37ee2e4c3e9>\u001b[0m in \u001b[0;36m<lambda>\u001b[0;34m(row)\u001b[0m\n\u001b[0;32m----> 1\u001b[0;31m \u001b[0mdf\u001b[0m\u001b[0;34m[\u001b[0m\u001b[0;34m\"img_id\"\u001b[0m\u001b[0;34m]\u001b[0m \u001b[0;34m=\u001b[0m \u001b[0mdf\u001b[0m\u001b[0;34m[\u001b[0m\u001b[0;34m\"img\"\u001b[0m\u001b[0;34m]\u001b[0m\u001b[0;34m.\u001b[0m\u001b[0mapply\u001b[0m\u001b[0;34m(\u001b[0m\u001b[0;32mlambda\u001b[0m \u001b[0mrow\u001b[0m\u001b[0;34m:\u001b[0m \u001b[0mint\u001b[0m\u001b[0;34m(\u001b[0m\u001b[0mrow\u001b[0m\u001b[0;34m.\u001b[0m\u001b[0msplit\u001b[0m\u001b[0;34m(\u001b[0m\u001b[0;34m\"_\"\u001b[0m\u001b[0;34m)\u001b[0m\u001b[0;34m[\u001b[0m\u001b[0;36m0\u001b[0m\u001b[0;34m]\u001b[0m\u001b[0;34m[\u001b[0m\u001b[0;36m1\u001b[0m\u001b[0;34m:\u001b[0m\u001b[0;34m]\u001b[0m\u001b[0;34m)\u001b[0m\u001b[0;34m)\u001b[0m\u001b[0;34m\u001b[0m\u001b[0;34m\u001b[0m\u001b[0m\n\u001b[0m\u001b[1;32m      2\u001b[0m \u001b[0mdf\u001b[0m\u001b[0;34m[\u001b[0m\u001b[0;34m\"dist_id\"\u001b[0m\u001b[0;34m]\u001b[0m \u001b[0;34m=\u001b[0m \u001b[0mdf\u001b[0m\u001b[0;34m[\u001b[0m\u001b[0;34m\"img\"\u001b[0m\u001b[0;34m]\u001b[0m\u001b[0;34m.\u001b[0m\u001b[0mapply\u001b[0m\u001b[0;34m(\u001b[0m\u001b[0;32mlambda\u001b[0m \u001b[0mrow\u001b[0m\u001b[0;34m:\u001b[0m \u001b[0mint\u001b[0m\u001b[0;34m(\u001b[0m\u001b[0mrow\u001b[0m\u001b[0;34m.\u001b[0m\u001b[0msplit\u001b[0m\u001b[0;34m(\u001b[0m\u001b[0;34m\"_\"\u001b[0m\u001b[0;34m)\u001b[0m\u001b[0;34m[\u001b[0m\u001b[0;36m1\u001b[0m\u001b[0;34m]\u001b[0m\u001b[0;34m)\u001b[0m\u001b[0;34m)\u001b[0m\u001b[0;34m\u001b[0m\u001b[0;34m\u001b[0m\u001b[0m\n\u001b[1;32m      3\u001b[0m \u001b[0mdf\u001b[0m\u001b[0;34m[\u001b[0m\u001b[0;34m\"intens_id\"\u001b[0m\u001b[0;34m]\u001b[0m \u001b[0;34m=\u001b[0m \u001b[0mdf\u001b[0m\u001b[0;34m[\u001b[0m\u001b[0;34m\"img\"\u001b[0m\u001b[0;34m]\u001b[0m\u001b[0;34m.\u001b[0m\u001b[0mapply\u001b[0m\u001b[0;34m(\u001b[0m\u001b[0;32mlambda\u001b[0m \u001b[0mrow\u001b[0m\u001b[0;34m:\u001b[0m \u001b[0mint\u001b[0m\u001b[0;34m(\u001b[0m\u001b[0mPath\u001b[0m\u001b[0;34m(\u001b[0m\u001b[0mrow\u001b[0m\u001b[0;34m)\u001b[0m\u001b[0;34m.\u001b[0m\u001b[0mstem\u001b[0m\u001b[0;34m.\u001b[0m\u001b[0msplit\u001b[0m\u001b[0;34m(\u001b[0m\u001b[0;34m\"_\"\u001b[0m\u001b[0;34m)\u001b[0m\u001b[0;34m[\u001b[0m\u001b[0;36m2\u001b[0m\u001b[0;34m]\u001b[0m\u001b[0;34m)\u001b[0m\u001b[0;34m)\u001b[0m\u001b[0;34m\u001b[0m\u001b[0;34m\u001b[0m\u001b[0m\n",
      "\u001b[0;31mValueError\u001b[0m: invalid literal for int() with base 10: '06.BMP'"
     ]
    }
   ],
   "source": [
    "df[\"img_id\"] = df[\"img\"].apply(lambda row: int(row.split(\"_\")[0][1:]))\n",
    "df[\"dist_id\"] = df[\"img\"].apply(lambda row: int(row.split(\"_\")[1]))\n",
    "df[\"intens_id\"] = df[\"img\"].apply(lambda row: int(Path(row).stem.split(\"_\")[2]))"
   ]
  },
  {
   "cell_type": "code",
   "execution_count": 29,
   "metadata": {},
   "outputs": [
    {
     "output_type": "execute_result",
     "data": {
      "text/plain": [
       "      index           img    scores  img_id  dist_id  intens_id\n",
       "0      2460  I01_01_1.bmp  5.189932       1        1          1\n",
       "1      2476  i01_01_2.bmp  5.149770       1        1          2\n",
       "2      2201  i01_01_3.bmp  5.114090       1        1          3\n",
       "3       826  i01_01_4.bmp  5.062696       1        1          4\n",
       "4      2591  i01_01_5.bmp  4.895939       1        1          5\n",
       "...     ...           ...       ...     ...      ...        ...\n",
       "2995   2522  i25_24_1.bmp  5.489582      25       24          1\n",
       "2996   2763  i25_24_2.bmp  5.463418      25       24          2\n",
       "2997    178  i25_24_3.bmp  5.427330      25       24          3\n",
       "2998   2291  i25_24_4.bmp  5.307732      25       24          4\n",
       "2999    500  i25_24_5.bmp  5.125248      25       24          5\n",
       "\n",
       "[3000 rows x 6 columns]"
      ],
      "text/html": "<div>\n<style scoped>\n    .dataframe tbody tr th:only-of-type {\n        vertical-align: middle;\n    }\n\n    .dataframe tbody tr th {\n        vertical-align: top;\n    }\n\n    .dataframe thead th {\n        text-align: right;\n    }\n</style>\n<table border=\"1\" class=\"dataframe\">\n  <thead>\n    <tr style=\"text-align: right;\">\n      <th></th>\n      <th>index</th>\n      <th>img</th>\n      <th>scores</th>\n      <th>img_id</th>\n      <th>dist_id</th>\n      <th>intens_id</th>\n    </tr>\n  </thead>\n  <tbody>\n    <tr>\n      <th>0</th>\n      <td>2460</td>\n      <td>I01_01_1.bmp</td>\n      <td>5.189932</td>\n      <td>1</td>\n      <td>1</td>\n      <td>1</td>\n    </tr>\n    <tr>\n      <th>1</th>\n      <td>2476</td>\n      <td>i01_01_2.bmp</td>\n      <td>5.149770</td>\n      <td>1</td>\n      <td>1</td>\n      <td>2</td>\n    </tr>\n    <tr>\n      <th>2</th>\n      <td>2201</td>\n      <td>i01_01_3.bmp</td>\n      <td>5.114090</td>\n      <td>1</td>\n      <td>1</td>\n      <td>3</td>\n    </tr>\n    <tr>\n      <th>3</th>\n      <td>826</td>\n      <td>i01_01_4.bmp</td>\n      <td>5.062696</td>\n      <td>1</td>\n      <td>1</td>\n      <td>4</td>\n    </tr>\n    <tr>\n      <th>4</th>\n      <td>2591</td>\n      <td>i01_01_5.bmp</td>\n      <td>4.895939</td>\n      <td>1</td>\n      <td>1</td>\n      <td>5</td>\n    </tr>\n    <tr>\n      <th>...</th>\n      <td>...</td>\n      <td>...</td>\n      <td>...</td>\n      <td>...</td>\n      <td>...</td>\n      <td>...</td>\n    </tr>\n    <tr>\n      <th>2995</th>\n      <td>2522</td>\n      <td>i25_24_1.bmp</td>\n      <td>5.489582</td>\n      <td>25</td>\n      <td>24</td>\n      <td>1</td>\n    </tr>\n    <tr>\n      <th>2996</th>\n      <td>2763</td>\n      <td>i25_24_2.bmp</td>\n      <td>5.463418</td>\n      <td>25</td>\n      <td>24</td>\n      <td>2</td>\n    </tr>\n    <tr>\n      <th>2997</th>\n      <td>178</td>\n      <td>i25_24_3.bmp</td>\n      <td>5.427330</td>\n      <td>25</td>\n      <td>24</td>\n      <td>3</td>\n    </tr>\n    <tr>\n      <th>2998</th>\n      <td>2291</td>\n      <td>i25_24_4.bmp</td>\n      <td>5.307732</td>\n      <td>25</td>\n      <td>24</td>\n      <td>4</td>\n    </tr>\n    <tr>\n      <th>2999</th>\n      <td>500</td>\n      <td>i25_24_5.bmp</td>\n      <td>5.125248</td>\n      <td>25</td>\n      <td>24</td>\n      <td>5</td>\n    </tr>\n  </tbody>\n</table>\n<p>3000 rows × 6 columns</p>\n</div>"
     },
     "metadata": {},
     "execution_count": 29
    }
   ],
   "source": [
    "df"
   ]
  },
  {
   "cell_type": "code",
   "execution_count": null,
   "metadata": {},
   "outputs": [],
   "source": []
  }
 ]
}