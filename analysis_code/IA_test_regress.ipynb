{
 "cells": [
  {
   "cell_type": "code",
   "execution_count": null,
   "metadata": {
    "tags": []
   },
   "outputs": [],
   "source": [
    "import sys\n",
    "sys.path.insert(0, \"..\")\n",
    "\n",
    "import pandas as pd\n",
    "import matplotlib.pyplot as plt\n",
    "import seaborn as sns\n",
    "from IA.utils import mapping, parameter_range\n",
    "from scipy import stats\n",
    "import math\n",
    "plt.style.reload_library()\n",
    "plt.style.use(['science'])"
   ]
  },
  {
   "cell_type": "code",
   "execution_count": null,
   "metadata": {},
   "outputs": [],
   "source": [
    "!ls -lah analysis/not_uploaded/IA/ | grep regress"
   ]
  },
  {
   "cell_type": "code",
   "execution_count": null,
   "metadata": {
    "tags": []
   },
   "outputs": [],
   "source": [
    "df = pd.read_csv(\"analysis/not_uploaded/IA/.scratch.ckpts.IA.pexels.scores-one.change_regress.epoch-17.pth.txt\")\n",
    "#df = pd.read_csv(\"../analysis/not_uploaded/IA/.scratch.ckpts.IA.pexels.scores-None.change_regress.epoch-8.pth.txt\")\n",
    "\n",
    "#for col in df.columns:\n",
    "#    if not \"score\" in col:\n",
    "#        continue\n",
    "#    try:\n",
    "#        df[col] = df[col].apply(lambda row: row[0])\n",
    "#    except:\n",
    "#        pass\n",
    "print(df.columns)\n",
    "df"
   ]
  },
  {
   "cell_type": "code",
   "execution_count": null,
   "metadata": {},
   "outputs": [],
   "source": [
    "ren = dict()\n",
    "ren[\"level\"] = \"intensity\"\n",
    "for col in df.columns:\n",
    "    if \"_\" in col:\n",
    "        new = col.split(\"_\")\n",
    "        new = new[1] + \" \" + new[2]\n",
    "        ren[col] = new.replace(\"strength\", \"predicted\")\n",
    "df.rename(columns=ren, inplace=True)\n",
    "df"
   ]
  },
  {
   "cell_type": "code",
   "execution_count": null,
   "metadata": {},
   "outputs": [],
   "source": [
    "def violin_distortion(distortion:str, change:str):\n",
    "    plot_frame = df[(df[\"distortion\"] == distortion) | (df[\"distortion\"] == \"original\")]\n",
    "    if distortion in parameter_range:\n",
    "        plot_frame.loc[plot_frame[\"distortion\"] == \"original\", \"intensity\"] = parameter_range[distortion][\"default\"]\n",
    "    sns.violinplot(data=plot_frame, x=\"intensity\", y=change, color=\"steelblue\")\n",
    "    plt.ylim(-1, 1)"
   ]
  },
  {
   "cell_type": "code",
   "execution_count": null,
   "metadata": {},
   "outputs": [],
   "source": [
    "parameter_range.keys()"
   ]
  },
  {
   "cell_type": "code",
   "execution_count": null,
   "metadata": {},
   "outputs": [],
   "source": [
    "violin_distortion(\"brightness\", f\"brightness predicted\")\n",
    "plt.savefig(\"analysis/IA/regr_brightness.pdf\")"
   ]
  },
  {
   "cell_type": "code",
   "execution_count": null,
   "metadata": {},
   "outputs": [],
   "source": [
    "violin_distortion(\"brightness\", f\"contrast predicted\")\n",
    "plt.savefig(\"analysis/IA/regr_brightness_contrast.pdf\")"
   ]
  },
  {
   "cell_type": "code",
   "execution_count": null,
   "metadata": {},
   "outputs": [],
   "source": [
    "violin_distortion(\"contrast\", f\"brightness predicted\")\n",
    "plt.savefig(\"analysis/IA/regr_contrast_brightness.pdf\")"
   ]
  },
  {
   "cell_type": "code",
   "execution_count": null,
   "metadata": {},
   "outputs": [],
   "source": [
    "dist = \"jpeg_compression\"\n",
    "violin_distortion(dist, f\"technical_{dist}_strength\")"
   ]
  },
  {
   "cell_type": "code",
   "execution_count": null,
   "metadata": {},
   "outputs": [],
   "source": [
    "dist = \"hcrop\"\n",
    "violin_distortion(dist, f\"composition_{dist}_strength\")"
   ]
  },
  {
   "cell_type": "code",
   "execution_count": null,
   "metadata": {},
   "outputs": [],
   "source": [
    "def violin_original():\n",
    "    plot_frame = df[df[\"distortion\"] == \"original\"]\n",
    "    plot_frame = plot_frame[[col for col in df.columns if \"strength\" in col]]\n",
    "    sns.violinplot(data=plot_frame, color=\"steelblue\")\n",
    "    plt.ylim(-1, 1)\n",
    "    plt.gcf().set_size_inches(20,10)\n",
    "    plt.xticks(rotation=90)\n",
    "    plt.hlines(0, 0, len(plot_frame.columns)-1)"
   ]
  },
  {
   "cell_type": "code",
   "execution_count": null,
   "metadata": {},
   "outputs": [],
   "source": [
    "violin_original()"
   ]
  }
 ],
 "metadata": {
  "kernelspec": {
   "display_name": "NIAA",
   "language": "python",
   "name": "niaa"
  },
  "language_info": {
   "codemirror_mode": {
    "name": "ipython",
    "version": 3
   },
   "file_extension": ".py",
   "mimetype": "text/x-python",
   "name": "python",
   "nbconvert_exporter": "python",
   "pygments_lexer": "ipython3",
   "version": "3.8.6-final"
  }
 },
 "nbformat": 4,
 "nbformat_minor": 2
}
