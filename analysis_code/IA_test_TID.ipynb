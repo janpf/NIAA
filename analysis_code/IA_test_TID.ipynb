{
 "cells": [
  {
   "cell_type": "code",
   "execution_count": null,
   "metadata": {
    "tags": []
   },
   "outputs": [],
   "source": [
    "import pandas as pd\n",
    "import matplotlib.pyplot as plt\n",
    "import seaborn as sns\n",
    "from IA.utils import mapping, parameter_range\n",
    "from scipy import stats\n",
    "import math\n",
    "from pathlib import Path\n",
    "from sklearn.linear_model import LinearRegression\n",
    "from sklearn import svm"
   ]
  },
  {
   "cell_type": "code",
   "execution_count": null,
   "metadata": {
    "tags": []
   },
   "outputs": [],
   "source": [
    "df = pd.read_csv(\"analysis/not_uploaded/IA/TID/.scratch.ckpts.IA.pexels.scores-one.change_regress.epoch-9.pth.txt\")\n",
    "mos = pd.read_csv(\"analysis/not_uploaded/mos_with_names.txt\", sep=\" \")\n",
    "\n",
    "#df = df[df[\"img\"].str.contains(\"_\")]\n",
    "df[\"img\"] = df[\"img\"].apply(lambda row: Path(row).stem)\n",
    "df[\"img\"] = df[\"img\"].apply(lambda row: row.lower())\n",
    "df[\"img\"] = df[\"img\"].apply(lambda row: row.split(\".\")[0])\n",
    "df[\"img\"] = df[\"img\"].apply(lambda row: row if \"_\" in row else row+\"_00_0\")\n",
    "\n",
    "mos[\"img\"] = mos[\"img\"].apply(lambda row: row.lower())\n",
    "mos[\"img\"] = mos[\"img\"].apply(lambda row: row.split(\".\")[0])\n",
    "mos[\"img\"] = mos[\"img\"].apply(lambda row: row if \"_\" in row else row+\"_00_0\")\n",
    "\n",
    "\n",
    "df = df.set_index(\"img\").join(mos.set_index(\"img\"))\n",
    "df = pd.DataFrame(df.to_records())\n",
    "\n",
    "df[\"img_id\"] = df[\"img\"].apply(lambda row: int(row.split(\"_\")[0][1:]))\n",
    "df[\"distortion\"] = df[\"img\"].apply(lambda row: int(row.split(\"_\")[1]))\n",
    "df[\"dist_level\"] = df[\"img\"].apply(lambda row: int(row.split(\"_\")[2]))\n",
    "\n",
    "try:\n",
    "    df[\"score\"] = (df[\"styles_score\"] + df[\"technical_score\"] + df[\"composition_score\"])/3\n",
    "except:\n",
    "    pass\n",
    "df"
   ]
  },
  {
   "cell_type": "code",
   "execution_count": null,
   "metadata": {},
   "outputs": [],
   "source": [
    "def histogram_distortion(distortion:int, score:str):\n",
    "    plot_frame = df[(df[\"distortion\"] == distortion) | (df[\"distortion\"] == 0)]\n",
    "    for dist_level in range(6):\n",
    "        sns.distplot(plot_frame[(plot_frame[\"dist_level\"] == dist_level)][score], label=f\"{distortion}: {dist_level}\")\n",
    "    plt.legend()"
   ]
  },
  {
   "cell_type": "code",
   "execution_count": null,
   "metadata": {},
   "outputs": [],
   "source": [
    "def violin_distortion(distortion:int, score:str):\n",
    "    plot_frame = df[(df[\"distortion\"] == distortion) | (df[\"distortion\"] == 0)]\n",
    "    sns.violinplot(data=plot_frame, x=\"dist_level\", y=score, color=\"steelblue\")\n",
    "    plt.legend()"
   ]
  },
  {
   "cell_type": "code",
   "execution_count": null,
   "metadata": {},
   "outputs": [],
   "source": [
    "histogram_distortion(10, \"score\")"
   ]
  },
  {
   "cell_type": "code",
   "execution_count": null,
   "metadata": {},
   "outputs": [],
   "source": [
    "histogram_distortion(10, \"MOSscore\")"
   ]
  },
  {
   "cell_type": "code",
   "execution_count": null,
   "metadata": {},
   "outputs": [],
   "source": [
    "violin_distortion(10, \"score\")"
   ]
  },
  {
   "cell_type": "code",
   "execution_count": null,
   "metadata": {},
   "outputs": [],
   "source": [
    "violin_distortion(10, \"MOSscore\")"
   ]
  },
  {
   "cell_type": "code",
   "execution_count": null,
   "metadata": {},
   "outputs": [],
   "source": [
    "sns.kdeplot(x=df[\"MOSscore\"], y=df[\"score\"])"
   ]
  },
  {
   "cell_type": "code",
   "execution_count": null,
   "metadata": {},
   "outputs": [],
   "source": [
    "for dist in range(1, 25):\n",
    "    results = []\n",
    "    for img in range(1,26):\n",
    "        results.append(stats.spearmanr(df[(df[\"img_id\"] == img) & (df[\"distortion\"] == dist)][\"dist_level\"], df[(df[\"img_id\"] == img) & (df[\"distortion\"] == dist)][\"score\"]))\n",
    "    print(dist,\"\\t\", sum([val[0] for val in results])/len(results))"
   ]
  },
  {
   "cell_type": "code",
   "execution_count": null,
   "metadata": {},
   "outputs": [],
   "source": [
    "for dist in range(1, 25):\n",
    "    results = []\n",
    "    for img in range(1,26):\n",
    "        results.append(stats.spearmanr(df[(df[\"img_id\"] == img) & (df[\"distortion\"] == dist)][\"dist_level\"], df[(df[\"img_id\"] == img) & (df[\"distortion\"] == dist)][\"MOSscore\"]))\n",
    "    print(dist,\"\\t\", sum([val[0] for val in results])/len(results))"
   ]
  },
  {
   "cell_type": "code",
   "execution_count": null,
   "metadata": {},
   "outputs": [],
   "source": [
    "ranks = []\n",
    "for dist in range(1, 25):\n",
    "    results = []\n",
    "    for img in range(1,26):\n",
    "        results.append(stats.spearmanr(df[(df[\"img_id\"] == img) & (df[\"distortion\"] == dist)][\"MOSscore\"], df[(df[\"img_id\"] == img) & (df[\"distortion\"] == dist)][\"score\"]))\n",
    "    print(dist,\"\\t\", sum([val[0] for val in results])/len(results))\n",
    "    ranks.append(sum([val[0] for val in results])/len(results))\n",
    "print(\"avg\", \"\\t\", sum(ranks) / len(ranks))"
   ]
  },
  {
   "cell_type": "code",
   "execution_count": null,
   "metadata": {},
   "outputs": [],
   "source": [
    "stats.spearmanr(df[[\"MOSscore\", \"score\"]].dropna())"
   ]
  },
  {
   "cell_type": "code",
   "execution_count": null,
   "metadata": {},
   "outputs": [],
   "source": [
    "features = [c for c in df.columns if c not in [\"index\", \"img\", \"img_id\", \"distortion\", \"dist_level\"]]\n",
    "reg_df = df.dropna()\n",
    "train = reg_df[reg_df[\"img_id\"] <= 15].reset_index()[features]\n",
    "test = reg_df[reg_df[\"img_id\"] > 15].reset_index()[features]"
   ]
  },
  {
   "cell_type": "code",
   "execution_count": null,
   "metadata": {},
   "outputs": [],
   "source": [
    "reg = svm.NuSVR().fit(train.drop(columns=[\"MOSscore\"]), train[\"MOSscore\"])\n",
    "reg.score(train.drop(columns=[\"MOSscore\"]), train[\"MOSscore\"])"
   ]
  },
  {
   "cell_type": "code",
   "execution_count": null,
   "metadata": {},
   "outputs": [],
   "source": [
    "reg.score(test.drop(columns=[\"MOSscore\"]), test[\"MOSscore\"])"
   ]
  },
  {
   "cell_type": "code",
   "execution_count": null,
   "metadata": {},
   "outputs": [],
   "source": [
    "reg.predict(test.drop(columns=[\"MOSscore\"]))"
   ]
  },
  {
   "cell_type": "code",
   "execution_count": null,
   "metadata": {},
   "outputs": [],
   "source": [
    "stats.pearsonr(reg.predict(test.drop(columns=[\"MOSscore\"])), test[\"MOSscore\"])"
   ]
  },
  {
   "cell_type": "code",
   "execution_count": null,
   "metadata": {},
   "outputs": [],
   "source": [
    "sns.kdeplot(x=test[\"MOSscore\"], y=reg.predict(test.drop(columns=[\"MOSscore\"])))"
   ]
  },
  {
   "cell_type": "code",
   "execution_count": null,
   "metadata": {},
   "outputs": [],
   "source": [
    "df[~df[\"img\"].str.contains(\"00_0\")].sort_values(by=\"img\").reset_index()[[\"score\",\"img\"]].to_csv(\"analysis/not_uploaded/IA/TID/pred_scores\", index=False, sep=\" \")"
   ]
  },
  {
   "cell_type": "code",
   "execution_count": null,
   "metadata": {},
   "outputs": [],
   "source": []
  }
 ],
 "metadata": {
  "kernelspec": {
   "display_name": "Python 3.8.6 64-bit ('venv': venv)",
   "metadata": {
    "interpreter": {
     "hash": "73342ffb4f39afd09b383dcd177331173d9f4e4f229d5295da570a820709ffee"
    }
   },
   "name": "python3"
  },
  "language_info": {
   "codemirror_mode": {
    "name": "ipython",
    "version": 3
   },
   "file_extension": ".py",
   "mimetype": "text/x-python",
   "name": "python",
   "nbconvert_exporter": "python",
   "pygments_lexer": "ipython3",
   "version": "3.8.6-final"
  }
 },
 "nbformat": 4,
 "nbformat_minor": 2
}
