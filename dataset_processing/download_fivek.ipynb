{
 "metadata": {
  "language_info": {
   "codemirror_mode": {
    "name": "ipython",
    "version": 3
   },
   "file_extension": ".py",
   "mimetype": "text/x-python",
   "name": "python",
   "nbconvert_exporter": "python",
   "pygments_lexer": "ipython3",
   "version": "3.8.5-final"
  },
  "orig_nbformat": 2,
  "kernelspec": {
   "name": "Python 3.8.5 64-bit ('venv': venv)",
   "display_name": "Python 3.8.5 64-bit ('venv': venv)",
   "metadata": {
    "interpreter": {
     "hash": "73342ffb4f39afd09b383dcd177331173d9f4e4f229d5295da570a820709ffee"
    }
   }
  }
 },
 "nbformat": 4,
 "nbformat_minor": 2,
 "cells": [
  {
   "source": [
    "Sorry MIT for what I'm about todo, but I didn't find a way to access the edited images without purchasing Lightroom.\n",
    "\n",
    "Surely that isn't intended by adobe, is it?"
   ],
   "cell_type": "markdown",
   "metadata": {}
  },
  {
   "cell_type": "code",
   "execution_count": 29,
   "metadata": {},
   "outputs": [],
   "source": [
    "url = \"https://data.csail.mit.edu/graphics/fivek/\"\n",
    "base_path = \"/home/stud/pfister/scratch/NIAA/fivek\""
   ]
  },
  {
   "cell_type": "code",
   "execution_count": 25,
   "metadata": {},
   "outputs": [],
   "source": [
    "import requests\n",
    "from bs4 import BeautifulSoup, SoupStrainer\n",
    "from pathlib import Path"
   ]
  },
  {
   "cell_type": "code",
   "execution_count": 5,
   "metadata": {},
   "outputs": [],
   "source": [
    "response = requests.get(url)"
   ]
  },
  {
   "cell_type": "code",
   "execution_count": 14,
   "metadata": {
    "tags": []
   },
   "outputs": [],
   "source": [
    "imgs = []\n",
    "for link in BeautifulSoup(response.text, parse_only=SoupStrainer('a')):\n",
    "    if link.has_attr('href'):\n",
    "        imgs.append(link['href'])"
   ]
  },
  {
   "cell_type": "code",
   "execution_count": 23,
   "metadata": {},
   "outputs": [
    {
     "output_type": "execute_result",
     "data": {
      "text/plain": [
       "25000"
      ]
     },
     "metadata": {},
     "execution_count": 23
    }
   ],
   "source": [
    "imgs = [img for img in imgs if \"tif\" in img]\n",
    "imgs = [url + img for img in imgs]\n",
    "len([img for img in imgs if \"tif\" in img])"
   ]
  },
  {
   "cell_type": "code",
   "execution_count": 33,
   "metadata": {},
   "outputs": [
    {
     "output_type": "stream",
     "name": "stdout",
     "text": [
      "https://data.csail.mit.edu/graphics/fivek/img/tiff16_a/a0001-jmac_DSC1459.tif\n/home/stud/pfister/scratch/NIAA/fivek/tiff16_a/a0001-jmac_DSC1459.tif\n"
     ]
    }
   ],
   "source": [
    "# example\n",
    "print(imgs[0])\n",
    "print(Path(base_path) / imgs[0].split(\"/\")[-2] / imgs[0].split(\"/\")[-1])"
   ]
  },
  {
   "cell_type": "code",
   "execution_count": 44,
   "metadata": {},
   "outputs": [],
   "source": [
    "out_f = open(\"dataset_processing/fivek_down.sh\", \"w\")\n",
    "for img in imgs:\n",
    "    out_f.write(f\"curl -C - -so {Path(base_path) / img.split('/')[-2] / img.split('/')[-1]} {img}\\n\")\n",
    "out_f.flush()"
   ]
  },
  {
   "cell_type": "code",
   "execution_count": 42,
   "metadata": {},
   "outputs": [],
   "source": [
    "out_f = open(\"dataset_processing/fivek_down_test.sh\", \"w\")\n",
    "for img in imgs:\n",
    "    out_f.write(f\"echo {Path(base_path) / img.split('/')[-2] / img.split('/')[-1]}\\n\")\n",
    "out_f.flush()"
   ]
  },
  {
   "cell_type": "code",
   "execution_count": null,
   "metadata": {},
   "outputs": [],
   "source": []
  }
 ]
}